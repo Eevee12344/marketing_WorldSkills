{
 "cells": [
  {
   "cell_type": "markdown",
   "metadata": {},
   "source": [
    "Скачачиваем библиотеки"
   ]
  },
  {
   "cell_type": "code",
   "execution_count": 13,
   "metadata": {},
   "outputs": [
    {
     "name": "stdout",
     "output_type": "stream",
     "text": [
      "Requirement already satisfied: dash in ./.venv/lib/python3.11/site-packages (2.15.0)\n",
      "Requirement already satisfied: pandas in ./.venv/lib/python3.11/site-packages (2.2.1)\n",
      "Requirement already satisfied: Flask<3.1,>=1.0.4 in ./.venv/lib/python3.11/site-packages (from dash) (3.0.2)\n",
      "Requirement already satisfied: Werkzeug<3.1 in ./.venv/lib/python3.11/site-packages (from dash) (3.0.1)\n",
      "Requirement already satisfied: plotly>=5.0.0 in ./.venv/lib/python3.11/site-packages (from dash) (5.19.0)\n",
      "Requirement already satisfied: dash-html-components==2.0.0 in ./.venv/lib/python3.11/site-packages (from dash) (2.0.0)\n",
      "Requirement already satisfied: dash-core-components==2.0.0 in ./.venv/lib/python3.11/site-packages (from dash) (2.0.0)\n",
      "Requirement already satisfied: dash-table==5.0.0 in ./.venv/lib/python3.11/site-packages (from dash) (5.0.0)\n",
      "Requirement already satisfied: typing-extensions>=4.1.1 in ./.venv/lib/python3.11/site-packages (from dash) (4.10.0)\n",
      "Requirement already satisfied: requests in ./.venv/lib/python3.11/site-packages (from dash) (2.31.0)\n",
      "Requirement already satisfied: retrying in ./.venv/lib/python3.11/site-packages (from dash) (1.3.4)\n",
      "Requirement already satisfied: nest-asyncio in ./.venv/lib/python3.11/site-packages (from dash) (1.6.0)\n",
      "Requirement already satisfied: setuptools in ./.venv/lib/python3.11/site-packages (from dash) (65.5.0)\n",
      "Requirement already satisfied: importlib-metadata in ./.venv/lib/python3.11/site-packages (from dash) (7.0.1)\n",
      "Requirement already satisfied: numpy<2,>=1.23.2 in ./.venv/lib/python3.11/site-packages (from pandas) (1.26.4)\n",
      "Requirement already satisfied: python-dateutil>=2.8.2 in ./.venv/lib/python3.11/site-packages (from pandas) (2.8.2)\n",
      "Requirement already satisfied: pytz>=2020.1 in ./.venv/lib/python3.11/site-packages (from pandas) (2024.1)\n",
      "Requirement already satisfied: tzdata>=2022.7 in ./.venv/lib/python3.11/site-packages (from pandas) (2024.1)\n",
      "Requirement already satisfied: Jinja2>=3.1.2 in ./.venv/lib/python3.11/site-packages (from Flask<3.1,>=1.0.4->dash) (3.1.3)\n",
      "Requirement already satisfied: itsdangerous>=2.1.2 in ./.venv/lib/python3.11/site-packages (from Flask<3.1,>=1.0.4->dash) (2.1.2)\n",
      "Requirement already satisfied: click>=8.1.3 in ./.venv/lib/python3.11/site-packages (from Flask<3.1,>=1.0.4->dash) (8.1.7)\n",
      "Requirement already satisfied: blinker>=1.6.2 in ./.venv/lib/python3.11/site-packages (from Flask<3.1,>=1.0.4->dash) (1.7.0)\n",
      "Requirement already satisfied: tenacity>=6.2.0 in ./.venv/lib/python3.11/site-packages (from plotly>=5.0.0->dash) (8.2.3)\n",
      "Requirement already satisfied: packaging in ./.venv/lib/python3.11/site-packages (from plotly>=5.0.0->dash) (23.2)\n",
      "Requirement already satisfied: six>=1.5 in ./.venv/lib/python3.11/site-packages (from python-dateutil>=2.8.2->pandas) (1.16.0)\n",
      "Requirement already satisfied: MarkupSafe>=2.1.1 in ./.venv/lib/python3.11/site-packages (from Werkzeug<3.1->dash) (2.1.5)\n",
      "Requirement already satisfied: zipp>=0.5 in ./.venv/lib/python3.11/site-packages (from importlib-metadata->dash) (3.17.0)\n",
      "Requirement already satisfied: charset-normalizer<4,>=2 in ./.venv/lib/python3.11/site-packages (from requests->dash) (3.3.2)\n",
      "Requirement already satisfied: idna<4,>=2.5 in ./.venv/lib/python3.11/site-packages (from requests->dash) (3.6)\n",
      "Requirement already satisfied: urllib3<3,>=1.21.1 in ./.venv/lib/python3.11/site-packages (from requests->dash) (2.2.1)\n",
      "Requirement already satisfied: certifi>=2017.4.17 in ./.venv/lib/python3.11/site-packages (from requests->dash) (2024.2.2)\n",
      "Requirement already satisfied: seaborn in ./.venv/lib/python3.11/site-packages (0.13.2)\n",
      "Requirement already satisfied: numpy!=1.24.0,>=1.20 in ./.venv/lib/python3.11/site-packages (from seaborn) (1.26.4)\n",
      "Requirement already satisfied: pandas>=1.2 in ./.venv/lib/python3.11/site-packages (from seaborn) (2.2.1)\n",
      "Requirement already satisfied: matplotlib!=3.6.1,>=3.4 in ./.venv/lib/python3.11/site-packages (from seaborn) (3.8.3)\n",
      "Requirement already satisfied: contourpy>=1.0.1 in ./.venv/lib/python3.11/site-packages (from matplotlib!=3.6.1,>=3.4->seaborn) (1.2.0)\n",
      "Requirement already satisfied: cycler>=0.10 in ./.venv/lib/python3.11/site-packages (from matplotlib!=3.6.1,>=3.4->seaborn) (0.12.1)\n",
      "Requirement already satisfied: fonttools>=4.22.0 in ./.venv/lib/python3.11/site-packages (from matplotlib!=3.6.1,>=3.4->seaborn) (4.49.0)\n",
      "Requirement already satisfied: kiwisolver>=1.3.1 in ./.venv/lib/python3.11/site-packages (from matplotlib!=3.6.1,>=3.4->seaborn) (1.4.5)\n",
      "Requirement already satisfied: packaging>=20.0 in ./.venv/lib/python3.11/site-packages (from matplotlib!=3.6.1,>=3.4->seaborn) (23.2)\n",
      "Requirement already satisfied: pillow>=8 in ./.venv/lib/python3.11/site-packages (from matplotlib!=3.6.1,>=3.4->seaborn) (10.2.0)\n",
      "Requirement already satisfied: pyparsing>=2.3.1 in ./.venv/lib/python3.11/site-packages (from matplotlib!=3.6.1,>=3.4->seaborn) (3.1.1)\n",
      "Requirement already satisfied: python-dateutil>=2.7 in ./.venv/lib/python3.11/site-packages (from matplotlib!=3.6.1,>=3.4->seaborn) (2.8.2)\n",
      "Requirement already satisfied: pytz>=2020.1 in ./.venv/lib/python3.11/site-packages (from pandas>=1.2->seaborn) (2024.1)\n",
      "Requirement already satisfied: tzdata>=2022.7 in ./.venv/lib/python3.11/site-packages (from pandas>=1.2->seaborn) (2024.1)\n",
      "Requirement already satisfied: six>=1.5 in ./.venv/lib/python3.11/site-packages (from python-dateutil>=2.7->matplotlib!=3.6.1,>=3.4->seaborn) (1.16.0)\n"
     ]
    }
   ],
   "source": [
    "!pip install dash pandas\n",
    "!pip install seaborn"
   ]
  },
  {
   "cell_type": "markdown",
   "metadata": {},
   "source": [
    "импортируем библиотеки"
   ]
  },
  {
   "cell_type": "code",
   "execution_count": 14,
   "metadata": {},
   "outputs": [],
   "source": [
    "import dash\n",
    "import dash_core_components as dcc\n",
    "import dash_html_components as html\n",
    "import plotly.express as px\n",
    "import pandas as pd"
   ]
  },
  {
   "cell_type": "markdown",
   "metadata": {},
   "source": [
    "загружаем данные"
   ]
  },
  {
   "cell_type": "code",
   "execution_count": 15,
   "metadata": {},
   "outputs": [],
   "source": [
    "expenses = pd.read_csv('expenses_new.csv')\n",
    "orders = pd.read_csv('orders_new.csv')\n",
    "visitation = pd.read_csv('visitation_new.csv')"
   ]
  },
  {
   "cell_type": "code",
   "execution_count": 34,
   "metadata": {},
   "outputs": [
    {
     "data": {
      "text/html": [
       "<div>\n",
       "<style scoped>\n",
       "    .dataframe tbody tr th:only-of-type {\n",
       "        vertical-align: middle;\n",
       "    }\n",
       "\n",
       "    .dataframe tbody tr th {\n",
       "        vertical-align: top;\n",
       "    }\n",
       "\n",
       "    .dataframe thead th {\n",
       "        text-align: right;\n",
       "    }\n",
       "</style>\n",
       "<table border=\"1\" class=\"dataframe\">\n",
       "  <thead>\n",
       "    <tr style=\"text-align: right;\">\n",
       "      <th></th>\n",
       "      <th>User Id</th>\n",
       "      <th>Event Dt</th>\n",
       "      <th>Revenue</th>\n",
       "    </tr>\n",
       "  </thead>\n",
       "  <tbody>\n",
       "    <tr>\n",
       "      <th>0</th>\n",
       "      <td>188246423999</td>\n",
       "      <td>2022-05-01 23:09:52</td>\n",
       "      <td>4.99</td>\n",
       "    </tr>\n",
       "    <tr>\n",
       "      <th>1</th>\n",
       "      <td>174361394180</td>\n",
       "      <td>2022-05-01 12:24:04</td>\n",
       "      <td>4.99</td>\n",
       "    </tr>\n",
       "    <tr>\n",
       "      <th>2</th>\n",
       "      <td>529610067795</td>\n",
       "      <td>2022-05-01 11:34:04</td>\n",
       "      <td>4.99</td>\n",
       "    </tr>\n",
       "    <tr>\n",
       "      <th>3</th>\n",
       "      <td>319939546352</td>\n",
       "      <td>2022-05-01 15:34:40</td>\n",
       "      <td>4.99</td>\n",
       "    </tr>\n",
       "    <tr>\n",
       "      <th>4</th>\n",
       "      <td>366000285810</td>\n",
       "      <td>2022-05-01 13:59:51</td>\n",
       "      <td>4.99</td>\n",
       "    </tr>\n",
       "    <tr>\n",
       "      <th>...</th>\n",
       "      <td>...</td>\n",
       "      <td>...</td>\n",
       "      <td>...</td>\n",
       "    </tr>\n",
       "    <tr>\n",
       "      <th>39791</th>\n",
       "      <td>651604369137</td>\n",
       "      <td>2022-10-31 16:19:07</td>\n",
       "      <td>4.99</td>\n",
       "    </tr>\n",
       "    <tr>\n",
       "      <th>39792</th>\n",
       "      <td>275341387049</td>\n",
       "      <td>2022-10-31 01:17:17</td>\n",
       "      <td>4.99</td>\n",
       "    </tr>\n",
       "    <tr>\n",
       "      <th>39793</th>\n",
       "      <td>374656616484</td>\n",
       "      <td>2022-10-31 06:17:29</td>\n",
       "      <td>4.99</td>\n",
       "    </tr>\n",
       "    <tr>\n",
       "      <th>39794</th>\n",
       "      <td>168548862926</td>\n",
       "      <td>2022-10-31 22:46:19</td>\n",
       "      <td>4.99</td>\n",
       "    </tr>\n",
       "    <tr>\n",
       "      <th>39795</th>\n",
       "      <td>329994900775</td>\n",
       "      <td>2022-10-31 13:29:06</td>\n",
       "      <td>4.99</td>\n",
       "    </tr>\n",
       "  </tbody>\n",
       "</table>\n",
       "<p>39796 rows × 3 columns</p>\n",
       "</div>"
      ],
      "text/plain": [
       "            User Id             Event Dt  Revenue\n",
       "0      188246423999  2022-05-01 23:09:52     4.99\n",
       "1      174361394180  2022-05-01 12:24:04     4.99\n",
       "2      529610067795  2022-05-01 11:34:04     4.99\n",
       "3      319939546352  2022-05-01 15:34:40     4.99\n",
       "4      366000285810  2022-05-01 13:59:51     4.99\n",
       "...             ...                  ...      ...\n",
       "39791  651604369137  2022-10-31 16:19:07     4.99\n",
       "39792  275341387049  2022-10-31 01:17:17     4.99\n",
       "39793  374656616484  2022-10-31 06:17:29     4.99\n",
       "39794  168548862926  2022-10-31 22:46:19     4.99\n",
       "39795  329994900775  2022-10-31 13:29:06     4.99\n",
       "\n",
       "[39796 rows x 3 columns]"
      ]
     },
     "execution_count": 34,
     "metadata": {},
     "output_type": "execute_result"
    }
   ],
   "source": [
    "orders"
   ]
  },
  {
   "cell_type": "code",
   "execution_count": 16,
   "metadata": {},
   "outputs": [
    {
     "data": {
      "text/html": [
       "<div>\n",
       "<style scoped>\n",
       "    .dataframe tbody tr th:only-of-type {\n",
       "        vertical-align: middle;\n",
       "    }\n",
       "\n",
       "    .dataframe tbody tr th {\n",
       "        vertical-align: top;\n",
       "    }\n",
       "\n",
       "    .dataframe thead th {\n",
       "        text-align: right;\n",
       "    }\n",
       "</style>\n",
       "<table border=\"1\" class=\"dataframe\">\n",
       "  <thead>\n",
       "    <tr style=\"text-align: right;\">\n",
       "      <th></th>\n",
       "      <th>dt</th>\n",
       "      <th>Channel</th>\n",
       "      <th>costs</th>\n",
       "    </tr>\n",
       "  </thead>\n",
       "  <tbody>\n",
       "    <tr>\n",
       "      <th>0</th>\n",
       "      <td>2022-05-01</td>\n",
       "      <td>MediaTornado</td>\n",
       "      <td>6.24</td>\n",
       "    </tr>\n",
       "    <tr>\n",
       "      <th>1</th>\n",
       "      <td>2022-05-02</td>\n",
       "      <td>MediaTornado</td>\n",
       "      <td>5.04</td>\n",
       "    </tr>\n",
       "    <tr>\n",
       "      <th>2</th>\n",
       "      <td>2022-05-03</td>\n",
       "      <td>MediaTornado</td>\n",
       "      <td>6.96</td>\n",
       "    </tr>\n",
       "    <tr>\n",
       "      <th>3</th>\n",
       "      <td>2022-05-04</td>\n",
       "      <td>MediaTornado</td>\n",
       "      <td>9.36</td>\n",
       "    </tr>\n",
       "    <tr>\n",
       "      <th>4</th>\n",
       "      <td>2022-05-05</td>\n",
       "      <td>MediaTornado</td>\n",
       "      <td>11.04</td>\n",
       "    </tr>\n",
       "    <tr>\n",
       "      <th>...</th>\n",
       "      <td>...</td>\n",
       "      <td>...</td>\n",
       "      <td>...</td>\n",
       "    </tr>\n",
       "    <tr>\n",
       "      <th>1443</th>\n",
       "      <td>2022-10-23</td>\n",
       "      <td>lambdaMediaAds</td>\n",
       "      <td>4.00</td>\n",
       "    </tr>\n",
       "    <tr>\n",
       "      <th>1444</th>\n",
       "      <td>2022-10-24</td>\n",
       "      <td>lambdaMediaAds</td>\n",
       "      <td>6.40</td>\n",
       "    </tr>\n",
       "    <tr>\n",
       "      <th>1445</th>\n",
       "      <td>2022-10-25</td>\n",
       "      <td>lambdaMediaAds</td>\n",
       "      <td>8.80</td>\n",
       "    </tr>\n",
       "    <tr>\n",
       "      <th>1446</th>\n",
       "      <td>2022-10-26</td>\n",
       "      <td>lambdaMediaAds</td>\n",
       "      <td>8.80</td>\n",
       "    </tr>\n",
       "    <tr>\n",
       "      <th>1447</th>\n",
       "      <td>2022-10-27</td>\n",
       "      <td>lambdaMediaAds</td>\n",
       "      <td>12.00</td>\n",
       "    </tr>\n",
       "  </tbody>\n",
       "</table>\n",
       "<p>1448 rows × 3 columns</p>\n",
       "</div>"
      ],
      "text/plain": [
       "              dt         Channel  costs\n",
       "0     2022-05-01    MediaTornado   6.24\n",
       "1     2022-05-02    MediaTornado   5.04\n",
       "2     2022-05-03    MediaTornado   6.96\n",
       "3     2022-05-04    MediaTornado   9.36\n",
       "4     2022-05-05    MediaTornado  11.04\n",
       "...          ...             ...    ...\n",
       "1443  2022-10-23  lambdaMediaAds   4.00\n",
       "1444  2022-10-24  lambdaMediaAds   6.40\n",
       "1445  2022-10-25  lambdaMediaAds   8.80\n",
       "1446  2022-10-26  lambdaMediaAds   8.80\n",
       "1447  2022-10-27  lambdaMediaAds  12.00\n",
       "\n",
       "[1448 rows x 3 columns]"
      ]
     },
     "execution_count": 16,
     "metadata": {},
     "output_type": "execute_result"
    }
   ],
   "source": [
    "expenses"
   ]
  },
  {
   "cell_type": "markdown",
   "metadata": {},
   "source": [
    "# 2.1 Построение дашборда"
   ]
  },
  {
   "cell_type": "markdown",
   "metadata": {},
   "source": [
    "Создадим дашборд через pandas dash ведь он очень удобный и имеет много функций"
   ]
  },
  {
   "cell_type": "code",
   "execution_count": 118,
   "metadata": {},
   "outputs": [
    {
     "data": {
      "text/html": [
       "\n",
       "        <iframe\n",
       "            width=\"100%\"\n",
       "            height=\"650\"\n",
       "            src=\"http://127.0.0.1:8050/\"\n",
       "            frameborder=\"0\"\n",
       "            allowfullscreen\n",
       "            \n",
       "        ></iframe>\n",
       "        "
      ],
      "text/plain": [
       "<IPython.lib.display.IFrame at 0x766129c563d0>"
      ]
     },
     "metadata": {},
     "output_type": "display_data"
    }
   ],
   "source": [
    "\n",
    "app = dash.Dash(__name__)\n",
    "\n",
    "diamonds = expenses\n",
    "\n",
    "scatter = px.scatter(\n",
    "   data_frame=diamonds,\n",
    "   x=\"Channel\",\n",
    "   y=\"costs\",\n",
    "   color=\"dt\",\n",
    "   title=\"Channel vs. costs\",\n",
    "   width=600,\n",
    "   height=400,\n",
    ")\n",
    "histogram = px.histogram(\n",
    "   data_frame=diamonds,\n",
    "   x=\"costs\",\n",
    "   title=\"Histogram of costs\",\n",
    "   width=600,\n",
    "   height=400,\n",
    ")\n",
    "violin = px.violin(\n",
    "   data_frame=diamonds,\n",
    "   x=\"dt\",\n",
    "   y=\"costs\",\n",
    "   title=\"dt vs. costs\",\n",
    "   width=600,\n",
    "   height=400,\n",
    ")\n",
    "\n",
    "left_fig = html.Div(children=dcc.Graph(figure=scatter))\n",
    "right_fig = html.Div(children=dcc.Graph(figure=histogram))\n",
    "\n",
    "upper_div = html.Div([left_fig, right_fig], style={\"display\": \"flex\"})\n",
    "central_div = html.Div(\n",
    "   children=dcc.Graph(figure=violin),\n",
    "   style={\"display\": \"flex\", \"justify-content\": \"center\"},\n",
    ")\n",
    "app.layout = html.Div([upper_div, central_div])\n",
    "\n",
    "if __name__ == \"__main__\":\n",
    "   app.run_server(debug=True)"
   ]
  },
  {
   "cell_type": "markdown",
   "metadata": {},
   "source": [
    "данный даш борд показывает многое"
   ]
  },
  {
   "cell_type": "markdown",
   "metadata": {},
   "source": [
    "# 2.2 Исследовательский анализ данных в информационной панели"
   ]
  },
  {
   "cell_type": "markdown",
   "metadata": {},
   "source": [
    "# 2.3 Создание профилей пользователей"
   ]
  },
  {
   "cell_type": "markdown",
   "metadata": {},
   "source": [
    "Используем функцию которую сделали раньше"
   ]
  },
  {
   "cell_type": "code",
   "execution_count": 47,
   "metadata": {},
   "outputs": [
    {
     "data": {
      "text/html": [
       "<div>\n",
       "<style scoped>\n",
       "    .dataframe tbody tr th:only-of-type {\n",
       "        vertical-align: middle;\n",
       "    }\n",
       "\n",
       "    .dataframe tbody tr th {\n",
       "        vertical-align: top;\n",
       "    }\n",
       "\n",
       "    .dataframe thead th {\n",
       "        text-align: right;\n",
       "    }\n",
       "</style>\n",
       "<table border=\"1\" class=\"dataframe\">\n",
       "  <thead>\n",
       "    <tr style=\"text-align: right;\">\n",
       "      <th></th>\n",
       "      <th>User Id</th>\n",
       "      <th>Region</th>\n",
       "      <th>Device</th>\n",
       "      <th>Channel</th>\n",
       "      <th>Session Start</th>\n",
       "      <th>Session End</th>\n",
       "      <th>Revenue</th>\n",
       "      <th>costs</th>\n",
       "    </tr>\n",
       "  </thead>\n",
       "  <tbody>\n",
       "    <tr>\n",
       "      <th>0</th>\n",
       "      <td>981449118918</td>\n",
       "      <td>Russia</td>\n",
       "      <td>iPhone</td>\n",
       "      <td>organic</td>\n",
       "      <td>2022-05-01 02:36:01</td>\n",
       "      <td>2022-05-01 02:45:01</td>\n",
       "      <td>4.99</td>\n",
       "      <td>6.24</td>\n",
       "    </tr>\n",
       "    <tr>\n",
       "      <th>1</th>\n",
       "      <td>278965908054</td>\n",
       "      <td>Russia</td>\n",
       "      <td>iPhone</td>\n",
       "      <td>organic</td>\n",
       "      <td>2022-05-01 04:46:31</td>\n",
       "      <td>2022-05-01 04:47:35</td>\n",
       "      <td>4.99</td>\n",
       "      <td>5.04</td>\n",
       "    </tr>\n",
       "    <tr>\n",
       "      <th>2</th>\n",
       "      <td>590706206550</td>\n",
       "      <td>Russia</td>\n",
       "      <td>Mac</td>\n",
       "      <td>organic</td>\n",
       "      <td>2022-05-01 14:09:25</td>\n",
       "      <td>2022-05-01 15:32:08</td>\n",
       "      <td>4.99</td>\n",
       "      <td>6.96</td>\n",
       "    </tr>\n",
       "    <tr>\n",
       "      <th>3</th>\n",
       "      <td>326433527971</td>\n",
       "      <td>Russia</td>\n",
       "      <td>Android</td>\n",
       "      <td>TipTop</td>\n",
       "      <td>2022-05-01 00:29:59</td>\n",
       "      <td>2022-05-01 00:54:25</td>\n",
       "      <td>4.99</td>\n",
       "      <td>9.36</td>\n",
       "    </tr>\n",
       "    <tr>\n",
       "      <th>4</th>\n",
       "      <td>349773784594</td>\n",
       "      <td>Russia</td>\n",
       "      <td>Mac</td>\n",
       "      <td>organic</td>\n",
       "      <td>2022-05-01 03:33:35</td>\n",
       "      <td>2022-05-01 03:57:40</td>\n",
       "      <td>4.99</td>\n",
       "      <td>11.04</td>\n",
       "    </tr>\n",
       "    <tr>\n",
       "      <th>...</th>\n",
       "      <td>...</td>\n",
       "      <td>...</td>\n",
       "      <td>...</td>\n",
       "      <td>...</td>\n",
       "      <td>...</td>\n",
       "      <td>...</td>\n",
       "      <td>...</td>\n",
       "      <td>...</td>\n",
       "    </tr>\n",
       "    <tr>\n",
       "      <th>1443</th>\n",
       "      <td>755840663757</td>\n",
       "      <td>Russia</td>\n",
       "      <td>iPhone</td>\n",
       "      <td>organic</td>\n",
       "      <td>2022-05-03 13:09:33</td>\n",
       "      <td>2022-05-03 13:12:34</td>\n",
       "      <td>4.99</td>\n",
       "      <td>4.00</td>\n",
       "    </tr>\n",
       "    <tr>\n",
       "      <th>1444</th>\n",
       "      <td>29210193047</td>\n",
       "      <td>Russia</td>\n",
       "      <td>iPhone</td>\n",
       "      <td>organic</td>\n",
       "      <td>2022-05-03 04:17:48</td>\n",
       "      <td>2022-05-03 04:21:43</td>\n",
       "      <td>4.99</td>\n",
       "      <td>6.40</td>\n",
       "    </tr>\n",
       "    <tr>\n",
       "      <th>1445</th>\n",
       "      <td>735968289275</td>\n",
       "      <td>Russia</td>\n",
       "      <td>Mac</td>\n",
       "      <td>FaceBoom</td>\n",
       "      <td>2022-05-03 05:35:24</td>\n",
       "      <td>2022-05-03 05:42:23</td>\n",
       "      <td>4.99</td>\n",
       "      <td>8.80</td>\n",
       "    </tr>\n",
       "    <tr>\n",
       "      <th>1446</th>\n",
       "      <td>40244695943</td>\n",
       "      <td>Russia</td>\n",
       "      <td>Android</td>\n",
       "      <td>organic</td>\n",
       "      <td>2022-05-03 00:48:42</td>\n",
       "      <td>2022-05-03 01:02:10</td>\n",
       "      <td>4.99</td>\n",
       "      <td>8.80</td>\n",
       "    </tr>\n",
       "    <tr>\n",
       "      <th>1447</th>\n",
       "      <td>841208777989</td>\n",
       "      <td>Russia</td>\n",
       "      <td>Mac</td>\n",
       "      <td>FaceBoom</td>\n",
       "      <td>2022-05-03 22:19:03</td>\n",
       "      <td>2022-05-03 22:59:53</td>\n",
       "      <td>4.99</td>\n",
       "      <td>12.00</td>\n",
       "    </tr>\n",
       "  </tbody>\n",
       "</table>\n",
       "<p>1448 rows × 8 columns</p>\n",
       "</div>"
      ],
      "text/plain": [
       "           User Id  Region   Device   Channel        Session Start  \\\n",
       "0     981449118918  Russia   iPhone   organic  2022-05-01 02:36:01   \n",
       "1     278965908054  Russia   iPhone   organic  2022-05-01 04:46:31   \n",
       "2     590706206550  Russia      Mac   organic  2022-05-01 14:09:25   \n",
       "3     326433527971  Russia  Android    TipTop  2022-05-01 00:29:59   \n",
       "4     349773784594  Russia      Mac   organic  2022-05-01 03:33:35   \n",
       "...            ...     ...      ...       ...                  ...   \n",
       "1443  755840663757  Russia   iPhone   organic  2022-05-03 13:09:33   \n",
       "1444   29210193047  Russia   iPhone   organic  2022-05-03 04:17:48   \n",
       "1445  735968289275  Russia      Mac  FaceBoom  2022-05-03 05:35:24   \n",
       "1446   40244695943  Russia  Android   organic  2022-05-03 00:48:42   \n",
       "1447  841208777989  Russia      Mac  FaceBoom  2022-05-03 22:19:03   \n",
       "\n",
       "              Session End  Revenue  costs  \n",
       "0     2022-05-01 02:45:01     4.99   6.24  \n",
       "1     2022-05-01 04:47:35     4.99   5.04  \n",
       "2     2022-05-01 15:32:08     4.99   6.96  \n",
       "3     2022-05-01 00:54:25     4.99   9.36  \n",
       "4     2022-05-01 03:57:40     4.99  11.04  \n",
       "...                   ...      ...    ...  \n",
       "1443  2022-05-03 13:12:34     4.99   4.00  \n",
       "1444  2022-05-03 04:21:43     4.99   6.40  \n",
       "1445  2022-05-03 05:42:23     4.99   8.80  \n",
       "1446  2022-05-03 01:02:10     4.99   8.80  \n",
       "1447  2022-05-03 22:59:53     4.99  12.00  \n",
       "\n",
       "[1448 rows x 8 columns]"
      ]
     },
     "execution_count": 47,
     "metadata": {},
     "output_type": "execute_result"
    }
   ],
   "source": [
    "exoenses1 = orders.drop(columns=['User Id'])\n",
    "exoenses2 = exoenses1.drop(columns=['Event Dt'])\n",
    "e = expenses.drop(columns=['dt'])\n",
    "e = e.drop(columns=['Channel'])\n",
    "visitation1 = pd.concat([visitation, exoenses2,e], axis=1)\n",
    "vis = visitation1.dropna()\n",
    "vis"
   ]
  },
  {
   "cell_type": "markdown",
   "metadata": {},
   "source": [
    "Посмотрим из каких стран приходят посетители и какие страны дают больше всего\n",
    "платящих пользователей?"
   ]
  },
  {
   "cell_type": "code",
   "execution_count": 48,
   "metadata": {},
   "outputs": [
    {
     "data": {
      "text/plain": [
       "Region\n",
       "Russia    1448\n",
       "Name: count, dtype: int64"
      ]
     },
     "execution_count": 48,
     "metadata": {},
     "output_type": "execute_result"
    }
   ],
   "source": [
    "vis['Region'].value_counts()"
   ]
  },
  {
   "cell_type": "markdown",
   "metadata": {},
   "source": [
    "Это оказалась Russia"
   ]
  },
  {
   "cell_type": "markdown",
   "metadata": {},
   "source": [
    "Посмотрим какими устройствами они пользуются и с каких устройств чаще всего\n",
    "заходят платящие пользователи?"
   ]
  },
  {
   "cell_type": "code",
   "execution_count": 49,
   "metadata": {},
   "outputs": [
    {
     "data": {
      "text/plain": [
       "Device\n",
       "iPhone     641\n",
       "Mac        368\n",
       "Android    294\n",
       "PC         145\n",
       "Name: count, dtype: int64"
      ]
     },
     "execution_count": 49,
     "metadata": {},
     "output_type": "execute_result"
    }
   ],
   "source": [
    "vis['Device'].value_counts()"
   ]
  },
  {
   "cell_type": "markdown",
   "metadata": {},
   "source": [
    "и этим устройством оказался iPhone"
   ]
  },
  {
   "cell_type": "markdown",
   "metadata": {},
   "source": [
    "Посмотрим по каким рекламным каналам шло привлечение пользователей и какие каналы\n",
    "приносят больше всего платящих пользователей?"
   ]
  },
  {
   "cell_type": "code",
   "execution_count": 50,
   "metadata": {},
   "outputs": [
    {
     "data": {
      "text/plain": [
       "Channel\n",
       "organic           791\n",
       "FaceBoom          222\n",
       "TipTop            186\n",
       "RocketSuperAds     93\n",
       "YRabbit            90\n",
       "MediaTornado       66\n",
       "Name: count, dtype: int64"
      ]
     },
     "execution_count": 50,
     "metadata": {},
     "output_type": "execute_result"
    }
   ],
   "source": [
    "vis['Channel'].value_counts()"
   ]
  },
  {
   "cell_type": "markdown",
   "metadata": {},
   "source": [
    "и этим каналом оказался organic"
   ]
  },
  {
   "cell_type": "markdown",
   "metadata": {},
   "source": [
    "Создадим Dataframe с данными пользователей"
   ]
  },
  {
   "cell_type": "code",
   "execution_count": 51,
   "metadata": {},
   "outputs": [
    {
     "data": {
      "text/html": [
       "<div>\n",
       "<style scoped>\n",
       "    .dataframe tbody tr th:only-of-type {\n",
       "        vertical-align: middle;\n",
       "    }\n",
       "\n",
       "    .dataframe tbody tr th {\n",
       "        vertical-align: top;\n",
       "    }\n",
       "\n",
       "    .dataframe thead th {\n",
       "        text-align: right;\n",
       "    }\n",
       "</style>\n",
       "<table border=\"1\" class=\"dataframe\">\n",
       "  <thead>\n",
       "    <tr style=\"text-align: right;\">\n",
       "      <th></th>\n",
       "      <th>User Id</th>\n",
       "      <th>Region</th>\n",
       "      <th>Device</th>\n",
       "      <th>Channel</th>\n",
       "      <th>Revenue</th>\n",
       "      <th>costs</th>\n",
       "    </tr>\n",
       "  </thead>\n",
       "  <tbody>\n",
       "    <tr>\n",
       "      <th>0</th>\n",
       "      <td>981449118918</td>\n",
       "      <td>Russia</td>\n",
       "      <td>iPhone</td>\n",
       "      <td>organic</td>\n",
       "      <td>4.99</td>\n",
       "      <td>6.24</td>\n",
       "    </tr>\n",
       "    <tr>\n",
       "      <th>1</th>\n",
       "      <td>278965908054</td>\n",
       "      <td>Russia</td>\n",
       "      <td>iPhone</td>\n",
       "      <td>organic</td>\n",
       "      <td>4.99</td>\n",
       "      <td>5.04</td>\n",
       "    </tr>\n",
       "    <tr>\n",
       "      <th>2</th>\n",
       "      <td>590706206550</td>\n",
       "      <td>Russia</td>\n",
       "      <td>Mac</td>\n",
       "      <td>organic</td>\n",
       "      <td>4.99</td>\n",
       "      <td>6.96</td>\n",
       "    </tr>\n",
       "    <tr>\n",
       "      <th>3</th>\n",
       "      <td>326433527971</td>\n",
       "      <td>Russia</td>\n",
       "      <td>Android</td>\n",
       "      <td>TipTop</td>\n",
       "      <td>4.99</td>\n",
       "      <td>9.36</td>\n",
       "    </tr>\n",
       "    <tr>\n",
       "      <th>4</th>\n",
       "      <td>349773784594</td>\n",
       "      <td>Russia</td>\n",
       "      <td>Mac</td>\n",
       "      <td>organic</td>\n",
       "      <td>4.99</td>\n",
       "      <td>11.04</td>\n",
       "    </tr>\n",
       "    <tr>\n",
       "      <th>...</th>\n",
       "      <td>...</td>\n",
       "      <td>...</td>\n",
       "      <td>...</td>\n",
       "      <td>...</td>\n",
       "      <td>...</td>\n",
       "      <td>...</td>\n",
       "    </tr>\n",
       "    <tr>\n",
       "      <th>1443</th>\n",
       "      <td>755840663757</td>\n",
       "      <td>Russia</td>\n",
       "      <td>iPhone</td>\n",
       "      <td>organic</td>\n",
       "      <td>4.99</td>\n",
       "      <td>4.00</td>\n",
       "    </tr>\n",
       "    <tr>\n",
       "      <th>1444</th>\n",
       "      <td>29210193047</td>\n",
       "      <td>Russia</td>\n",
       "      <td>iPhone</td>\n",
       "      <td>organic</td>\n",
       "      <td>4.99</td>\n",
       "      <td>6.40</td>\n",
       "    </tr>\n",
       "    <tr>\n",
       "      <th>1445</th>\n",
       "      <td>735968289275</td>\n",
       "      <td>Russia</td>\n",
       "      <td>Mac</td>\n",
       "      <td>FaceBoom</td>\n",
       "      <td>4.99</td>\n",
       "      <td>8.80</td>\n",
       "    </tr>\n",
       "    <tr>\n",
       "      <th>1446</th>\n",
       "      <td>40244695943</td>\n",
       "      <td>Russia</td>\n",
       "      <td>Android</td>\n",
       "      <td>organic</td>\n",
       "      <td>4.99</td>\n",
       "      <td>8.80</td>\n",
       "    </tr>\n",
       "    <tr>\n",
       "      <th>1447</th>\n",
       "      <td>841208777989</td>\n",
       "      <td>Russia</td>\n",
       "      <td>Mac</td>\n",
       "      <td>FaceBoom</td>\n",
       "      <td>4.99</td>\n",
       "      <td>12.00</td>\n",
       "    </tr>\n",
       "  </tbody>\n",
       "</table>\n",
       "<p>1448 rows × 6 columns</p>\n",
       "</div>"
      ],
      "text/plain": [
       "           User Id  Region   Device   Channel  Revenue  costs\n",
       "0     981449118918  Russia   iPhone   organic     4.99   6.24\n",
       "1     278965908054  Russia   iPhone   organic     4.99   5.04\n",
       "2     590706206550  Russia      Mac   organic     4.99   6.96\n",
       "3     326433527971  Russia  Android    TipTop     4.99   9.36\n",
       "4     349773784594  Russia      Mac   organic     4.99  11.04\n",
       "...            ...     ...      ...       ...      ...    ...\n",
       "1443  755840663757  Russia   iPhone   organic     4.99   4.00\n",
       "1444   29210193047  Russia   iPhone   organic     4.99   6.40\n",
       "1445  735968289275  Russia      Mac  FaceBoom     4.99   8.80\n",
       "1446   40244695943  Russia  Android   organic     4.99   8.80\n",
       "1447  841208777989  Russia      Mac  FaceBoom     4.99  12.00\n",
       "\n",
       "[1448 rows x 6 columns]"
      ]
     },
     "execution_count": 51,
     "metadata": {},
     "output_type": "execute_result"
    }
   ],
   "source": [
    "user_data = vis.drop(columns=['Session Start'])\n",
    "user_data = user_data.drop(columns=['Session End'])\n",
    "user_data"
   ]
  },
  {
   "cell_type": "code",
   "execution_count": 52,
   "metadata": {},
   "outputs": [],
   "source": [
    "user_data.to_csv('user_data.csv',index=False)"
   ]
  },
  {
   "cell_type": "markdown",
   "metadata": {},
   "source": [
    "# 2.4 Маркетинговый анализ"
   ]
  },
  {
   "cell_type": "markdown",
   "metadata": {},
   "source": [
    "Посмотрим на среднее занчение "
   ]
  },
  {
   "cell_type": "code",
   "execution_count": 53,
   "metadata": {},
   "outputs": [
    {
     "data": {
      "text/html": [
       "<div>\n",
       "<style scoped>\n",
       "    .dataframe tbody tr th:only-of-type {\n",
       "        vertical-align: middle;\n",
       "    }\n",
       "\n",
       "    .dataframe tbody tr th {\n",
       "        vertical-align: top;\n",
       "    }\n",
       "\n",
       "    .dataframe thead th {\n",
       "        text-align: right;\n",
       "    }\n",
       "</style>\n",
       "<table border=\"1\" class=\"dataframe\">\n",
       "  <thead>\n",
       "    <tr style=\"text-align: right;\">\n",
       "      <th></th>\n",
       "      <th>User Id</th>\n",
       "      <th>Revenue</th>\n",
       "      <th>costs</th>\n",
       "    </tr>\n",
       "  </thead>\n",
       "  <tbody>\n",
       "    <tr>\n",
       "      <th>count</th>\n",
       "      <td>1.448000e+03</td>\n",
       "      <td>1448.000000</td>\n",
       "      <td>1448.000000</td>\n",
       "    </tr>\n",
       "    <tr>\n",
       "      <th>mean</th>\n",
       "      <td>5.018676e+11</td>\n",
       "      <td>5.059751</td>\n",
       "      <td>12.942265</td>\n",
       "    </tr>\n",
       "    <tr>\n",
       "      <th>std</th>\n",
       "      <td>2.895730e+11</td>\n",
       "      <td>0.521782</td>\n",
       "      <td>10.218084</td>\n",
       "    </tr>\n",
       "    <tr>\n",
       "      <th>min</th>\n",
       "      <td>2.346325e+09</td>\n",
       "      <td>4.990000</td>\n",
       "      <td>0.800000</td>\n",
       "    </tr>\n",
       "    <tr>\n",
       "      <th>25%</th>\n",
       "      <td>2.317173e+11</td>\n",
       "      <td>4.990000</td>\n",
       "      <td>5.757500</td>\n",
       "    </tr>\n",
       "    <tr>\n",
       "      <th>50%</th>\n",
       "      <td>5.112493e+11</td>\n",
       "      <td>4.990000</td>\n",
       "      <td>9.750000</td>\n",
       "    </tr>\n",
       "    <tr>\n",
       "      <th>75%</th>\n",
       "      <td>7.625050e+11</td>\n",
       "      <td>4.990000</td>\n",
       "      <td>16.380000</td>\n",
       "    </tr>\n",
       "    <tr>\n",
       "      <th>max</th>\n",
       "      <td>9.985130e+11</td>\n",
       "      <td>9.990000</td>\n",
       "      <td>60.000000</td>\n",
       "    </tr>\n",
       "  </tbody>\n",
       "</table>\n",
       "</div>"
      ],
      "text/plain": [
       "            User Id      Revenue        costs\n",
       "count  1.448000e+03  1448.000000  1448.000000\n",
       "mean   5.018676e+11     5.059751    12.942265\n",
       "std    2.895730e+11     0.521782    10.218084\n",
       "min    2.346325e+09     4.990000     0.800000\n",
       "25%    2.317173e+11     4.990000     5.757500\n",
       "50%    5.112493e+11     4.990000     9.750000\n",
       "75%    7.625050e+11     4.990000    16.380000\n",
       "max    9.985130e+11     9.990000    60.000000"
      ]
     },
     "execution_count": 53,
     "metadata": {},
     "output_type": "execute_result"
    }
   ],
   "source": [
    "user_data.describe()"
   ]
  },
  {
   "cell_type": "markdown",
   "metadata": {},
   "source": [
    "Посмотрим все расходы"
   ]
  },
  {
   "cell_type": "code",
   "execution_count": 54,
   "metadata": {},
   "outputs": [
    {
     "data": {
      "text/plain": [
       "18740.4"
      ]
     },
     "execution_count": 54,
     "metadata": {},
     "output_type": "execute_result"
    }
   ],
   "source": [
    "user_data['costs'].sum()"
   ]
  },
  {
   "cell_type": "markdown",
   "metadata": {},
   "source": [
    "Посмотрим на все доходы "
   ]
  },
  {
   "cell_type": "code",
   "execution_count": 105,
   "metadata": {},
   "outputs": [
    {
     "data": {
      "text/plain": [
       "7326.520000000002"
      ]
     },
     "execution_count": 105,
     "metadata": {},
     "output_type": "execute_result"
    }
   ],
   "source": [
    "user_data['Revenue'].sum()"
   ]
  },
  {
   "cell_type": "markdown",
   "metadata": {},
   "source": [
    "## Общая окупаемость рекламы;"
   ]
  },
  {
   "cell_type": "markdown",
   "metadata": {},
   "source": [
    "Вот так можно найти окупаемость рекламы "
   ]
  },
  {
   "attachments": {
    "image.png": {
     "image/png": "[encoded data removed]"
    }
   },
   "cell_type": "markdown",
   "metadata": {},
   "source": [
    "![image.png](attachment:image.png)"
   ]
  },
  {
   "cell_type": "code",
   "execution_count": 84,
   "metadata": {},
   "outputs": [
    {
     "data": {
      "text/plain": [
       "-0.5481468912082985"
      ]
     },
     "execution_count": 84,
     "metadata": {},
     "output_type": "execute_result"
    }
   ],
   "source": [
    "o = user_data['Revenue'].sum()\n",
    "i = user_data['costs'].sum()\n",
    "Roi = (o-i)/i*0.9\n",
    "Roi"
   ]
  },
  {
   "cell_type": "markdown",
   "metadata": {},
   "source": [
    "## Окупаемость рекламы с разбивкой по устройствам"
   ]
  },
  {
   "cell_type": "markdown",
   "metadata": {},
   "source": [
    "Вычесляем все по этой функции "
   ]
  },
  {
   "attachments": {
    "image.png": {
     "image/png": "[encoded data removed]"
    }
   },
   "cell_type": "markdown",
   "metadata": {},
   "source": [
    "![image.png](attachment:image.png)"
   ]
  },
  {
   "cell_type": "code",
   "execution_count": 86,
   "metadata": {},
   "outputs": [
    {
     "data": {
      "text/plain": [
       "8587.28"
      ]
     },
     "execution_count": 86,
     "metadata": {},
     "output_type": "execute_result"
    }
   ],
   "source": [
    "iPhone_r = user_data.loc[user_data['Device'].isin(['iPhone']), 'costs'].sum()\n",
    "iPhone_r"
   ]
  },
  {
   "cell_type": "code",
   "execution_count": 87,
   "metadata": {},
   "outputs": [
    {
     "data": {
      "text/plain": [
       "4536.53"
      ]
     },
     "execution_count": 87,
     "metadata": {},
     "output_type": "execute_result"
    }
   ],
   "source": [
    "Mac_r = user_data.loc[user_data['Device'].isin(['Mac']), 'costs'].sum()\n",
    "Mac_r"
   ]
  },
  {
   "cell_type": "code",
   "execution_count": 88,
   "metadata": {},
   "outputs": [
    {
     "data": {
      "text/plain": [
       "3875.45"
      ]
     },
     "execution_count": 88,
     "metadata": {},
     "output_type": "execute_result"
    }
   ],
   "source": [
    "Android_r = user_data.loc[user_data['Device'].isin(['Android']), 'costs'].sum()\n",
    "Android_r"
   ]
  },
  {
   "cell_type": "code",
   "execution_count": 89,
   "metadata": {},
   "outputs": [
    {
     "data": {
      "text/plain": [
       "1741.1399999999999"
      ]
     },
     "execution_count": 89,
     "metadata": {},
     "output_type": "execute_result"
    }
   ],
   "source": [
    "PC_r = user_data.loc[user_data['Device'].isin(['PC']), 'costs'].sum()\n",
    "PC_r"
   ]
  },
  {
   "cell_type": "code",
   "execution_count": 94,
   "metadata": {},
   "outputs": [
    {
     "data": {
      "text/plain": [
       "3244.590000000001"
      ]
     },
     "execution_count": 94,
     "metadata": {},
     "output_type": "execute_result"
    }
   ],
   "source": [
    "iPhone_d = user_data.loc[user_data['Device'].isin(['iPhone']), 'Revenue'].sum()\n",
    "iPhone_d"
   ]
  },
  {
   "cell_type": "code",
   "execution_count": 95,
   "metadata": {},
   "outputs": [
    {
     "data": {
      "text/plain": [
       "1845.3200000000006"
      ]
     },
     "execution_count": 95,
     "metadata": {},
     "output_type": "execute_result"
    }
   ],
   "source": [
    "Mac_d = user_data.loc[user_data['Device'].isin(['Mac']), 'Revenue'].sum()\n",
    "Mac_d"
   ]
  },
  {
   "cell_type": "code",
   "execution_count": 96,
   "metadata": {},
   "outputs": [
    {
     "data": {
      "text/plain": [
       "1499.0600000000004"
      ]
     },
     "execution_count": 96,
     "metadata": {},
     "output_type": "execute_result"
    }
   ],
   "source": [
    "Android_d = user_data.loc[user_data['Device'].isin(['Android']), 'Revenue'].sum()\n",
    "Android_d"
   ]
  },
  {
   "cell_type": "code",
   "execution_count": 97,
   "metadata": {},
   "outputs": [
    {
     "data": {
      "text/plain": [
       "737.5500000000002"
      ]
     },
     "execution_count": 97,
     "metadata": {},
     "output_type": "execute_result"
    }
   ],
   "source": [
    "PC_d = user_data.loc[user_data['Device'].isin(['PC']), 'Revenue'].sum()\n",
    "PC_d"
   ]
  },
  {
   "cell_type": "code",
   "execution_count": 98,
   "metadata": {},
   "outputs": [
    {
     "data": {
      "text/plain": [
       "-0.5599469214931853"
      ]
     },
     "execution_count": 98,
     "metadata": {},
     "output_type": "execute_result"
    }
   ],
   "source": [
    "Roi_iPhone = (iPhone_d-iPhone_r)/iPhone_r*0.9\n",
    "Roi_iPhone"
   ]
  },
  {
   "cell_type": "code",
   "execution_count": 99,
   "metadata": {},
   "outputs": [
    {
     "data": {
      "text/plain": [
       "-0.5339078546818823"
      ]
     },
     "execution_count": 99,
     "metadata": {},
     "output_type": "execute_result"
    }
   ],
   "source": [
    "Roi_Mac = (Mac_d-Mac_r)/Mac_r*0.9\n",
    "Roi_Mac"
   ]
  },
  {
   "cell_type": "code",
   "execution_count": 100,
   "metadata": {},
   "outputs": [
    {
     "data": {
      "text/plain": [
       "-0.5518716536144189"
      ]
     },
     "execution_count": 100,
     "metadata": {},
     "output_type": "execute_result"
    }
   ],
   "source": [
    "Roi_Android = (Android_d-Android_r)/Android_r*0.9\n",
    "Roi_Android"
   ]
  },
  {
   "cell_type": "code",
   "execution_count": 101,
   "metadata": {},
   "outputs": [
    {
     "data": {
      "text/plain": [
       "-0.5187583996691821"
      ]
     },
     "execution_count": 101,
     "metadata": {},
     "output_type": "execute_result"
    }
   ],
   "source": [
    "Roi_PC = (PC_d-PC_r)/PC_r*0.9\n",
    "Roi_PC"
   ]
  },
  {
   "cell_type": "markdown",
   "metadata": {},
   "source": [
    "## Окупаемость рекламы с разбивкой по странам;"
   ]
  },
  {
   "cell_type": "markdown",
   "metadata": {},
   "source": [
    "Вычесляем все по этой функции"
   ]
  },
  {
   "attachments": {
    "image.png": {
     "image/png": "[encoded data removed]"
    }
   },
   "cell_type": "markdown",
   "metadata": {},
   "source": [
    "![image.png](attachment:image.png)"
   ]
  },
  {
   "cell_type": "code",
   "execution_count": 102,
   "metadata": {},
   "outputs": [
    {
     "data": {
      "text/plain": [
       "18740.4"
      ]
     },
     "execution_count": 102,
     "metadata": {},
     "output_type": "execute_result"
    }
   ],
   "source": [
    "Russia_r = user_data.loc[user_data['Region'].isin(['Russia']), 'costs'].sum()\n",
    "Russia_r"
   ]
  },
  {
   "cell_type": "code",
   "execution_count": 103,
   "metadata": {},
   "outputs": [
    {
     "data": {
      "text/plain": [
       "7326.520000000002"
      ]
     },
     "execution_count": 103,
     "metadata": {},
     "output_type": "execute_result"
    }
   ],
   "source": [
    "Russia_d = user_data.loc[user_data['Region'].isin(['Russia']), 'Revenue'].sum()\n",
    "Russia_d"
   ]
  },
  {
   "cell_type": "code",
   "execution_count": 104,
   "metadata": {},
   "outputs": [
    {
     "data": {
      "text/plain": [
       "-0.5481468912082985"
      ]
     },
     "execution_count": 104,
     "metadata": {},
     "output_type": "execute_result"
    }
   ],
   "source": [
    "Roi_Russia = (Russia_d-Russia_r)/Russia_r*0.9\n",
    "Roi_Russia"
   ]
  },
  {
   "cell_type": "markdown",
   "metadata": {},
   "source": [
    "## Окупаемость рекламы с разбивкой по рекламным каналам."
   ]
  },
  {
   "cell_type": "markdown",
   "metadata": {},
   "source": [
    "Вычесляем все по этой функции"
   ]
  },
  {
   "attachments": {
    "image.png": {
     "image/png": "[encoded data removed]"
    }
   },
   "cell_type": "markdown",
   "metadata": {},
   "source": [
    "![image.png](attachment:image.png)"
   ]
  },
  {
   "cell_type": "code",
   "execution_count": 66,
   "metadata": {},
   "outputs": [
    {
     "data": {
      "text/plain": [
       "10167.439999999999"
      ]
     },
     "execution_count": 66,
     "metadata": {},
     "output_type": "execute_result"
    }
   ],
   "source": [
    "organic_r = user_data.loc[user_data['Channel'].isin(['organic']), 'costs'].sum()\n",
    "organic_r"
   ]
  },
  {
   "cell_type": "code",
   "execution_count": 67,
   "metadata": {},
   "outputs": [
    {
     "data": {
      "text/plain": [
       "4013.090000000001"
      ]
     },
     "execution_count": 67,
     "metadata": {},
     "output_type": "execute_result"
    }
   ],
   "source": [
    "organic_d = user_data.loc[user_data['Channel'].isin(['organic']), 'Revenue'].sum()\n",
    "organic_d"
   ]
  },
  {
   "cell_type": "code",
   "execution_count": 68,
   "metadata": {},
   "outputs": [
    {
     "data": {
      "text/plain": [
       "2472.22"
      ]
     },
     "execution_count": 68,
     "metadata": {},
     "output_type": "execute_result"
    }
   ],
   "source": [
    "TipTop_r = user_data.loc[user_data['Channel'].isin(['TipTop']), 'costs'].sum()\n",
    "TipTop_r"
   ]
  },
  {
   "cell_type": "code",
   "execution_count": 69,
   "metadata": {},
   "outputs": [
    {
     "data": {
      "text/plain": [
       "942.1400000000002"
      ]
     },
     "execution_count": 69,
     "metadata": {},
     "output_type": "execute_result"
    }
   ],
   "source": [
    "TipTop_d = user_data.loc[user_data['Channel'].isin(['TipTop']), 'Revenue'].sum()\n",
    "TipTop_d"
   ]
  },
  {
   "cell_type": "code",
   "execution_count": 70,
   "metadata": {},
   "outputs": [
    {
     "data": {
      "text/plain": [
       "2869.79"
      ]
     },
     "execution_count": 70,
     "metadata": {},
     "output_type": "execute_result"
    }
   ],
   "source": [
    "FaceBoom_r = user_data.loc[user_data['Channel'].isin(['FaceBoom']), 'costs'].sum()\n",
    "FaceBoom_r"
   ]
  },
  {
   "cell_type": "code",
   "execution_count": 71,
   "metadata": {},
   "outputs": [
    {
     "data": {
      "text/plain": [
       "1119.7800000000002"
      ]
     },
     "execution_count": 71,
     "metadata": {},
     "output_type": "execute_result"
    }
   ],
   "source": [
    "FaceBoom_d = user_data.loc[user_data['Channel'].isin(['FaceBoom']), 'Revenue'].sum()\n",
    "FaceBoom_d"
   ]
  },
  {
   "cell_type": "code",
   "execution_count": 72,
   "metadata": {},
   "outputs": [
    {
     "data": {
      "text/plain": [
       "1234.6249999999998"
      ]
     },
     "execution_count": 72,
     "metadata": {},
     "output_type": "execute_result"
    }
   ],
   "source": [
    "RocketSuperAds_r = user_data.loc[user_data['Channel'].isin(['RocketSuperAds']), 'costs'].sum()\n",
    "RocketSuperAds_r"
   ]
  },
  {
   "cell_type": "code",
   "execution_count": 73,
   "metadata": {},
   "outputs": [
    {
     "data": {
      "text/plain": [
       "465.07000000000016"
      ]
     },
     "execution_count": 73,
     "metadata": {},
     "output_type": "execute_result"
    }
   ],
   "source": [
    "RocketSuperAds_d = user_data.loc[user_data['Channel'].isin(['RocketSuperAds']), 'Revenue'].sum()\n",
    "RocketSuperAds_d"
   ]
  },
  {
   "cell_type": "code",
   "execution_count": 74,
   "metadata": {},
   "outputs": [
    {
     "data": {
      "text/plain": [
       "1185.1549999999997"
      ]
     },
     "execution_count": 74,
     "metadata": {},
     "output_type": "execute_result"
    }
   ],
   "source": [
    "YRabbit_r = user_data.loc[user_data['Channel'].isin(['YRabbit']), 'costs'].sum()\n",
    "YRabbit_r"
   ]
  },
  {
   "cell_type": "code",
   "execution_count": 75,
   "metadata": {},
   "outputs": [
    {
     "data": {
      "text/plain": [
       "451.10000000000014"
      ]
     },
     "execution_count": 75,
     "metadata": {},
     "output_type": "execute_result"
    }
   ],
   "source": [
    "YRabbit_d = user_data.loc[user_data['Channel'].isin(['YRabbit']), 'Revenue'].sum()\n",
    "YRabbit_d"
   ]
  },
  {
   "cell_type": "code",
   "execution_count": 76,
   "metadata": {},
   "outputs": [
    {
     "data": {
      "text/plain": [
       "811.17"
      ]
     },
     "execution_count": 76,
     "metadata": {},
     "output_type": "execute_result"
    }
   ],
   "source": [
    "MediaTornado_r = user_data.loc[user_data['Channel'].isin(['MediaTornado']), 'costs'].sum()\n",
    "MediaTornado_r"
   ]
  },
  {
   "cell_type": "code",
   "execution_count": 77,
   "metadata": {},
   "outputs": [
    {
     "data": {
      "text/plain": [
       "335.3400000000001"
      ]
     },
     "execution_count": 77,
     "metadata": {},
     "output_type": "execute_result"
    }
   ],
   "source": [
    "MediaTornado_d = user_data.loc[user_data['Channel'].isin(['MediaTornado']), 'Revenue'].sum()\n",
    "MediaTornado_d"
   ]
  },
  {
   "cell_type": "code",
   "execution_count": 78,
   "metadata": {},
   "outputs": [
    {
     "data": {
      "text/plain": [
       "-0.5447698732424286"
      ]
     },
     "execution_count": 78,
     "metadata": {},
     "output_type": "execute_result"
    }
   ],
   "source": [
    "Roi_organic = (organic_d-organic_r)/organic_r*0.9\n",
    "Roi_organic"
   ]
  },
  {
   "cell_type": "code",
   "execution_count": 79,
   "metadata": {},
   "outputs": [
    {
     "data": {
      "text/plain": [
       "-0.5570183883311354"
      ]
     },
     "execution_count": 79,
     "metadata": {},
     "output_type": "execute_result"
    }
   ],
   "source": [
    "Roi_TipTop = (TipTop_d-TipTop_r)/TipTop_r*0.9\n",
    "Roi_TipTop"
   ]
  },
  {
   "cell_type": "code",
   "execution_count": 80,
   "metadata": {},
   "outputs": [
    {
     "data": {
      "text/plain": [
       "-0.5488237815310527"
      ]
     },
     "execution_count": 80,
     "metadata": {},
     "output_type": "execute_result"
    }
   ],
   "source": [
    "Roi_FaceBoom = (FaceBoom_d-FaceBoom_r)/FaceBoom_r*0.9\n",
    "Roi_FaceBoom"
   ]
  },
  {
   "cell_type": "code",
   "execution_count": 81,
   "metadata": {},
   "outputs": [
    {
     "data": {
      "text/plain": [
       "-0.5609796496912016"
      ]
     },
     "execution_count": 81,
     "metadata": {},
     "output_type": "execute_result"
    }
   ],
   "source": [
    "Roi_RocketSuperAds = (RocketSuperAds_d-RocketSuperAds_r)/RocketSuperAds_r*0.9\n",
    "Roi_RocketSuperAds"
   ]
  },
  {
   "cell_type": "code",
   "execution_count": 82,
   "metadata": {},
   "outputs": [
    {
     "data": {
      "text/plain": [
       "-0.5574372128540147"
      ]
     },
     "execution_count": 82,
     "metadata": {},
     "output_type": "execute_result"
    }
   ],
   "source": [
    "Roi_YRabbit = (YRabbit_d-YRabbit_r)/YRabbit_r*0.9\n",
    "Roi_YRabbit"
   ]
  },
  {
   "cell_type": "code",
   "execution_count": 83,
   "metadata": {},
   "outputs": [
    {
     "data": {
      "text/plain": [
       "-0.5279374237212914"
      ]
     },
     "execution_count": 83,
     "metadata": {},
     "output_type": "execute_result"
    }
   ],
   "source": [
    "Roi_MediaTornado = (MediaTornado_d-MediaTornado_r)/MediaTornado_r*0.9\n",
    "Roi_MediaTornado"
   ]
  },
  {
   "cell_type": "markdown",
   "metadata": {},
   "source": [
    "## Результаты"
   ]
  },
  {
   "cell_type": "markdown",
   "metadata": {},
   "source": [
    "Реклама в любом случаи неокупалась на -0.50%"
   ]
  },
  {
   "cell_type": "markdown",
   "metadata": {},
   "source": [
    "# 2.5 Подготовка отчета"
   ]
  },
  {
   "cell_type": "markdown",
   "metadata": {},
   "source": [
    "В результате этой сессии были выполнены почти все задача\n",
    "\n",
    "2.1 Построение дашборда\n",
    "- Была построена Интерактивная информационная панель которая наглядно\n",
    "представлять, визуализировать и анализировать данные. \n",
    "Аналитическая система\n",
    "позволяет пользователю:\n",
    "\n",
    "\n",
    " автоматизировать работу с данными;\n",
    "\n",
    "\n",
    " анализировать все в реальном времени;\n",
    "\n",
    "\n",
    " видеть все главные метрики на одном экране;\n",
    " \n",
    "легко считывать информацию и делать выводы\n",
    "\n",
    "2.2 Исследовательский анализ данных в информационной панели\n",
    "- Разработанная информационная панель позволяет пользователю\n",
    "проводить анализ продуктовых метрик и показателей электронной коммерции.\n",
    "были вычислены такие характеристики, как заинтересованность клиента\n",
    "в продукте (DAU, WAU и MAU), количество времени, проведенное в\n",
    "приложении, распределение привлеченных пользователей с разбивкой по\n",
    "различным показателям(страна,устройство,канал,привлечения).\n",
    "Аналитическая панель содержит анализ продаж для онлайн-торговли.\n",
    "\n",
    "2.3 Создание профилей пользователей\n",
    "- Используя ранее определенную функцию построен набор данных с профилями\n",
    "пользователей. Было определено:\n",
    "\n",
    "\n",
    " Из каких стран приходят посетители? Какие страны дают больше всего\n",
    "платящих пользователей? Russia\n",
    "\n",
    "\n",
    " Какими устройствами они пользуются? С каких устройств чаще всего\n",
    "заходят платящие пользователи? iPhone\n",
    "\n",
    "По каким рекламным каналам шло привлечение пользователей? Какие каналы\n",
    "приносят больше всего платящих пользователей? organic\n",
    "\n",
    "2.4 Маркетинговый анализ\n",
    "- После проведения маркетингового анализа было расчитано:\n",
    "\n",
    "Сколько денег потратили (всего / на каждый источник / по времени)?\n",
    "\n",
    "Сколько в среднем стоило привлечение одного покупателя из каждого\n",
    "источника?\n",
    "\n",
    "Оценена окупаемость рекламы для привлечения пользователей. С помощью\n",
    "ранее разработанных функций проанализированно:\n",
    "\n",
    "Общую окупаемость рекламы;\n",
    "\n",
    "Окупаемость рекламы с разбивкой по устройствам;\n",
    "\n",
    "Окупаемость рекламы с разбивкой по странам;\n",
    "\n",
    "Окупаемость рекламы с разбивкой по рекламным каналам.\n",
    "\n",
    "2.5 Подготовка отчета\n",
    "- Был подготовлен отчет о проделанной работе по итогам сессии, в котором\n",
    "представлены результаты, выводы и обоснования выбора по каждому разделу\n",
    "задания. Результаты работы состоят из отчетов в форматах: .ipynb и\n",
    ".html, а также исходников с возможностью перекомпиляции. Архив Data.zip\n",
    "содержит все результаты выполнения модуля, а также все необходимые\n",
    "файлы для запуска и проверки участков кода. В файле Readme.txt\n",
    "описано содержимое результирующих файлов архива Data.zip."
   ]
  }
 ],
 "metadata": {
  "kernelspec": {
   "display_name": ".venv",
   "language": "python",
   "name": "python3"
  },
  "language_info": {
   "codemirror_mode": {
    "name": "ipython",
    "version": 3
   },
   "file_extension": ".py",
   "mimetype": "text/x-python",
   "name": "python",
   "nbconvert_exporter": "python",
   "pygments_lexer": "ipython3",
   "version": "3.11.7"
  }
 },
 "nbformat": 4,
 "nbformat_minor": 2
}
