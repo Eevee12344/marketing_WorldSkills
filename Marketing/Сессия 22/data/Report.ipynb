{
 "cells": [
  {
   "cell_type": "markdown",
   "metadata": {},
   "source": [
    "Скачачиваем библиотеки"
   ]
  },
  {
   "cell_type": "code",
   "execution_count": 1,
   "metadata": {},
   "outputs": [
    {
     "name": "stdout",
     "output_type": "stream",
     "text": [
      "Collecting dash\n",
      "  Using cached dash-2.16.1-py3-none-any.whl.metadata (10 kB)\n",
      "Collecting pandas\n",
      "  Using cached pandas-2.2.1-cp312-cp312-win_amd64.whl.metadata (19 kB)\n",
      "Collecting Flask<3.1,>=1.0.4 (from dash)\n",
      "  Using cached flask-3.0.2-py3-none-any.whl.metadata (3.6 kB)\n",
      "Collecting Werkzeug<3.1 (from dash)\n",
      "  Using cached werkzeug-3.0.1-py3-none-any.whl.metadata (4.1 kB)\n",
      "Collecting plotly>=5.0.0 (from dash)\n",
      "  Using cached plotly-5.20.0-py3-none-any.whl.metadata (7.0 kB)\n",
      "Requirement already satisfied: dash-html-components==2.0.0 in c:\\users\\tooer\\onedrive\\рабочий стол\\marketing\\сессия 22\\.venv\\lib\\site-packages (from dash) (2.0.0)\n",
      "Requirement already satisfied: dash-core-components==2.0.0 in c:\\users\\tooer\\onedrive\\рабочий стол\\marketing\\сессия 22\\.venv\\lib\\site-packages (from dash) (2.0.0)\n",
      "Requirement already satisfied: dash-table==5.0.0 in c:\\users\\tooer\\onedrive\\рабочий стол\\marketing\\сессия 22\\.venv\\lib\\site-packages (from dash) (5.0.0)\n",
      "Collecting importlib-metadata (from dash)\n",
      "  Using cached importlib_metadata-7.0.2-py3-none-any.whl.metadata (4.6 kB)\n",
      "Requirement already satisfied: typing-extensions>=4.1.1 in c:\\users\\tooer\\onedrive\\рабочий стол\\marketing\\сессия 22\\.venv\\lib\\site-packages (from dash) (4.10.0)\n",
      "Collecting requests (from dash)\n",
      "  Using cached requests-2.31.0-py3-none-any.whl.metadata (4.6 kB)\n",
      "Collecting retrying (from dash)\n",
      "  Using cached retrying-1.3.4-py3-none-any.whl.metadata (6.9 kB)\n",
      "Requirement already satisfied: nest-asyncio in c:\\users\\tooer\\onedrive\\рабочий стол\\marketing\\сессия 22\\.venv\\lib\\site-packages (from dash) (1.6.0)\n",
      "Requirement already satisfied: setuptools in c:\\users\\tooer\\onedrive\\рабочий стол\\marketing\\сессия 22\\.venv\\lib\\site-packages (from dash) (69.2.0)\n",
      "Collecting numpy<2,>=1.26.0 (from pandas)\n",
      "  Using cached numpy-1.26.4-cp312-cp312-win_amd64.whl.metadata (61 kB)\n",
      "Requirement already satisfied: python-dateutil>=2.8.2 in c:\\users\\tooer\\onedrive\\рабочий стол\\marketing\\сессия 22\\.venv\\lib\\site-packages (from pandas) (2.9.0.post0)\n",
      "Requirement already satisfied: pytz>=2020.1 in c:\\users\\tooer\\onedrive\\рабочий стол\\marketing\\сессия 22\\.venv\\lib\\site-packages (from pandas) (2024.1)\n",
      "Requirement already satisfied: tzdata>=2022.7 in c:\\users\\tooer\\onedrive\\рабочий стол\\marketing\\сессия 22\\.venv\\lib\\site-packages (from pandas) (2024.1)\n",
      "Collecting Jinja2>=3.1.2 (from Flask<3.1,>=1.0.4->dash)\n",
      "  Using cached Jinja2-3.1.3-py3-none-any.whl.metadata (3.3 kB)\n",
      "Collecting itsdangerous>=2.1.2 (from Flask<3.1,>=1.0.4->dash)\n",
      "  Using cached itsdangerous-2.1.2-py3-none-any.whl.metadata (2.9 kB)\n",
      "Collecting click>=8.1.3 (from Flask<3.1,>=1.0.4->dash)\n",
      "  Using cached click-8.1.7-py3-none-any.whl.metadata (3.0 kB)\n",
      "Collecting blinker>=1.6.2 (from Flask<3.1,>=1.0.4->dash)\n",
      "  Using cached blinker-1.7.0-py3-none-any.whl.metadata (1.9 kB)\n",
      "Requirement already satisfied: tenacity>=6.2.0 in c:\\users\\tooer\\onedrive\\рабочий стол\\marketing\\сессия 22\\.venv\\lib\\site-packages (from plotly>=5.0.0->dash) (8.2.3)\n",
      "Requirement already satisfied: packaging in c:\\users\\tooer\\onedrive\\рабочий стол\\marketing\\сессия 22\\.venv\\lib\\site-packages (from plotly>=5.0.0->dash) (24.0)\n",
      "Requirement already satisfied: six>=1.5 in c:\\users\\tooer\\onedrive\\рабочий стол\\marketing\\сессия 22\\.venv\\lib\\site-packages (from python-dateutil>=2.8.2->pandas) (1.16.0)\n",
      "Collecting MarkupSafe>=2.1.1 (from Werkzeug<3.1->dash)\n",
      "  Using cached MarkupSafe-2.1.5-cp312-cp312-win_amd64.whl.metadata (3.1 kB)\n",
      "Requirement already satisfied: zipp>=0.5 in c:\\users\\tooer\\onedrive\\рабочий стол\\marketing\\сессия 22\\.venv\\lib\\site-packages (from importlib-metadata->dash) (3.18.0)\n",
      "Collecting charset-normalizer<4,>=2 (from requests->dash)\n",
      "  Using cached charset_normalizer-3.3.2-cp312-cp312-win_amd64.whl.metadata (34 kB)\n",
      "Collecting idna<4,>=2.5 (from requests->dash)\n",
      "  Using cached idna-3.6-py3-none-any.whl.metadata (9.9 kB)\n",
      "Requirement already satisfied: urllib3<3,>=1.21.1 in c:\\users\\tooer\\onedrive\\рабочий стол\\marketing\\сессия 22\\.venv\\lib\\site-packages (from requests->dash) (2.2.1)\n",
      "Collecting certifi>=2017.4.17 (from requests->dash)\n",
      "  Using cached certifi-2024.2.2-py3-none-any.whl.metadata (2.2 kB)\n",
      "Requirement already satisfied: colorama in c:\\users\\tooer\\onedrive\\рабочий стол\\marketing\\сессия 22\\.venv\\lib\\site-packages (from click>=8.1.3->Flask<3.1,>=1.0.4->dash) (0.4.6)\n",
      "Using cached dash-2.16.1-py3-none-any.whl (10.2 MB)\n",
      "Using cached pandas-2.2.1-cp312-cp312-win_amd64.whl (11.5 MB)\n",
      "Using cached flask-3.0.2-py3-none-any.whl (101 kB)\n",
      "Using cached numpy-1.26.4-cp312-cp312-win_amd64.whl (15.5 MB)\n",
      "Using cached plotly-5.20.0-py3-none-any.whl (15.7 MB)\n",
      "Using cached werkzeug-3.0.1-py3-none-any.whl (226 kB)\n",
      "Using cached importlib_metadata-7.0.2-py3-none-any.whl (24 kB)\n",
      "Using cached requests-2.31.0-py3-none-any.whl (62 kB)\n",
      "Using cached retrying-1.3.4-py3-none-any.whl (11 kB)\n",
      "Using cached blinker-1.7.0-py3-none-any.whl (13 kB)\n",
      "Using cached certifi-2024.2.2-py3-none-any.whl (163 kB)\n",
      "Using cached charset_normalizer-3.3.2-cp312-cp312-win_amd64.whl (100 kB)\n",
      "Using cached click-8.1.7-py3-none-any.whl (97 kB)\n",
      "Using cached idna-3.6-py3-none-any.whl (61 kB)\n",
      "Using cached itsdangerous-2.1.2-py3-none-any.whl (15 kB)\n",
      "Using cached Jinja2-3.1.3-py3-none-any.whl (133 kB)\n",
      "Using cached MarkupSafe-2.1.5-cp312-cp312-win_amd64.whl (17 kB)\n",
      "Installing collected packages: retrying, plotly, numpy, MarkupSafe, itsdangerous, importlib-metadata, idna, click, charset-normalizer, certifi, blinker, Werkzeug, requests, pandas, Jinja2, Flask, dash\n",
      "Successfully installed Flask-3.0.2 Jinja2-3.1.3 MarkupSafe-2.1.5 Werkzeug-3.0.1 blinker-1.7.0 certifi-2024.2.2 charset-normalizer-3.3.2 click-8.1.7 dash-2.16.1 idna-3.6 importlib-metadata-7.0.2 itsdangerous-2.1.2 numpy-1.26.4 pandas-2.2.1 plotly-5.20.0 requests-2.31.0 retrying-1.3.4\n",
      "Collecting seaborn\n",
      "  Using cached seaborn-0.13.2-py3-none-any.whl.metadata (5.4 kB)\n",
      "Requirement already satisfied: numpy!=1.24.0,>=1.20 in c:\\users\\tooer\\onedrive\\рабочий стол\\marketing\\сессия 22\\.venv\\lib\\site-packages (from seaborn) (1.26.4)\n",
      "Requirement already satisfied: pandas>=1.2 in c:\\users\\tooer\\onedrive\\рабочий стол\\marketing\\сессия 22\\.venv\\lib\\site-packages (from seaborn) (2.2.1)\n",
      "Collecting matplotlib!=3.6.1,>=3.4 (from seaborn)\n",
      "  Using cached matplotlib-3.8.3-cp312-cp312-win_amd64.whl.metadata (5.9 kB)\n",
      "Collecting contourpy>=1.0.1 (from matplotlib!=3.6.1,>=3.4->seaborn)\n",
      "  Using cached contourpy-1.2.0-cp312-cp312-win_amd64.whl.metadata (5.8 kB)\n",
      "Collecting cycler>=0.10 (from matplotlib!=3.6.1,>=3.4->seaborn)\n",
      "  Using cached cycler-0.12.1-py3-none-any.whl.metadata (3.8 kB)\n",
      "Collecting fonttools>=4.22.0 (from matplotlib!=3.6.1,>=3.4->seaborn)\n",
      "  Using cached fonttools-4.50.0-cp312-cp312-win_amd64.whl.metadata (162 kB)\n",
      "Collecting kiwisolver>=1.3.1 (from matplotlib!=3.6.1,>=3.4->seaborn)\n",
      "  Using cached kiwisolver-1.4.5-cp312-cp312-win_amd64.whl.metadata (6.5 kB)\n",
      "Requirement already satisfied: packaging>=20.0 in c:\\users\\tooer\\onedrive\\рабочий стол\\marketing\\сессия 22\\.venv\\lib\\site-packages (from matplotlib!=3.6.1,>=3.4->seaborn) (24.0)\n",
      "Collecting pillow>=8 (from matplotlib!=3.6.1,>=3.4->seaborn)\n",
      "  Using cached pillow-10.2.0-cp312-cp312-win_amd64.whl.metadata (9.9 kB)\n",
      "Collecting pyparsing>=2.3.1 (from matplotlib!=3.6.1,>=3.4->seaborn)\n",
      "  Using cached pyparsing-3.1.2-py3-none-any.whl.metadata (5.1 kB)\n",
      "Requirement already satisfied: python-dateutil>=2.7 in c:\\users\\tooer\\onedrive\\рабочий стол\\marketing\\сессия 22\\.venv\\lib\\site-packages (from matplotlib!=3.6.1,>=3.4->seaborn) (2.9.0.post0)\n",
      "Requirement already satisfied: pytz>=2020.1 in c:\\users\\tooer\\onedrive\\рабочий стол\\marketing\\сессия 22\\.venv\\lib\\site-packages (from pandas>=1.2->seaborn) (2024.1)\n",
      "Requirement already satisfied: tzdata>=2022.7 in c:\\users\\tooer\\onedrive\\рабочий стол\\marketing\\сессия 22\\.venv\\lib\\site-packages (from pandas>=1.2->seaborn) (2024.1)\n",
      "Requirement already satisfied: six>=1.5 in c:\\users\\tooer\\onedrive\\рабочий стол\\marketing\\сессия 22\\.venv\\lib\\site-packages (from python-dateutil>=2.7->matplotlib!=3.6.1,>=3.4->seaborn) (1.16.0)\n",
      "Using cached seaborn-0.13.2-py3-none-any.whl (294 kB)\n",
      "Using cached matplotlib-3.8.3-cp312-cp312-win_amd64.whl (7.6 MB)\n",
      "Using cached contourpy-1.2.0-cp312-cp312-win_amd64.whl (187 kB)\n",
      "Using cached cycler-0.12.1-py3-none-any.whl (8.3 kB)\n",
      "Using cached fonttools-4.50.0-cp312-cp312-win_amd64.whl (2.2 MB)\n",
      "Using cached kiwisolver-1.4.5-cp312-cp312-win_amd64.whl (56 kB)\n",
      "Using cached pillow-10.2.0-cp312-cp312-win_amd64.whl (2.6 MB)\n",
      "Using cached pyparsing-3.1.2-py3-none-any.whl (103 kB)\n",
      "Installing collected packages: pyparsing, pillow, kiwisolver, fonttools, cycler, contourpy, matplotlib, seaborn\n",
      "Successfully installed contourpy-1.2.0 cycler-0.12.1 fonttools-4.50.0 kiwisolver-1.4.5 matplotlib-3.8.3 pillow-10.2.0 pyparsing-3.1.2 seaborn-0.13.2\n",
      "Requirement already satisfied: pandas in c:\\users\\tooer\\onedrive\\рабочий стол\\marketing\\сессия 22\\.venv\\lib\\site-packages (2.2.1)\n",
      "Requirement already satisfied: numpy<2,>=1.26.0 in c:\\users\\tooer\\onedrive\\рабочий стол\\marketing\\сессия 22\\.venv\\lib\\site-packages (from pandas) (1.26.4)\n",
      "Requirement already satisfied: python-dateutil>=2.8.2 in c:\\users\\tooer\\onedrive\\рабочий стол\\marketing\\сессия 22\\.venv\\lib\\site-packages (from pandas) (2.9.0.post0)\n",
      "Requirement already satisfied: pytz>=2020.1 in c:\\users\\tooer\\onedrive\\рабочий стол\\marketing\\сессия 22\\.venv\\lib\\site-packages (from pandas) (2024.1)\n",
      "Requirement already satisfied: tzdata>=2022.7 in c:\\users\\tooer\\onedrive\\рабочий стол\\marketing\\сессия 22\\.venv\\lib\\site-packages (from pandas) (2024.1)\n",
      "Requirement already satisfied: six>=1.5 in c:\\users\\tooer\\onedrive\\рабочий стол\\marketing\\сессия 22\\.venv\\lib\\site-packages (from python-dateutil>=2.8.2->pandas) (1.16.0)\n",
      "Collecting scipy\n",
      "  Using cached scipy-1.12.0-cp312-cp312-win_amd64.whl.metadata (60 kB)\n",
      "Requirement already satisfied: numpy<1.29.0,>=1.22.4 in c:\\users\\tooer\\onedrive\\рабочий стол\\marketing\\сессия 22\\.venv\\lib\\site-packages (from scipy) (1.26.4)\n",
      "Using cached scipy-1.12.0-cp312-cp312-win_amd64.whl (45.8 MB)\n",
      "Installing collected packages: scipy\n",
      "Successfully installed scipy-1.12.0\n",
      "Collecting psycopg2-binary\n",
      "  Using cached psycopg2_binary-2.9.9-cp312-cp312-win_amd64.whl.metadata (4.6 kB)\n",
      "Using cached psycopg2_binary-2.9.9-cp312-cp312-win_amd64.whl (1.2 MB)\n",
      "Installing collected packages: psycopg2-binary\n",
      "Successfully installed psycopg2-binary-2.9.9\n",
      "Collecting config\n",
      "  Using cached config-0.5.1-py2.py3-none-any.whl.metadata (1.4 kB)\n",
      "Using cached config-0.5.1-py2.py3-none-any.whl (20 kB)\n",
      "Installing collected packages: config\n",
      "Successfully installed config-0.5.1\n",
      "Collecting PyMySQL\n",
      "  Using cached PyMySQL-1.1.0-py3-none-any.whl.metadata (4.4 kB)\n",
      "Using cached PyMySQL-1.1.0-py3-none-any.whl (44 kB)\n",
      "Installing collected packages: PyMySQL\n",
      "Successfully installed PyMySQL-1.1.0\n",
      "Collecting sqlalchemy\n",
      "  Using cached SQLAlchemy-2.0.28-cp312-cp312-win_amd64.whl.metadata (9.8 kB)\n",
      "Requirement already satisfied: typing-extensions>=4.6.0 in c:\\users\\tooer\\onedrive\\рабочий стол\\marketing\\сессия 22\\.venv\\lib\\site-packages (from sqlalchemy) (4.10.0)\n",
      "Collecting greenlet!=0.4.17 (from sqlalchemy)\n",
      "  Using cached greenlet-3.0.3-cp312-cp312-win_amd64.whl.metadata (3.9 kB)\n",
      "Using cached SQLAlchemy-2.0.28-cp312-cp312-win_amd64.whl (2.1 MB)\n",
      "Using cached greenlet-3.0.3-cp312-cp312-win_amd64.whl (293 kB)\n",
      "Installing collected packages: greenlet, sqlalchemy\n",
      "Successfully installed greenlet-3.0.3 sqlalchemy-2.0.28\n",
      "Requirement already satisfied: numpy in c:\\users\\tooer\\onedrive\\рабочий стол\\marketing\\сессия 22\\.venv\\lib\\site-packages (1.26.4)\n",
      "Requirement already satisfied: matplotlib in c:\\users\\tooer\\onedrive\\рабочий стол\\marketing\\сессия 22\\.venv\\lib\\site-packages (3.8.3)\n",
      "Requirement already satisfied: contourpy>=1.0.1 in c:\\users\\tooer\\onedrive\\рабочий стол\\marketing\\сессия 22\\.venv\\lib\\site-packages (from matplotlib) (1.2.0)\n",
      "Requirement already satisfied: cycler>=0.10 in c:\\users\\tooer\\onedrive\\рабочий стол\\marketing\\сессия 22\\.venv\\lib\\site-packages (from matplotlib) (0.12.1)\n",
      "Requirement already satisfied: fonttools>=4.22.0 in c:\\users\\tooer\\onedrive\\рабочий стол\\marketing\\сессия 22\\.venv\\lib\\site-packages (from matplotlib) (4.50.0)\n",
      "Requirement already satisfied: kiwisolver>=1.3.1 in c:\\users\\tooer\\onedrive\\рабочий стол\\marketing\\сессия 22\\.venv\\lib\\site-packages (from matplotlib) (1.4.5)\n",
      "Requirement already satisfied: numpy<2,>=1.21 in c:\\users\\tooer\\onedrive\\рабочий стол\\marketing\\сессия 22\\.venv\\lib\\site-packages (from matplotlib) (1.26.4)\n",
      "Requirement already satisfied: packaging>=20.0 in c:\\users\\tooer\\onedrive\\рабочий стол\\marketing\\сессия 22\\.venv\\lib\\site-packages (from matplotlib) (24.0)\n",
      "Requirement already satisfied: pillow>=8 in c:\\users\\tooer\\onedrive\\рабочий стол\\marketing\\сессия 22\\.venv\\lib\\site-packages (from matplotlib) (10.2.0)\n",
      "Requirement already satisfied: pyparsing>=2.3.1 in c:\\users\\tooer\\onedrive\\рабочий стол\\marketing\\сессия 22\\.venv\\lib\\site-packages (from matplotlib) (3.1.2)\n",
      "Requirement already satisfied: python-dateutil>=2.7 in c:\\users\\tooer\\onedrive\\рабочий стол\\marketing\\сессия 22\\.venv\\lib\\site-packages (from matplotlib) (2.9.0.post0)\n",
      "Requirement already satisfied: six>=1.5 in c:\\users\\tooer\\onedrive\\рабочий стол\\marketing\\сессия 22\\.venv\\lib\\site-packages (from python-dateutil>=2.7->matplotlib) (1.16.0)\n",
      "Requirement already satisfied: seaborn in c:\\users\\tooer\\onedrive\\рабочий стол\\marketing\\сессия 22\\.venv\\lib\\site-packages (0.13.2)\n",
      "Requirement already satisfied: numpy!=1.24.0,>=1.20 in c:\\users\\tooer\\onedrive\\рабочий стол\\marketing\\сессия 22\\.venv\\lib\\site-packages (from seaborn) (1.26.4)\n",
      "Requirement already satisfied: pandas>=1.2 in c:\\users\\tooer\\onedrive\\рабочий стол\\marketing\\сессия 22\\.venv\\lib\\site-packages (from seaborn) (2.2.1)\n",
      "Requirement already satisfied: matplotlib!=3.6.1,>=3.4 in c:\\users\\tooer\\onedrive\\рабочий стол\\marketing\\сессия 22\\.venv\\lib\\site-packages (from seaborn) (3.8.3)\n",
      "Requirement already satisfied: contourpy>=1.0.1 in c:\\users\\tooer\\onedrive\\рабочий стол\\marketing\\сессия 22\\.venv\\lib\\site-packages (from matplotlib!=3.6.1,>=3.4->seaborn) (1.2.0)\n",
      "Requirement already satisfied: cycler>=0.10 in c:\\users\\tooer\\onedrive\\рабочий стол\\marketing\\сессия 22\\.venv\\lib\\site-packages (from matplotlib!=3.6.1,>=3.4->seaborn) (0.12.1)\n",
      "Requirement already satisfied: fonttools>=4.22.0 in c:\\users\\tooer\\onedrive\\рабочий стол\\marketing\\сессия 22\\.venv\\lib\\site-packages (from matplotlib!=3.6.1,>=3.4->seaborn) (4.50.0)\n",
      "Requirement already satisfied: kiwisolver>=1.3.1 in c:\\users\\tooer\\onedrive\\рабочий стол\\marketing\\сессия 22\\.venv\\lib\\site-packages (from matplotlib!=3.6.1,>=3.4->seaborn) (1.4.5)\n",
      "Requirement already satisfied: packaging>=20.0 in c:\\users\\tooer\\onedrive\\рабочий стол\\marketing\\сессия 22\\.venv\\lib\\site-packages (from matplotlib!=3.6.1,>=3.4->seaborn) (24.0)\n",
      "Requirement already satisfied: pillow>=8 in c:\\users\\tooer\\onedrive\\рабочий стол\\marketing\\сессия 22\\.venv\\lib\\site-packages (from matplotlib!=3.6.1,>=3.4->seaborn) (10.2.0)\n",
      "Requirement already satisfied: pyparsing>=2.3.1 in c:\\users\\tooer\\onedrive\\рабочий стол\\marketing\\сессия 22\\.venv\\lib\\site-packages (from matplotlib!=3.6.1,>=3.4->seaborn) (3.1.2)\n",
      "Requirement already satisfied: python-dateutil>=2.7 in c:\\users\\tooer\\onedrive\\рабочий стол\\marketing\\сессия 22\\.venv\\lib\\site-packages (from matplotlib!=3.6.1,>=3.4->seaborn) (2.9.0.post0)\n",
      "Requirement already satisfied: pytz>=2020.1 in c:\\users\\tooer\\onedrive\\рабочий стол\\marketing\\сессия 22\\.venv\\lib\\site-packages (from pandas>=1.2->seaborn) (2024.1)\n",
      "Requirement already satisfied: tzdata>=2022.7 in c:\\users\\tooer\\onedrive\\рабочий стол\\marketing\\сессия 22\\.venv\\lib\\site-packages (from pandas>=1.2->seaborn) (2024.1)\n",
      "Requirement already satisfied: six>=1.5 in c:\\users\\tooer\\onedrive\\рабочий стол\\marketing\\сессия 22\\.venv\\lib\\site-packages (from python-dateutil>=2.7->matplotlib!=3.6.1,>=3.4->seaborn) (1.16.0)\n",
      "Requirement already satisfied: scipy in c:\\users\\tooer\\onedrive\\рабочий стол\\marketing\\сессия 22\\.venv\\lib\\site-packages (1.12.0)\n",
      "Requirement already satisfied: numpy<1.29.0,>=1.22.4 in c:\\users\\tooer\\onedrive\\рабочий стол\\marketing\\сессия 22\\.venv\\lib\\site-packages (from scipy) (1.26.4)\n"
     ]
    }
   ],
   "source": [
    "!pip install dash pandas\n",
    "!pip install seaborn\n",
    "!pip install pandas\n",
    "!pip install scipy\n",
    "!pip install psycopg2-binary\n",
    "!pip install config\n",
    "!pip install PyMySQL\n",
    "!pip install sqlalchemy\n",
    "!pip install numpy\n",
    "!pip install matplotlib\n",
    "!pip install seaborn\n",
    "!pip install scipy"
   ]
  },
  {
   "cell_type": "markdown",
   "metadata": {},
   "source": [
    "импортируем библиотеки"
   ]
  },
  {
   "cell_type": "code",
   "execution_count": 19,
   "metadata": {},
   "outputs": [],
   "source": [
    "import dash\n",
    "import dash_core_components as dcc\n",
    "import dash_html_components as html\n",
    "import plotly.express as px\n",
    "import pandas as pd\n",
    "import pandas as pd\n",
    "import numpy as np\n",
    "import matplotlib.pyplot as plt\n",
    "import seaborn as sns\n",
    "import os\n",
    "import matplotlib\n",
    "from scipy import stats\n",
    "from scipy.stats import norm, skew\n",
    "from sqlalchemy import create_engine\n",
    "import psycopg2\n",
    "import dash\n",
    "import dash_core_components as dcc\n",
    "from dash import Dash, html, dash_table, dcc, callback, Output, Input\n",
    "import dash_html_components as html\n",
    "import plotly.graph_objs as go \n",
    "import plotly.express as px"
   ]
  },
  {
   "cell_type": "markdown",
   "metadata": {},
   "source": [
    "загружаем данные"
   ]
  },
  {
   "cell_type": "code",
   "execution_count": 9,
   "metadata": {},
   "outputs": [],
   "source": [
    "conn = psycopg2.connect(\n",
    "    dbname=\"Csv\",\n",
    "    user=\"postgres\",\n",
    "    password=\"12345\",\n",
    "    host=\"localhost\",\n",
    "    port=\"5432\"\n",
    ")\n",
    "cursor = conn.cursor()\n",
    "cursor.execute(\"SELECT * FROM csv.expenses\")\n",
    "results = cursor.fetchall()\n",
    "\n",
    "df_ex = pd.DataFrame(results)\n",
    "\n",
    "cursor = conn.cursor()\n",
    "cursor.execute(\"SELECT * FROM csv.order\")\n",
    "results = cursor.fetchall()\n",
    "\n",
    "df_or = pd.DataFrame(results)\n",
    "\n",
    "cursor = conn.cursor()\n",
    "cursor.execute(\"SELECT * FROM csv.visitation\")\n",
    "results = cursor.fetchall()\n",
    "\n",
    "df_vi = pd.DataFrame(results)\n",
    "\n",
    "cursor = conn.cursor()\n",
    "cursor.execute(\"SELECT * FROM public.merged_data\")\n",
    "results = cursor.fetchall()\n",
    "\n",
    "merged_data = pd.DataFrame(results)\n",
    "conn.close()"
   ]
  },
  {
   "cell_type": "code",
   "execution_count": 10,
   "metadata": {},
   "outputs": [
    {
     "data": {
      "text/html": [
       "<div>\n",
       "<style scoped>\n",
       "    .dataframe tbody tr th:only-of-type {\n",
       "        vertical-align: middle;\n",
       "    }\n",
       "\n",
       "    .dataframe tbody tr th {\n",
       "        vertical-align: top;\n",
       "    }\n",
       "\n",
       "    .dataframe thead th {\n",
       "        text-align: right;\n",
       "    }\n",
       "</style>\n",
       "<table border=\"1\" class=\"dataframe\">\n",
       "  <thead>\n",
       "    <tr style=\"text-align: right;\">\n",
       "      <th></th>\n",
       "      <th>0</th>\n",
       "      <th>1</th>\n",
       "      <th>2</th>\n",
       "      <th>3</th>\n",
       "      <th>4</th>\n",
       "      <th>5</th>\n",
       "      <th>6</th>\n",
       "      <th>7</th>\n",
       "    </tr>\n",
       "  </thead>\n",
       "  <tbody>\n",
       "    <tr>\n",
       "      <th>0</th>\n",
       "      <td>10006613101</td>\n",
       "      <td>2022-06-30 10:54:08</td>\n",
       "      <td>Android</td>\n",
       "      <td>Russia</td>\n",
       "      <td>4.99</td>\n",
       "      <td>FaceBoom</td>\n",
       "      <td>2022-06-30 10:54:29</td>\n",
       "      <td>180.253333</td>\n",
       "    </tr>\n",
       "    <tr>\n",
       "      <th>1</th>\n",
       "      <td>100256006722</td>\n",
       "      <td>2022-09-27 03:51:19</td>\n",
       "      <td>iPhone</td>\n",
       "      <td>Russia</td>\n",
       "      <td>4.99</td>\n",
       "      <td>TipTop</td>\n",
       "      <td>2022-09-27 03:51:19</td>\n",
       "      <td>267.687821</td>\n",
       "    </tr>\n",
       "    <tr>\n",
       "      <th>2</th>\n",
       "      <td>100293023530</td>\n",
       "      <td>2022-07-13 08:46:50</td>\n",
       "      <td>Mac</td>\n",
       "      <td>Russia</td>\n",
       "      <td>4.99</td>\n",
       "      <td>TipTop</td>\n",
       "      <td>2022-07-14 11:13:04</td>\n",
       "      <td>267.687821</td>\n",
       "    </tr>\n",
       "    <tr>\n",
       "      <th>3</th>\n",
       "      <td>100311327873</td>\n",
       "      <td>2022-08-18 03:42:23</td>\n",
       "      <td>PC</td>\n",
       "      <td>Thailand</td>\n",
       "      <td>5.99</td>\n",
       "      <td>WahooNetBanner</td>\n",
       "      <td>2022-08-19 07:26:38</td>\n",
       "      <td>28.616667</td>\n",
       "    </tr>\n",
       "    <tr>\n",
       "      <th>4</th>\n",
       "      <td>100352169572</td>\n",
       "      <td>2022-08-04 04:37:43</td>\n",
       "      <td>iPhone</td>\n",
       "      <td>Russia</td>\n",
       "      <td>9.99</td>\n",
       "      <td>TipTop</td>\n",
       "      <td>2022-08-05 05:19:35</td>\n",
       "      <td>267.687821</td>\n",
       "    </tr>\n",
       "    <tr>\n",
       "      <th>...</th>\n",
       "      <td>...</td>\n",
       "      <td>...</td>\n",
       "      <td>...</td>\n",
       "      <td>...</td>\n",
       "      <td>...</td>\n",
       "      <td>...</td>\n",
       "      <td>...</td>\n",
       "      <td>...</td>\n",
       "    </tr>\n",
       "    <tr>\n",
       "      <th>8859</th>\n",
       "      <td>999645428220</td>\n",
       "      <td>2022-10-01 05:35:55</td>\n",
       "      <td>Mac</td>\n",
       "      <td>Russia</td>\n",
       "      <td>5.99</td>\n",
       "      <td>TipTop</td>\n",
       "      <td>2022-10-01 05:36:23</td>\n",
       "      <td>267.687821</td>\n",
       "    </tr>\n",
       "    <tr>\n",
       "      <th>8860</th>\n",
       "      <td>999659859721</td>\n",
       "      <td>2022-09-04 10:33:02</td>\n",
       "      <td>Mac</td>\n",
       "      <td>Thailand</td>\n",
       "      <td>4.99</td>\n",
       "      <td>organic</td>\n",
       "      <td>2022-09-08 01:28:08</td>\n",
       "      <td>NaN</td>\n",
       "    </tr>\n",
       "    <tr>\n",
       "      <th>8861</th>\n",
       "      <td>99970989271</td>\n",
       "      <td>2022-09-21 07:32:47</td>\n",
       "      <td>Mac</td>\n",
       "      <td>Russia</td>\n",
       "      <td>4.99</td>\n",
       "      <td>FaceBoom</td>\n",
       "      <td>2022-09-21 07:33:27</td>\n",
       "      <td>180.253333</td>\n",
       "    </tr>\n",
       "    <tr>\n",
       "      <th>8862</th>\n",
       "      <td>999779032958</td>\n",
       "      <td>2022-07-04 10:56:11</td>\n",
       "      <td>iPhone</td>\n",
       "      <td>Russia</td>\n",
       "      <td>5.99</td>\n",
       "      <td>TipTop</td>\n",
       "      <td>2022-07-05 23:28:13</td>\n",
       "      <td>267.687821</td>\n",
       "    </tr>\n",
       "    <tr>\n",
       "      <th>8863</th>\n",
       "      <td>999895427370</td>\n",
       "      <td>2022-09-19 23:31:53</td>\n",
       "      <td>Android</td>\n",
       "      <td>Russia</td>\n",
       "      <td>4.99</td>\n",
       "      <td>FaceBoom</td>\n",
       "      <td>2022-09-19 23:33:23</td>\n",
       "      <td>180.253333</td>\n",
       "    </tr>\n",
       "  </tbody>\n",
       "</table>\n",
       "<p>8864 rows × 8 columns</p>\n",
       "</div>"
      ],
      "text/plain": [
       "                 0                   1        2         3     4  \\\n",
       "0      10006613101 2022-06-30 10:54:08  Android    Russia  4.99   \n",
       "1     100256006722 2022-09-27 03:51:19   iPhone    Russia  4.99   \n",
       "2     100293023530 2022-07-13 08:46:50      Mac    Russia  4.99   \n",
       "3     100311327873 2022-08-18 03:42:23       PC  Thailand  5.99   \n",
       "4     100352169572 2022-08-04 04:37:43   iPhone    Russia  9.99   \n",
       "...            ...                 ...      ...       ...   ...   \n",
       "8859  999645428220 2022-10-01 05:35:55      Mac    Russia  5.99   \n",
       "8860  999659859721 2022-09-04 10:33:02      Mac  Thailand  4.99   \n",
       "8861   99970989271 2022-09-21 07:32:47      Mac    Russia  4.99   \n",
       "8862  999779032958 2022-07-04 10:56:11   iPhone    Russia  5.99   \n",
       "8863  999895427370 2022-09-19 23:31:53  Android    Russia  4.99   \n",
       "\n",
       "                   5                   6           7  \n",
       "0           FaceBoom 2022-06-30 10:54:29  180.253333  \n",
       "1             TipTop 2022-09-27 03:51:19  267.687821  \n",
       "2             TipTop 2022-07-14 11:13:04  267.687821  \n",
       "3     WahooNetBanner 2022-08-19 07:26:38   28.616667  \n",
       "4             TipTop 2022-08-05 05:19:35  267.687821  \n",
       "...              ...                 ...         ...  \n",
       "8859          TipTop 2022-10-01 05:36:23  267.687821  \n",
       "8860         organic 2022-09-08 01:28:08         NaN  \n",
       "8861        FaceBoom 2022-09-21 07:33:27  180.253333  \n",
       "8862          TipTop 2022-07-05 23:28:13  267.687821  \n",
       "8863        FaceBoom 2022-09-19 23:33:23  180.253333  \n",
       "\n",
       "[8864 rows x 8 columns]"
      ]
     },
     "execution_count": 10,
     "metadata": {},
     "output_type": "execute_result"
    }
   ],
   "source": [
    "merged_data"
   ]
  },
  {
   "cell_type": "code",
   "execution_count": 11,
   "metadata": {},
   "outputs": [],
   "source": [
    "df_ex.columns = ['dt', 'Channel', 'costs']\n",
    "df_or.columns = ['User_Id' , 'Event_Dt','Revenue']\n",
    "df_vi.columns = ['User_Id' , 'Region','Device','Channel','Session_Start','Session_End']\n",
    "merged_data.columns = ['User_Id','Session_Start','Device','Region','Revenue','Channel','Event_Dt','mean_cost']"
   ]
  },
  {
   "cell_type": "markdown",
   "metadata": {},
   "source": [
    "# 2.1 Построение дашборда - 2.2"
   ]
  },
  {
   "cell_type": "markdown",
   "metadata": {},
   "source": [
    "Создадим дашборд через pandas dash ведь он очень удобный и имеет много функций"
   ]
  },
  {
   "cell_type": "code",
   "execution_count": 14,
   "metadata": {},
   "outputs": [],
   "source": [
    "df = merged_data"
   ]
  },
  {
   "cell_type": "code",
   "execution_count": 16,
   "metadata": {},
   "outputs": [
    {
     "data": {
      "text/html": [
       "<div>\n",
       "<style scoped>\n",
       "    .dataframe tbody tr th:only-of-type {\n",
       "        vertical-align: middle;\n",
       "    }\n",
       "\n",
       "    .dataframe tbody tr th {\n",
       "        vertical-align: top;\n",
       "    }\n",
       "\n",
       "    .dataframe thead th {\n",
       "        text-align: right;\n",
       "    }\n",
       "</style>\n",
       "<table border=\"1\" class=\"dataframe\">\n",
       "  <thead>\n",
       "    <tr style=\"text-align: right;\">\n",
       "      <th></th>\n",
       "      <th>User_Id</th>\n",
       "      <th>Session_Start</th>\n",
       "      <th>Device</th>\n",
       "      <th>Region</th>\n",
       "      <th>Revenue</th>\n",
       "      <th>Channel</th>\n",
       "      <th>Event_Dt</th>\n",
       "      <th>mean_cost</th>\n",
       "      <th>time</th>\n",
       "    </tr>\n",
       "  </thead>\n",
       "  <tbody>\n",
       "    <tr>\n",
       "      <th>0</th>\n",
       "      <td>10006613101</td>\n",
       "      <td>2022-06-30 10:54:08</td>\n",
       "      <td>Android</td>\n",
       "      <td>Russia</td>\n",
       "      <td>4.99</td>\n",
       "      <td>FaceBoom</td>\n",
       "      <td>2022-06-30 10:54:29</td>\n",
       "      <td>180.253333</td>\n",
       "      <td>0 days 00:00:21</td>\n",
       "    </tr>\n",
       "    <tr>\n",
       "      <th>1</th>\n",
       "      <td>100256006722</td>\n",
       "      <td>2022-09-27 03:51:19</td>\n",
       "      <td>iPhone</td>\n",
       "      <td>Russia</td>\n",
       "      <td>4.99</td>\n",
       "      <td>TipTop</td>\n",
       "      <td>2022-09-27 03:51:19</td>\n",
       "      <td>267.687821</td>\n",
       "      <td>0 days 00:00:00</td>\n",
       "    </tr>\n",
       "    <tr>\n",
       "      <th>2</th>\n",
       "      <td>100293023530</td>\n",
       "      <td>2022-07-13 08:46:50</td>\n",
       "      <td>Mac</td>\n",
       "      <td>Russia</td>\n",
       "      <td>4.99</td>\n",
       "      <td>TipTop</td>\n",
       "      <td>2022-07-14 11:13:04</td>\n",
       "      <td>267.687821</td>\n",
       "      <td>1 days 02:26:14</td>\n",
       "    </tr>\n",
       "    <tr>\n",
       "      <th>3</th>\n",
       "      <td>100311327873</td>\n",
       "      <td>2022-08-18 03:42:23</td>\n",
       "      <td>PC</td>\n",
       "      <td>Thailand</td>\n",
       "      <td>5.99</td>\n",
       "      <td>WahooNetBanner</td>\n",
       "      <td>2022-08-19 07:26:38</td>\n",
       "      <td>28.616667</td>\n",
       "      <td>1 days 03:44:15</td>\n",
       "    </tr>\n",
       "    <tr>\n",
       "      <th>4</th>\n",
       "      <td>100352169572</td>\n",
       "      <td>2022-08-04 04:37:43</td>\n",
       "      <td>iPhone</td>\n",
       "      <td>Russia</td>\n",
       "      <td>9.99</td>\n",
       "      <td>TipTop</td>\n",
       "      <td>2022-08-05 05:19:35</td>\n",
       "      <td>267.687821</td>\n",
       "      <td>1 days 00:41:52</td>\n",
       "    </tr>\n",
       "    <tr>\n",
       "      <th>...</th>\n",
       "      <td>...</td>\n",
       "      <td>...</td>\n",
       "      <td>...</td>\n",
       "      <td>...</td>\n",
       "      <td>...</td>\n",
       "      <td>...</td>\n",
       "      <td>...</td>\n",
       "      <td>...</td>\n",
       "      <td>...</td>\n",
       "    </tr>\n",
       "    <tr>\n",
       "      <th>8859</th>\n",
       "      <td>999645428220</td>\n",
       "      <td>2022-10-01 05:35:55</td>\n",
       "      <td>Mac</td>\n",
       "      <td>Russia</td>\n",
       "      <td>5.99</td>\n",
       "      <td>TipTop</td>\n",
       "      <td>2022-10-01 05:36:23</td>\n",
       "      <td>267.687821</td>\n",
       "      <td>0 days 00:00:28</td>\n",
       "    </tr>\n",
       "    <tr>\n",
       "      <th>8860</th>\n",
       "      <td>999659859721</td>\n",
       "      <td>2022-09-04 10:33:02</td>\n",
       "      <td>Mac</td>\n",
       "      <td>Thailand</td>\n",
       "      <td>4.99</td>\n",
       "      <td>organic</td>\n",
       "      <td>2022-09-08 01:28:08</td>\n",
       "      <td>NaN</td>\n",
       "      <td>3 days 14:55:06</td>\n",
       "    </tr>\n",
       "    <tr>\n",
       "      <th>8861</th>\n",
       "      <td>99970989271</td>\n",
       "      <td>2022-09-21 07:32:47</td>\n",
       "      <td>Mac</td>\n",
       "      <td>Russia</td>\n",
       "      <td>4.99</td>\n",
       "      <td>FaceBoom</td>\n",
       "      <td>2022-09-21 07:33:27</td>\n",
       "      <td>180.253333</td>\n",
       "      <td>0 days 00:00:40</td>\n",
       "    </tr>\n",
       "    <tr>\n",
       "      <th>8862</th>\n",
       "      <td>999779032958</td>\n",
       "      <td>2022-07-04 10:56:11</td>\n",
       "      <td>iPhone</td>\n",
       "      <td>Russia</td>\n",
       "      <td>5.99</td>\n",
       "      <td>TipTop</td>\n",
       "      <td>2022-07-05 23:28:13</td>\n",
       "      <td>267.687821</td>\n",
       "      <td>1 days 12:32:02</td>\n",
       "    </tr>\n",
       "    <tr>\n",
       "      <th>8863</th>\n",
       "      <td>999895427370</td>\n",
       "      <td>2022-09-19 23:31:53</td>\n",
       "      <td>Android</td>\n",
       "      <td>Russia</td>\n",
       "      <td>4.99</td>\n",
       "      <td>FaceBoom</td>\n",
       "      <td>2022-09-19 23:33:23</td>\n",
       "      <td>180.253333</td>\n",
       "      <td>0 days 00:01:30</td>\n",
       "    </tr>\n",
       "  </tbody>\n",
       "</table>\n",
       "<p>8864 rows × 9 columns</p>\n",
       "</div>"
      ],
      "text/plain": [
       "           User_Id       Session_Start   Device    Region  Revenue  \\\n",
       "0      10006613101 2022-06-30 10:54:08  Android    Russia     4.99   \n",
       "1     100256006722 2022-09-27 03:51:19   iPhone    Russia     4.99   \n",
       "2     100293023530 2022-07-13 08:46:50      Mac    Russia     4.99   \n",
       "3     100311327873 2022-08-18 03:42:23       PC  Thailand     5.99   \n",
       "4     100352169572 2022-08-04 04:37:43   iPhone    Russia     9.99   \n",
       "...            ...                 ...      ...       ...      ...   \n",
       "8859  999645428220 2022-10-01 05:35:55      Mac    Russia     5.99   \n",
       "8860  999659859721 2022-09-04 10:33:02      Mac  Thailand     4.99   \n",
       "8861   99970989271 2022-09-21 07:32:47      Mac    Russia     4.99   \n",
       "8862  999779032958 2022-07-04 10:56:11   iPhone    Russia     5.99   \n",
       "8863  999895427370 2022-09-19 23:31:53  Android    Russia     4.99   \n",
       "\n",
       "             Channel            Event_Dt   mean_cost            time  \n",
       "0           FaceBoom 2022-06-30 10:54:29  180.253333 0 days 00:00:21  \n",
       "1             TipTop 2022-09-27 03:51:19  267.687821 0 days 00:00:00  \n",
       "2             TipTop 2022-07-14 11:13:04  267.687821 1 days 02:26:14  \n",
       "3     WahooNetBanner 2022-08-19 07:26:38   28.616667 1 days 03:44:15  \n",
       "4             TipTop 2022-08-05 05:19:35  267.687821 1 days 00:41:52  \n",
       "...              ...                 ...         ...             ...  \n",
       "8859          TipTop 2022-10-01 05:36:23  267.687821 0 days 00:00:28  \n",
       "8860         organic 2022-09-08 01:28:08         NaN 3 days 14:55:06  \n",
       "8861        FaceBoom 2022-09-21 07:33:27  180.253333 0 days 00:00:40  \n",
       "8862          TipTop 2022-07-05 23:28:13  267.687821 1 days 12:32:02  \n",
       "8863        FaceBoom 2022-09-19 23:33:23  180.253333 0 days 00:01:30  \n",
       "\n",
       "[8864 rows x 9 columns]"
      ]
     },
     "execution_count": 16,
     "metadata": {},
     "output_type": "execute_result"
    }
   ],
   "source": [
    "df['time'] = df['Event_Dt'] - df['Session_Start']\n",
    "df"
   ]
  },
  {
   "cell_type": "markdown",
   "metadata": {},
   "source": [
    "выбрали  самые  важные  показатели  , чтобы  отобразить их  на  дашборде  , добавил  множенственный  выбор для 'DAU', 'WAU', 'MAU' можно  сделать дял  каждой  колонки (долго)"
   ]
  },
  {
   "cell_type": "code",
   "execution_count": 17,
   "metadata": {},
   "outputs": [],
   "source": [
    "dau = df['User_Id'].nunique()/180 #количество уникальных пользователей за день\n",
    "wau = df['User_Id'].nunique()/26  #среднее количество уникальных пользователей за неделю\n",
    "mau = df.groupby(df['Event_Dt'].dt.month)['User_Id'].nunique().mean()  \n",
    "dic={'dau':dau, 'mau':mau ,'wau':wau }\n",
    "region_mean_time_to_purchase = df.groupby('Region')['time'].mean()"
   ]
  },
  {
   "cell_type": "code",
   "execution_count": 20,
   "metadata": {},
   "outputs": [],
   "source": [
    "all_graph =  dcc.Graph(id='dau-wau-mau-graph', figure={ \n",
    "        'data': [go.Bar(x=['DAU', 'WAU', 'MAU' ],\n",
    "                        y=[dau, wau, mau ], marker=dict(color='turquoise'))], \n",
    "        'layout': {'title': 'DAU, WAU, MAU', 'plot_bgcolor': '#f8f8fa', 'paper_bgcolor': '#f8f8fa'} \n",
    "    }),"
   ]
  },
  {
   "cell_type": "code",
   "execution_count": 21,
   "metadata": {},
   "outputs": [
    {
     "data": {
      "text/html": [
       "\n",
       "        <iframe\n",
       "            width=\"100%\"\n",
       "            height=\"650\"\n",
       "            src=\"http://127.0.0.1:8050/\"\n",
       "            frameborder=\"0\"\n",
       "            allowfullscreen\n",
       "            \n",
       "        ></iframe>\n",
       "        "
      ],
      "text/plain": [
       "<IPython.lib.display.IFrame at 0x2027fdc67e0>"
      ]
     },
     "metadata": {},
     "output_type": "display_data"
    }
   ],
   "source": [
    "app = dash.Dash(__name__) \n",
    " \n",
    "#создание макета дашборда \n",
    "app.layout = html.Div([ \n",
    "    html.H1(\"Анализ продуктовых метрик и показателей электронной коммерции\", style={'color': '#150ba2'}), \n",
    "    html.Hr(),\n",
    "     dcc.RadioItems(options=['dau', 'wau', 'mau'], value='mau', id='controls-and-radio-item' , style={'backgroundColor': '#f0f0f0'}),\n",
    "     dcc.Graph(figure={}, id='controls-and-graph'),\n",
    "\n",
    "    dcc.Graph(id='transaction-distribution-graph', figure={\n",
    "        'data': [go.Bar(x=region_mean_time_to_purchase.index , y= region_mean_time_to_purchase.values, marker=dict(color='#aaaaaf'))], \n",
    "        'layout': {'title': 'среднее время до первой покупки', 'plot_bgcolor': '#f1f9fa', 'paper_bgcolor': '#f1f9fa'} \n",
    "    }), \n",
    "    \n",
    "    dcc.Graph(id='country-distribution-graph', figure={ \n",
    "        'data': [go.Bar(x=df['Region'].value_counts().index,\n",
    "                        y=df['Region'].value_counts().values, marker=dict(color='#abdfff'))], \n",
    "        'layout': {'title': 'Распределение пользователей по странам', 'plot_bgcolor': '#f8f9fa', 'paper_bgcolor': '#f8f9fa'} \n",
    "    }), \n",
    "    #график для распределения пользователей по устройствам \n",
    "    dcc.Graph(id='device-distribution-graph', figure={ \n",
    "        'data': [go.Bar(x=df['Device'].value_counts().index,\n",
    "                        y=df['Device'].value_counts().values, marker=dict(color='#7595a9'))], \n",
    "        'layout': {'title': 'Распределение пользователей по устройствам', 'plot_bgcolor': '#f8f9fa', 'paper_bgcolor': '#f8f9fa'} \n",
    "    }), \n",
    " \n",
    "    #график для распределения пользователей по каналам привлечения \n",
    "    dcc.Graph(id='channel-distribution-graph', figure={ \n",
    "        'data': [go.Bar(x=df['Channel'].value_counts().index,\n",
    "                        y=df['Channel'].value_counts().values, marker=dict(color='#6495ed'))], \n",
    "        'layout': {'title': 'Распределение пользователей по каналам привлечения', 'plot_bgcolor': '#f8f9fa', 'paper_bgcolor': '#f8f9fa'} \n",
    "    }) \n",
    "]) \n",
    "@app.callback(\n",
    "    Output(component_id='controls-and-graph', component_property='figure'),\n",
    "    Input(component_id='controls-and-radio-item', component_property='value')\n",
    ")\n",
    "def update_graph(chosen):\n",
    "    return {'data': [go.Bar(x=[chosen], y=[dic[chosen]], marker=dict(color='#abdfff'))],\n",
    "            'layout': {'title': chosen, 'plot_bgcolor': '#f1f9fa', 'paper_bgcolor': '#f1f9fa'}}\n",
    "                            \n",
    "if __name__ == '__main__':   \n",
    "    app.run_server(debug=True)"
   ]
  },
  {
   "cell_type": "markdown",
   "metadata": {},
   "source": [
    "Данный даш борд показывает все основые метрики и показатели данных"
   ]
  },
  {
   "cell_type": "markdown",
   "metadata": {},
   "source": [
    "### 2"
   ]
  },
  {
   "cell_type": "code",
   "execution_count": 118,
   "metadata": {},
   "outputs": [
    {
     "data": {
      "text/html": [
       "\n",
       "        <iframe\n",
       "            width=\"100%\"\n",
       "            height=\"650\"\n",
       "            src=\"http://127.0.0.1:8050/\"\n",
       "            frameborder=\"0\"\n",
       "            allowfullscreen\n",
       "            \n",
       "        ></iframe>\n",
       "        "
      ],
      "text/plain": [
       "<IPython.lib.display.IFrame at 0x766129c563d0>"
      ]
     },
     "metadata": {},
     "output_type": "display_data"
    }
   ],
   "source": [
    "\n",
    "app = dash.Dash(__name__)\n",
    "\n",
    "diamonds = df_ex\n",
    "\n",
    "scatter = px.scatter(\n",
    "   data_frame=diamonds,\n",
    "   x=\"Channel\",\n",
    "   y=\"costs\",\n",
    "   color=\"dt\",\n",
    "   title=\"Channel vs. costs\",\n",
    "   width=600,\n",
    "   height=400,\n",
    ")\n",
    "histogram = px.histogram(\n",
    "   data_frame=diamonds,\n",
    "   x=\"costs\",\n",
    "   title=\"Histogram of costs\",\n",
    "   width=600,\n",
    "   height=400,\n",
    ")\n",
    "violin = px.violin(\n",
    "   data_frame=diamonds,\n",
    "   x=\"dt\",\n",
    "   y=\"costs\",\n",
    "   title=\"dt vs. costs\",\n",
    "   width=600,\n",
    "   height=400,\n",
    ")\n",
    "\n",
    "left_fig = html.Div(children=dcc.Graph(figure=scatter))\n",
    "right_fig = html.Div(children=dcc.Graph(figure=histogram))\n",
    "\n",
    "upper_div = html.Div([left_fig, right_fig], style={\"display\": \"flex\"})\n",
    "central_div = html.Div(\n",
    "   children=dcc.Graph(figure=violin),\n",
    "   style={\"display\": \"flex\", \"justify-content\": \"center\"},\n",
    ")\n",
    "app.layout = html.Div([upper_div, central_div])\n",
    "\n",
    "if __name__ == \"__main__\":\n",
    "   app.run_server(debug=True)"
   ]
  },
  {
   "cell_type": "code",
   "execution_count": 1,
   "metadata": {},
   "outputs": [
    {
     "name": "stderr",
     "output_type": "stream",
     "text": [
      "\"pip\" �� ���� ����७��� ��� ���譥�\n",
      "��������, �ᯮ��塞�� �ணࠬ��� ��� ������ 䠩���.\n"
     ]
    }
   ],
   "source": [
    "!pip install pandas \n",
    "!pip install matplotlib\n",
    "!pip install seaborn\n",
    "!pip install dash\n",
    "!pip install sqlalchemy"
   ]
  },
  {
   "cell_type": "markdown",
   "metadata": {},
   "source": [
    "данный даш борд показывает многое"
   ]
  },
  {
   "cell_type": "markdown",
   "metadata": {},
   "source": [
    "# 2.3 Создание профилей пользователей"
   ]
  },
  {
   "cell_type": "markdown",
   "metadata": {},
   "source": [
    "Набор с профелями пользователей был сформирован в 1 сессии "
   ]
  },
  {
   "cell_type": "markdown",
   "metadata": {},
   "source": [
    "Посмотрим по каким рекламным каналам шло привлечение пользователей"
   ]
  },
  {
   "cell_type": "code",
   "execution_count": 22,
   "metadata": {},
   "outputs": [
    {
     "data": {
      "text/plain": [
       "{'AdNonSense',\n",
       " 'FaceBoom',\n",
       " 'LeapBob',\n",
       " 'MediaTornado',\n",
       " 'OppleCreativeMedia',\n",
       " 'RocketSuperAds',\n",
       " 'TipTop',\n",
       " 'WahooNetBanner',\n",
       " 'YRabbit',\n",
       " 'lambdaMediaAds',\n",
       " 'organic'}"
      ]
     },
     "execution_count": 22,
     "metadata": {},
     "output_type": "execute_result"
    }
   ],
   "source": [
    "#По каким рекламным каналам шло привлечение пользователей? Какие каналы приносят больше всего платящих пользователей?\n",
    "list_of_ch = set(df['Channel'])\n",
    "list_of_ch"
   ]
  },
  {
   "cell_type": "markdown",
   "metadata": {},
   "source": [
    "Посмотрим из каких стран приходят посетители и какие страны дают больше всего\n",
    "платящих пользователей?"
   ]
  },
  {
   "cell_type": "code",
   "execution_count": 23,
   "metadata": {},
   "outputs": [
    {
     "data": {
      "text/plain": [
       "Region\n",
       "Russia      6885\n",
       "Turkey       700\n",
       "Thailand     663\n",
       "China        616\n",
       "Name: count, dtype: int64"
      ]
     },
     "execution_count": 23,
     "metadata": {},
     "output_type": "execute_result"
    }
   ],
   "source": [
    "#Из каких стран приходят посетители? Какие страны дают больше всего платящих пользователей?\n",
    "most_users = df['Region'].value_counts() \n",
    "most_users"
   ]
  },
  {
   "cell_type": "markdown",
   "metadata": {},
   "source": [
    "Это оказалась Russia"
   ]
  },
  {
   "cell_type": "markdown",
   "metadata": {},
   "source": [
    "Посмотрим какими устройствами они пользуются и с каких устройств чаще всего\n",
    "заходят платящие пользователи?"
   ]
  },
  {
   "cell_type": "code",
   "execution_count": 24,
   "metadata": {},
   "outputs": [
    {
     "data": {
      "text/plain": [
       "{'Android', 'Mac', 'PC', 'iPhone'}"
      ]
     },
     "execution_count": 24,
     "metadata": {},
     "output_type": "execute_result"
    }
   ],
   "source": [
    "list_of_dv = set(df['Device'])\n",
    "list_of_dv"
   ]
  },
  {
   "cell_type": "markdown",
   "metadata": {},
   "source": [
    "Посмотрим по каким рекламным каналам шло привлечение пользователей и какие каналы\n",
    "приносят больше всего платящих пользователей?"
   ]
  },
  {
   "cell_type": "code",
   "execution_count": 25,
   "metadata": {},
   "outputs": [
    {
     "data": {
      "text/plain": [
       "Device\n",
       "iPhone     3374\n",
       "Android    2047\n",
       "Mac        1908\n",
       "PC         1535\n",
       "Name: count, dtype: int64"
      ]
     },
     "execution_count": 25,
     "metadata": {},
     "output_type": "execute_result"
    }
   ],
   "source": [
    "popular_dv = df['Device'].value_counts() \n",
    "popular_dv "
   ]
  },
  {
   "cell_type": "markdown",
   "metadata": {},
   "source": [
    "им оказался iphone"
   ]
  },
  {
   "cell_type": "markdown",
   "metadata": {},
   "source": [
    "##### 1"
   ]
  },
  {
   "cell_type": "markdown",
   "metadata": {},
   "source": [
    "Создадим Dataframe с данными пользователей"
   ]
  },
  {
   "cell_type": "code",
   "execution_count": 51,
   "metadata": {},
   "outputs": [
    {
     "data": {
      "text/html": [
       "<div>\n",
       "<style scoped>\n",
       "    .dataframe tbody tr th:only-of-type {\n",
       "        vertical-align: middle;\n",
       "    }\n",
       "\n",
       "    .dataframe tbody tr th {\n",
       "        vertical-align: top;\n",
       "    }\n",
       "\n",
       "    .dataframe thead th {\n",
       "        text-align: right;\n",
       "    }\n",
       "</style>\n",
       "<table border=\"1\" class=\"dataframe\">\n",
       "  <thead>\n",
       "    <tr style=\"text-align: right;\">\n",
       "      <th></th>\n",
       "      <th>User Id</th>\n",
       "      <th>Region</th>\n",
       "      <th>Device</th>\n",
       "      <th>Channel</th>\n",
       "      <th>Revenue</th>\n",
       "      <th>costs</th>\n",
       "    </tr>\n",
       "  </thead>\n",
       "  <tbody>\n",
       "    <tr>\n",
       "      <th>0</th>\n",
       "      <td>981449118918</td>\n",
       "      <td>Russia</td>\n",
       "      <td>iPhone</td>\n",
       "      <td>organic</td>\n",
       "      <td>4.99</td>\n",
       "      <td>6.24</td>\n",
       "    </tr>\n",
       "    <tr>\n",
       "      <th>1</th>\n",
       "      <td>278965908054</td>\n",
       "      <td>Russia</td>\n",
       "      <td>iPhone</td>\n",
       "      <td>organic</td>\n",
       "      <td>4.99</td>\n",
       "      <td>5.04</td>\n",
       "    </tr>\n",
       "    <tr>\n",
       "      <th>2</th>\n",
       "      <td>590706206550</td>\n",
       "      <td>Russia</td>\n",
       "      <td>Mac</td>\n",
       "      <td>organic</td>\n",
       "      <td>4.99</td>\n",
       "      <td>6.96</td>\n",
       "    </tr>\n",
       "    <tr>\n",
       "      <th>3</th>\n",
       "      <td>326433527971</td>\n",
       "      <td>Russia</td>\n",
       "      <td>Android</td>\n",
       "      <td>TipTop</td>\n",
       "      <td>4.99</td>\n",
       "      <td>9.36</td>\n",
       "    </tr>\n",
       "    <tr>\n",
       "      <th>4</th>\n",
       "      <td>349773784594</td>\n",
       "      <td>Russia</td>\n",
       "      <td>Mac</td>\n",
       "      <td>organic</td>\n",
       "      <td>4.99</td>\n",
       "      <td>11.04</td>\n",
       "    </tr>\n",
       "    <tr>\n",
       "      <th>...</th>\n",
       "      <td>...</td>\n",
       "      <td>...</td>\n",
       "      <td>...</td>\n",
       "      <td>...</td>\n",
       "      <td>...</td>\n",
       "      <td>...</td>\n",
       "    </tr>\n",
       "    <tr>\n",
       "      <th>1443</th>\n",
       "      <td>755840663757</td>\n",
       "      <td>Russia</td>\n",
       "      <td>iPhone</td>\n",
       "      <td>organic</td>\n",
       "      <td>4.99</td>\n",
       "      <td>4.00</td>\n",
       "    </tr>\n",
       "    <tr>\n",
       "      <th>1444</th>\n",
       "      <td>29210193047</td>\n",
       "      <td>Russia</td>\n",
       "      <td>iPhone</td>\n",
       "      <td>organic</td>\n",
       "      <td>4.99</td>\n",
       "      <td>6.40</td>\n",
       "    </tr>\n",
       "    <tr>\n",
       "      <th>1445</th>\n",
       "      <td>735968289275</td>\n",
       "      <td>Russia</td>\n",
       "      <td>Mac</td>\n",
       "      <td>FaceBoom</td>\n",
       "      <td>4.99</td>\n",
       "      <td>8.80</td>\n",
       "    </tr>\n",
       "    <tr>\n",
       "      <th>1446</th>\n",
       "      <td>40244695943</td>\n",
       "      <td>Russia</td>\n",
       "      <td>Android</td>\n",
       "      <td>organic</td>\n",
       "      <td>4.99</td>\n",
       "      <td>8.80</td>\n",
       "    </tr>\n",
       "    <tr>\n",
       "      <th>1447</th>\n",
       "      <td>841208777989</td>\n",
       "      <td>Russia</td>\n",
       "      <td>Mac</td>\n",
       "      <td>FaceBoom</td>\n",
       "      <td>4.99</td>\n",
       "      <td>12.00</td>\n",
       "    </tr>\n",
       "  </tbody>\n",
       "</table>\n",
       "<p>1448 rows × 6 columns</p>\n",
       "</div>"
      ],
      "text/plain": [
       "           User Id  Region   Device   Channel  Revenue  costs\n",
       "0     981449118918  Russia   iPhone   organic     4.99   6.24\n",
       "1     278965908054  Russia   iPhone   organic     4.99   5.04\n",
       "2     590706206550  Russia      Mac   organic     4.99   6.96\n",
       "3     326433527971  Russia  Android    TipTop     4.99   9.36\n",
       "4     349773784594  Russia      Mac   organic     4.99  11.04\n",
       "...            ...     ...      ...       ...      ...    ...\n",
       "1443  755840663757  Russia   iPhone   organic     4.99   4.00\n",
       "1444   29210193047  Russia   iPhone   organic     4.99   6.40\n",
       "1445  735968289275  Russia      Mac  FaceBoom     4.99   8.80\n",
       "1446   40244695943  Russia  Android   organic     4.99   8.80\n",
       "1447  841208777989  Russia      Mac  FaceBoom     4.99  12.00\n",
       "\n",
       "[1448 rows x 6 columns]"
      ]
     },
     "execution_count": 51,
     "metadata": {},
     "output_type": "execute_result"
    }
   ],
   "source": [
    "user_data = vis.drop(columns=['Session Start'])\n",
    "user_data = user_data.drop(columns=['Session End'])\n",
    "user_data"
   ]
  },
  {
   "cell_type": "code",
   "execution_count": 52,
   "metadata": {},
   "outputs": [],
   "source": [
    "user_data.to_csv('user_data.csv',index=False)"
   ]
  },
  {
   "cell_type": "markdown",
   "metadata": {},
   "source": [
    "# 2.4 Маркетинговый анализ"
   ]
  },
  {
   "cell_type": "markdown",
   "metadata": {},
   "source": [
    "Посмотрим на среднее занчение "
   ]
  },
  {
   "cell_type": "code",
   "execution_count": 27,
   "metadata": {},
   "outputs": [
    {
     "data": {
      "text/plain": [
       "49693.36"
      ]
     },
     "execution_count": 27,
     "metadata": {},
     "output_type": "execute_result"
    }
   ],
   "source": [
    "df.Revenue.sum()"
   ]
  },
  {
   "cell_type": "markdown",
   "metadata": {},
   "source": [
    "Посмотрим все расходы"
   ]
  },
  {
   "cell_type": "code",
   "execution_count": 28,
   "metadata": {},
   "outputs": [
    {
     "data": {
      "text/plain": [
       "92505.29999999999"
      ]
     },
     "execution_count": 28,
     "metadata": {},
     "output_type": "execute_result"
    }
   ],
   "source": [
    "df_ex.costs.sum()"
   ]
  },
  {
   "cell_type": "markdown",
   "metadata": {},
   "source": [
    "Посмотрим на все доходы "
   ]
  },
  {
   "cell_type": "code",
   "execution_count": 29,
   "metadata": {},
   "outputs": [
    {
     "data": {
      "text/plain": [
       "Channel\n",
       "AdNonSense             2378.60\n",
       "FaceBoom              18462.60\n",
       "LeapBob                1636.38\n",
       "MediaTornado            958.44\n",
       "OppleCreativeMedia     1340.67\n",
       "RocketSuperAds         2031.48\n",
       "TipTop                10875.22\n",
       "WahooNetBanner         2819.47\n",
       "YRabbit                 932.35\n",
       "lambdaMediaAds         1334.75\n",
       "organic                6923.40\n",
       "Name: Revenue, dtype: float64"
      ]
     },
     "execution_count": 29,
     "metadata": {},
     "output_type": "execute_result"
    }
   ],
   "source": [
    "# на каждый канал\n",
    "df.groupby(['Channel']).Revenue.sum()"
   ]
  },
  {
   "cell_type": "markdown",
   "metadata": {},
   "source": [
    "Сколько в среднем стоило привлечение одного покупателя из каждого\n",
    "источника?"
   ]
  },
  {
   "cell_type": "code",
   "execution_count": 33,
   "metadata": {},
   "outputs": [],
   "source": [
    "def average_cost_per_customer(source_costs, source_customers):\n",
    "    return source_costs / source_customers"
   ]
  },
  {
   "cell_type": "code",
   "execution_count": 35,
   "metadata": {},
   "outputs": [
    {
     "data": {
      "text/plain": [
       "Channel\n",
       "AdNonSense             8.889205\n",
       "FaceBoom               9.165424\n",
       "LeapBob                6.861069\n",
       "MediaTornado           6.118462\n",
       "OppleCreativeMedia     9.232833\n",
       "RocketSuperAds         5.207386\n",
       "TipTop                22.236049\n",
       "WahooNetBanner        11.370861\n",
       "YRabbit                5.722545\n",
       "lambdaMediaAds         6.922667\n",
       "organic                     NaN\n",
       "dtype: float64"
      ]
     },
     "execution_count": 35,
     "metadata": {},
     "output_type": "execute_result"
    }
   ],
   "source": [
    "avg_per_user = average_cost_per_customer(df_ex.groupby(['Channel']).costs.sum()  , df.groupby(['Channel']).User_Id.count())\n",
    "avg_per_user"
   ]
  },
  {
   "cell_type": "markdown",
   "metadata": {},
   "source": [
    "## Общая окупаемость рекламы;"
   ]
  },
  {
   "cell_type": "markdown",
   "metadata": {},
   "source": [
    "Вот так можно найти окупаемость рекламы "
   ]
  },
  {
   "attachments": {
    "image.png": {
     "image/png": "[encoded data removed]"
    }
   },
   "cell_type": "markdown",
   "metadata": {},
   "source": [
    "![image.png](attachment:image.png)"
   ]
  },
  {
   "cell_type": "code",
   "execution_count": 84,
   "metadata": {},
   "outputs": [
    {
     "data": {
      "text/plain": [
       "-0.5481468912082985"
      ]
     },
     "execution_count": 84,
     "metadata": {},
     "output_type": "execute_result"
    }
   ],
   "source": [
    "o = user_data['Revenue'].sum()\n",
    "i = user_data['costs'].sum()\n",
    "Roi = (o-i)/i*0.9\n",
    "Roi"
   ]
  },
  {
   "cell_type": "markdown",
   "metadata": {},
   "source": [
    "## Окупаемость рекламы с разбивкой по устройствам"
   ]
  },
  {
   "cell_type": "markdown",
   "metadata": {},
   "source": [
    "Вычесляем все по этой функции "
   ]
  },
  {
   "attachments": {
    "image.png": {
     "image/png": "[encoded data removed]"
    }
   },
   "cell_type": "markdown",
   "metadata": {},
   "source": [
    "![image.png](attachment:image.png)"
   ]
  },
  {
   "cell_type": "code",
   "execution_count": 86,
   "metadata": {},
   "outputs": [
    {
     "data": {
      "text/plain": [
       "8587.28"
      ]
     },
     "execution_count": 86,
     "metadata": {},
     "output_type": "execute_result"
    }
   ],
   "source": [
    "iPhone_r = user_data.loc[user_data['Device'].isin(['iPhone']), 'costs'].sum()\n",
    "iPhone_r"
   ]
  },
  {
   "cell_type": "code",
   "execution_count": 87,
   "metadata": {},
   "outputs": [
    {
     "data": {
      "text/plain": [
       "4536.53"
      ]
     },
     "execution_count": 87,
     "metadata": {},
     "output_type": "execute_result"
    }
   ],
   "source": [
    "Mac_r = user_data.loc[user_data['Device'].isin(['Mac']), 'costs'].sum()\n",
    "Mac_r"
   ]
  },
  {
   "cell_type": "code",
   "execution_count": 88,
   "metadata": {},
   "outputs": [
    {
     "data": {
      "text/plain": [
       "3875.45"
      ]
     },
     "execution_count": 88,
     "metadata": {},
     "output_type": "execute_result"
    }
   ],
   "source": [
    "Android_r = user_data.loc[user_data['Device'].isin(['Android']), 'costs'].sum()\n",
    "Android_r"
   ]
  },
  {
   "cell_type": "code",
   "execution_count": 89,
   "metadata": {},
   "outputs": [
    {
     "data": {
      "text/plain": [
       "1741.1399999999999"
      ]
     },
     "execution_count": 89,
     "metadata": {},
     "output_type": "execute_result"
    }
   ],
   "source": [
    "PC_r = user_data.loc[user_data['Device'].isin(['PC']), 'costs'].sum()\n",
    "PC_r"
   ]
  },
  {
   "cell_type": "code",
   "execution_count": 94,
   "metadata": {},
   "outputs": [
    {
     "data": {
      "text/plain": [
       "3244.590000000001"
      ]
     },
     "execution_count": 94,
     "metadata": {},
     "output_type": "execute_result"
    }
   ],
   "source": [
    "iPhone_d = user_data.loc[user_data['Device'].isin(['iPhone']), 'Revenue'].sum()\n",
    "iPhone_d"
   ]
  },
  {
   "cell_type": "code",
   "execution_count": 95,
   "metadata": {},
   "outputs": [
    {
     "data": {
      "text/plain": [
       "1845.3200000000006"
      ]
     },
     "execution_count": 95,
     "metadata": {},
     "output_type": "execute_result"
    }
   ],
   "source": [
    "Mac_d = user_data.loc[user_data['Device'].isin(['Mac']), 'Revenue'].sum()\n",
    "Mac_d"
   ]
  },
  {
   "cell_type": "code",
   "execution_count": 96,
   "metadata": {},
   "outputs": [
    {
     "data": {
      "text/plain": [
       "1499.0600000000004"
      ]
     },
     "execution_count": 96,
     "metadata": {},
     "output_type": "execute_result"
    }
   ],
   "source": [
    "Android_d = user_data.loc[user_data['Device'].isin(['Android']), 'Revenue'].sum()\n",
    "Android_d"
   ]
  },
  {
   "cell_type": "code",
   "execution_count": 97,
   "metadata": {},
   "outputs": [
    {
     "data": {
      "text/plain": [
       "737.5500000000002"
      ]
     },
     "execution_count": 97,
     "metadata": {},
     "output_type": "execute_result"
    }
   ],
   "source": [
    "PC_d = user_data.loc[user_data['Device'].isin(['PC']), 'Revenue'].sum()\n",
    "PC_d"
   ]
  },
  {
   "cell_type": "code",
   "execution_count": 98,
   "metadata": {},
   "outputs": [
    {
     "data": {
      "text/plain": [
       "-0.5599469214931853"
      ]
     },
     "execution_count": 98,
     "metadata": {},
     "output_type": "execute_result"
    }
   ],
   "source": [
    "Roi_iPhone = (iPhone_d-iPhone_r)/iPhone_r*0.9\n",
    "Roi_iPhone"
   ]
  },
  {
   "cell_type": "code",
   "execution_count": 99,
   "metadata": {},
   "outputs": [
    {
     "data": {
      "text/plain": [
       "-0.5339078546818823"
      ]
     },
     "execution_count": 99,
     "metadata": {},
     "output_type": "execute_result"
    }
   ],
   "source": [
    "Roi_Mac = (Mac_d-Mac_r)/Mac_r*0.9\n",
    "Roi_Mac"
   ]
  },
  {
   "cell_type": "code",
   "execution_count": 100,
   "metadata": {},
   "outputs": [
    {
     "data": {
      "text/plain": [
       "-0.5518716536144189"
      ]
     },
     "execution_count": 100,
     "metadata": {},
     "output_type": "execute_result"
    }
   ],
   "source": [
    "Roi_Android = (Android_d-Android_r)/Android_r*0.9\n",
    "Roi_Android"
   ]
  },
  {
   "cell_type": "code",
   "execution_count": 101,
   "metadata": {},
   "outputs": [
    {
     "data": {
      "text/plain": [
       "-0.5187583996691821"
      ]
     },
     "execution_count": 101,
     "metadata": {},
     "output_type": "execute_result"
    }
   ],
   "source": [
    "Roi_PC = (PC_d-PC_r)/PC_r*0.9\n",
    "Roi_PC"
   ]
  },
  {
   "cell_type": "markdown",
   "metadata": {},
   "source": [
    "## Окупаемость рекламы с разбивкой по странам;"
   ]
  },
  {
   "cell_type": "markdown",
   "metadata": {},
   "source": [
    "Вычесляем все по этой функции"
   ]
  },
  {
   "attachments": {
    "image.png": {
     "image/png": "[encoded data removed]"
    }
   },
   "cell_type": "markdown",
   "metadata": {},
   "source": [
    "![image.png](attachment:image.png)"
   ]
  },
  {
   "cell_type": "code",
   "execution_count": 102,
   "metadata": {},
   "outputs": [
    {
     "data": {
      "text/plain": [
       "18740.4"
      ]
     },
     "execution_count": 102,
     "metadata": {},
     "output_type": "execute_result"
    }
   ],
   "source": [
    "Russia_r = user_data.loc[user_data['Region'].isin(['Russia']), 'costs'].sum()\n",
    "Russia_r"
   ]
  },
  {
   "cell_type": "code",
   "execution_count": 103,
   "metadata": {},
   "outputs": [
    {
     "data": {
      "text/plain": [
       "7326.520000000002"
      ]
     },
     "execution_count": 103,
     "metadata": {},
     "output_type": "execute_result"
    }
   ],
   "source": [
    "Russia_d = user_data.loc[user_data['Region'].isin(['Russia']), 'Revenue'].sum()\n",
    "Russia_d"
   ]
  },
  {
   "cell_type": "code",
   "execution_count": 104,
   "metadata": {},
   "outputs": [
    {
     "data": {
      "text/plain": [
       "-0.5481468912082985"
      ]
     },
     "execution_count": 104,
     "metadata": {},
     "output_type": "execute_result"
    }
   ],
   "source": [
    "Roi_Russia = (Russia_d-Russia_r)/Russia_r*0.9\n",
    "Roi_Russia"
   ]
  },
  {
   "cell_type": "markdown",
   "metadata": {},
   "source": [
    "## Окупаемость рекламы с разбивкой по рекламным каналам."
   ]
  },
  {
   "cell_type": "markdown",
   "metadata": {},
   "source": [
    "Вычесляем все по этой функции"
   ]
  },
  {
   "attachments": {
    "image.png": {
     "image/png": "[encoded data removed]"
    }
   },
   "cell_type": "markdown",
   "metadata": {},
   "source": [
    "![image.png](attachment:image.png)"
   ]
  },
  {
   "cell_type": "code",
   "execution_count": 66,
   "metadata": {},
   "outputs": [
    {
     "data": {
      "text/plain": [
       "10167.439999999999"
      ]
     },
     "execution_count": 66,
     "metadata": {},
     "output_type": "execute_result"
    }
   ],
   "source": [
    "organic_r = user_data.loc[user_data['Channel'].isin(['organic']), 'costs'].sum()\n",
    "organic_r"
   ]
  },
  {
   "cell_type": "code",
   "execution_count": 67,
   "metadata": {},
   "outputs": [
    {
     "data": {
      "text/plain": [
       "4013.090000000001"
      ]
     },
     "execution_count": 67,
     "metadata": {},
     "output_type": "execute_result"
    }
   ],
   "source": [
    "organic_d = user_data.loc[user_data['Channel'].isin(['organic']), 'Revenue'].sum()\n",
    "organic_d"
   ]
  },
  {
   "cell_type": "code",
   "execution_count": 68,
   "metadata": {},
   "outputs": [
    {
     "data": {
      "text/plain": [
       "2472.22"
      ]
     },
     "execution_count": 68,
     "metadata": {},
     "output_type": "execute_result"
    }
   ],
   "source": [
    "TipTop_r = user_data.loc[user_data['Channel'].isin(['TipTop']), 'costs'].sum()\n",
    "TipTop_r"
   ]
  },
  {
   "cell_type": "code",
   "execution_count": 69,
   "metadata": {},
   "outputs": [
    {
     "data": {
      "text/plain": [
       "942.1400000000002"
      ]
     },
     "execution_count": 69,
     "metadata": {},
     "output_type": "execute_result"
    }
   ],
   "source": [
    "TipTop_d = user_data.loc[user_data['Channel'].isin(['TipTop']), 'Revenue'].sum()\n",
    "TipTop_d"
   ]
  },
  {
   "cell_type": "code",
   "execution_count": 70,
   "metadata": {},
   "outputs": [
    {
     "data": {
      "text/plain": [
       "2869.79"
      ]
     },
     "execution_count": 70,
     "metadata": {},
     "output_type": "execute_result"
    }
   ],
   "source": [
    "FaceBoom_r = user_data.loc[user_data['Channel'].isin(['FaceBoom']), 'costs'].sum()\n",
    "FaceBoom_r"
   ]
  },
  {
   "cell_type": "code",
   "execution_count": 71,
   "metadata": {},
   "outputs": [
    {
     "data": {
      "text/plain": [
       "1119.7800000000002"
      ]
     },
     "execution_count": 71,
     "metadata": {},
     "output_type": "execute_result"
    }
   ],
   "source": [
    "FaceBoom_d = user_data.loc[user_data['Channel'].isin(['FaceBoom']), 'Revenue'].sum()\n",
    "FaceBoom_d"
   ]
  },
  {
   "cell_type": "code",
   "execution_count": 72,
   "metadata": {},
   "outputs": [
    {
     "data": {
      "text/plain": [
       "1234.6249999999998"
      ]
     },
     "execution_count": 72,
     "metadata": {},
     "output_type": "execute_result"
    }
   ],
   "source": [
    "RocketSuperAds_r = user_data.loc[user_data['Channel'].isin(['RocketSuperAds']), 'costs'].sum()\n",
    "RocketSuperAds_r"
   ]
  },
  {
   "cell_type": "code",
   "execution_count": 73,
   "metadata": {},
   "outputs": [
    {
     "data": {
      "text/plain": [
       "465.07000000000016"
      ]
     },
     "execution_count": 73,
     "metadata": {},
     "output_type": "execute_result"
    }
   ],
   "source": [
    "RocketSuperAds_d = user_data.loc[user_data['Channel'].isin(['RocketSuperAds']), 'Revenue'].sum()\n",
    "RocketSuperAds_d"
   ]
  },
  {
   "cell_type": "code",
   "execution_count": 74,
   "metadata": {},
   "outputs": [
    {
     "data": {
      "text/plain": [
       "1185.1549999999997"
      ]
     },
     "execution_count": 74,
     "metadata": {},
     "output_type": "execute_result"
    }
   ],
   "source": [
    "YRabbit_r = user_data.loc[user_data['Channel'].isin(['YRabbit']), 'costs'].sum()\n",
    "YRabbit_r"
   ]
  },
  {
   "cell_type": "code",
   "execution_count": 75,
   "metadata": {},
   "outputs": [
    {
     "data": {
      "text/plain": [
       "451.10000000000014"
      ]
     },
     "execution_count": 75,
     "metadata": {},
     "output_type": "execute_result"
    }
   ],
   "source": [
    "YRabbit_d = user_data.loc[user_data['Channel'].isin(['YRabbit']), 'Revenue'].sum()\n",
    "YRabbit_d"
   ]
  },
  {
   "cell_type": "code",
   "execution_count": 76,
   "metadata": {},
   "outputs": [
    {
     "data": {
      "text/plain": [
       "811.17"
      ]
     },
     "execution_count": 76,
     "metadata": {},
     "output_type": "execute_result"
    }
   ],
   "source": [
    "MediaTornado_r = user_data.loc[user_data['Channel'].isin(['MediaTornado']), 'costs'].sum()\n",
    "MediaTornado_r"
   ]
  },
  {
   "cell_type": "code",
   "execution_count": 77,
   "metadata": {},
   "outputs": [
    {
     "data": {
      "text/plain": [
       "335.3400000000001"
      ]
     },
     "execution_count": 77,
     "metadata": {},
     "output_type": "execute_result"
    }
   ],
   "source": [
    "MediaTornado_d = user_data.loc[user_data['Channel'].isin(['MediaTornado']), 'Revenue'].sum()\n",
    "MediaTornado_d"
   ]
  },
  {
   "cell_type": "code",
   "execution_count": 78,
   "metadata": {},
   "outputs": [
    {
     "data": {
      "text/plain": [
       "-0.5447698732424286"
      ]
     },
     "execution_count": 78,
     "metadata": {},
     "output_type": "execute_result"
    }
   ],
   "source": [
    "Roi_organic = (organic_d-organic_r)/organic_r*0.9\n",
    "Roi_organic"
   ]
  },
  {
   "cell_type": "code",
   "execution_count": 79,
   "metadata": {},
   "outputs": [
    {
     "data": {
      "text/plain": [
       "-0.5570183883311354"
      ]
     },
     "execution_count": 79,
     "metadata": {},
     "output_type": "execute_result"
    }
   ],
   "source": [
    "Roi_TipTop = (TipTop_d-TipTop_r)/TipTop_r*0.9\n",
    "Roi_TipTop"
   ]
  },
  {
   "cell_type": "code",
   "execution_count": 80,
   "metadata": {},
   "outputs": [
    {
     "data": {
      "text/plain": [
       "-0.5488237815310527"
      ]
     },
     "execution_count": 80,
     "metadata": {},
     "output_type": "execute_result"
    }
   ],
   "source": [
    "Roi_FaceBoom = (FaceBoom_d-FaceBoom_r)/FaceBoom_r*0.9\n",
    "Roi_FaceBoom"
   ]
  },
  {
   "cell_type": "code",
   "execution_count": 81,
   "metadata": {},
   "outputs": [
    {
     "data": {
      "text/plain": [
       "-0.5609796496912016"
      ]
     },
     "execution_count": 81,
     "metadata": {},
     "output_type": "execute_result"
    }
   ],
   "source": [
    "Roi_RocketSuperAds = (RocketSuperAds_d-RocketSuperAds_r)/RocketSuperAds_r*0.9\n",
    "Roi_RocketSuperAds"
   ]
  },
  {
   "cell_type": "code",
   "execution_count": 82,
   "metadata": {},
   "outputs": [
    {
     "data": {
      "text/plain": [
       "-0.5574372128540147"
      ]
     },
     "execution_count": 82,
     "metadata": {},
     "output_type": "execute_result"
    }
   ],
   "source": [
    "Roi_YRabbit = (YRabbit_d-YRabbit_r)/YRabbit_r*0.9\n",
    "Roi_YRabbit"
   ]
  },
  {
   "cell_type": "code",
   "execution_count": 83,
   "metadata": {},
   "outputs": [
    {
     "data": {
      "text/plain": [
       "-0.5279374237212914"
      ]
     },
     "execution_count": 83,
     "metadata": {},
     "output_type": "execute_result"
    }
   ],
   "source": [
    "Roi_MediaTornado = (MediaTornado_d-MediaTornado_r)/MediaTornado_r*0.9\n",
    "Roi_MediaTornado"
   ]
  },
  {
   "cell_type": "markdown",
   "metadata": {},
   "source": [
    "## Результаты"
   ]
  },
  {
   "cell_type": "markdown",
   "metadata": {},
   "source": [
    "Реклама в любом случаи неокупалась на -0.50%"
   ]
  },
  {
   "cell_type": "markdown",
   "metadata": {},
   "source": [
    "# 2.5 Подготовка отчета"
   ]
  },
  {
   "cell_type": "markdown",
   "metadata": {},
   "source": [
    "В результате этой сессии были выполнены почти все задача\n",
    "\n",
    "2.1 Построение дашборда\n",
    "- Была построена Интерактивная информационная панель которая наглядно\n",
    "представлять, визуализировать и анализировать данные. \n",
    "Аналитическая система\n",
    "позволяет пользователю:\n",
    "\n",
    "\n",
    " автоматизировать работу с данными;\n",
    "\n",
    "\n",
    " анализировать все в реальном времени;\n",
    "\n",
    "\n",
    " видеть все главные метрики на одном экране;\n",
    " \n",
    "легко считывать информацию и делать выводы\n",
    "\n",
    "2.2 Исследовательский анализ данных в информационной панели\n",
    "- Разработанная информационная панель позволяет пользователю\n",
    "проводить анализ продуктовых метрик и показателей электронной коммерции.\n",
    "были вычислены такие характеристики, как заинтересованность клиента\n",
    "в продукте (DAU, WAU и MAU), количество времени, проведенное в\n",
    "приложении, распределение привлеченных пользователей с разбивкой по\n",
    "различным показателям(страна,устройство,канал,привлечения).\n",
    "Аналитическая панель содержит анализ продаж для онлайн-торговли.\n",
    "\n",
    "2.3 Создание профилей пользователей\n",
    "- Используя ранее определенную функцию построен набор данных с профилями\n",
    "пользователей. Было определено:\n",
    "\n",
    "\n",
    " Из каких стран приходят посетители? Какие страны дают больше всего\n",
    "платящих пользователей? Russia\n",
    "\n",
    "\n",
    " Какими устройствами они пользуются? С каких устройств чаще всего\n",
    "заходят платящие пользователи? iPhone\n",
    "\n",
    "По каким рекламным каналам шло привлечение пользователей? Какие каналы\n",
    "приносят больше всего платящих пользователей? organic\n",
    "\n",
    "2.4 Маркетинговый анализ\n",
    "- После проведения маркетингового анализа было расчитано:\n",
    "\n",
    "Сколько денег потратили (всего / на каждый источник / по времени)?\n",
    "\n",
    "Сколько в среднем стоило привлечение одного покупателя из каждого\n",
    "источника?\n",
    "\n",
    "Оценена окупаемость рекламы для привлечения пользователей. С помощью\n",
    "ранее разработанных функций проанализированно:\n",
    "\n",
    "Общую окупаемость рекламы;\n",
    "\n",
    "Окупаемость рекламы с разбивкой по устройствам;\n",
    "\n",
    "Окупаемость рекламы с разбивкой по странам;\n",
    "\n",
    "Окупаемость рекламы с разбивкой по рекламным каналам.\n",
    "\n",
    "2.5 Подготовка отчета\n",
    "- Был подготовлен отчет о проделанной работе по итогам сессии, в котором\n",
    "представлены результаты, выводы и обоснования выбора по каждому разделу\n",
    "задания. Результаты работы состоят из отчетов в форматах: .ipynb и\n",
    ".html, а также исходников с возможностью перекомпиляции. Архив Data.zip\n",
    "содержит все результаты выполнения модуля, а также все необходимые\n",
    "файлы для запуска и проверки участков кода. В файле Readme.txt\n",
    "описано содержимое результирующих файлов архива Data.zip."
   ]
  }
 ],
 "metadata": {
  "kernelspec": {
   "display_name": ".venv",
   "language": "python",
   "name": "python3"
  },
  "language_info": {
   "codemirror_mode": {
    "name": "ipython",
    "version": 3
   },
   "file_extension": ".py",
   "mimetype": "text/x-python",
   "name": "python",
   "nbconvert_exporter": "python",
   "pygments_lexer": "ipython3",
   "version": "3.12.1"
  }
 },
 "nbformat": 4,
 "nbformat_minor": 2
}
