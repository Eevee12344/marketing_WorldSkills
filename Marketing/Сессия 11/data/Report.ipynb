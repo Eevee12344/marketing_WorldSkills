{
 "cells": [
  {
   "cell_type": "markdown",
   "metadata": {},
   "source": [
    "скачиваем библиотеки"
   ]
  },
  {
   "cell_type": "code",
   "execution_count": 42,
   "metadata": {},
   "outputs": [
    {
     "name": "stdout",
     "output_type": "stream",
     "text": [
      "Requirement already satisfied: psycopg2 in ./.venv/lib/python3.11/site-packages (2.9.9)\n",
      "Requirement already satisfied: pandas in ./.venv/lib/python3.11/site-packages (2.2.1)\n",
      "Requirement already satisfied: numpy<2,>=1.23.2 in ./.venv/lib/python3.11/site-packages (from pandas) (1.26.4)\n",
      "Requirement already satisfied: python-dateutil>=2.8.2 in ./.venv/lib/python3.11/site-packages (from pandas) (2.8.2)\n",
      "Requirement already satisfied: pytz>=2020.1 in ./.venv/lib/python3.11/site-packages (from pandas) (2024.1)\n",
      "Requirement already satisfied: tzdata>=2022.7 in ./.venv/lib/python3.11/site-packages (from pandas) (2024.1)\n",
      "Requirement already satisfied: six>=1.5 in ./.venv/lib/python3.11/site-packages (from python-dateutil>=2.8.2->pandas) (1.16.0)\n",
      "Collecting scipy\n",
      "  Using cached scipy-1.12.0-cp311-cp311-manylinux_2_17_x86_64.manylinux2014_x86_64.whl.metadata (60 kB)\n",
      "Requirement already satisfied: numpy<1.29.0,>=1.22.4 in ./.venv/lib/python3.11/site-packages (from scipy) (1.26.4)\n",
      "Using cached scipy-1.12.0-cp311-cp311-manylinux_2_17_x86_64.manylinux2014_x86_64.whl (38.4 MB)\n",
      "Installing collected packages: scipy\n",
      "Successfully installed scipy-1.12.0\n"
     ]
    }
   ],
   "source": [
    "!pip install psycopg2\n",
    "!pip install pandas\n",
    "!pip install scipy"
   ]
  },
  {
   "cell_type": "markdown",
   "metadata": {},
   "source": [
    "испортируем библиотеки"
   ]
  },
  {
   "cell_type": "code",
   "execution_count": 2,
   "metadata": {},
   "outputs": [],
   "source": [
    "import pandas as pd"
   ]
  },
  {
   "cell_type": "markdown",
   "metadata": {},
   "source": [
    "# 1.1 Загрузка данных"
   ]
  },
  {
   "cell_type": "markdown",
   "metadata": {},
   "source": [
    "загружаем даннные"
   ]
  },
  {
   "cell_type": "code",
   "execution_count": 56,
   "metadata": {},
   "outputs": [],
   "source": [
    "exoenses = pd.read_csv('expenses.csv')\n",
    "orders = pd.read_csv('orders.csv')\n",
    "visitation = pd.read_csv('visitation.csv')"
   ]
  },
  {
   "cell_type": "markdown",
   "metadata": {},
   "source": [
    "смотрим"
   ]
  },
  {
   "cell_type": "code",
   "execution_count": 4,
   "metadata": {},
   "outputs": [
    {
     "data": {
      "text/html": [
       "<div>\n",
       "<style scoped>\n",
       "    .dataframe tbody tr th:only-of-type {\n",
       "        vertical-align: middle;\n",
       "    }\n",
       "\n",
       "    .dataframe tbody tr th {\n",
       "        vertical-align: top;\n",
       "    }\n",
       "\n",
       "    .dataframe thead th {\n",
       "        text-align: right;\n",
       "    }\n",
       "</style>\n",
       "<table border=\"1\" class=\"dataframe\">\n",
       "  <thead>\n",
       "    <tr style=\"text-align: right;\">\n",
       "      <th></th>\n",
       "      <th>dt</th>\n",
       "      <th>Channel</th>\n",
       "      <th>costs</th>\n",
       "    </tr>\n",
       "  </thead>\n",
       "  <tbody>\n",
       "    <tr>\n",
       "      <th>0</th>\n",
       "      <td>2022-05-01</td>\n",
       "      <td>FaceBoom</td>\n",
       "      <td>113.3</td>\n",
       "    </tr>\n",
       "    <tr>\n",
       "      <th>1</th>\n",
       "      <td>2022-05-02</td>\n",
       "      <td>FaceBoom</td>\n",
       "      <td>78.1</td>\n",
       "    </tr>\n",
       "    <tr>\n",
       "      <th>2</th>\n",
       "      <td>2022-05-03</td>\n",
       "      <td>FaceBoom</td>\n",
       "      <td>85.8</td>\n",
       "    </tr>\n",
       "    <tr>\n",
       "      <th>3</th>\n",
       "      <td>2022-05-04</td>\n",
       "      <td>FaceBoom</td>\n",
       "      <td>136.4</td>\n",
       "    </tr>\n",
       "    <tr>\n",
       "      <th>4</th>\n",
       "      <td>2022-05-05</td>\n",
       "      <td>FaceBoom</td>\n",
       "      <td>122.1</td>\n",
       "    </tr>\n",
       "    <tr>\n",
       "      <th>...</th>\n",
       "      <td>...</td>\n",
       "      <td>...</td>\n",
       "      <td>...</td>\n",
       "    </tr>\n",
       "    <tr>\n",
       "      <th>1795</th>\n",
       "      <td>2022-10-23</td>\n",
       "      <td>lambdaMediaAds</td>\n",
       "      <td>4.0</td>\n",
       "    </tr>\n",
       "    <tr>\n",
       "      <th>1796</th>\n",
       "      <td>2022-10-24</td>\n",
       "      <td>lambdaMediaAds</td>\n",
       "      <td>6.4</td>\n",
       "    </tr>\n",
       "    <tr>\n",
       "      <th>1797</th>\n",
       "      <td>2022-10-25</td>\n",
       "      <td>lambdaMediaAds</td>\n",
       "      <td>8.8</td>\n",
       "    </tr>\n",
       "    <tr>\n",
       "      <th>1798</th>\n",
       "      <td>2022-10-26</td>\n",
       "      <td>lambdaMediaAds</td>\n",
       "      <td>8.8</td>\n",
       "    </tr>\n",
       "    <tr>\n",
       "      <th>1799</th>\n",
       "      <td>2022-10-27</td>\n",
       "      <td>lambdaMediaAds</td>\n",
       "      <td>12.0</td>\n",
       "    </tr>\n",
       "  </tbody>\n",
       "</table>\n",
       "<p>1800 rows × 3 columns</p>\n",
       "</div>"
      ],
      "text/plain": [
       "              dt         Channel  costs\n",
       "0     2022-05-01        FaceBoom  113.3\n",
       "1     2022-05-02        FaceBoom   78.1\n",
       "2     2022-05-03        FaceBoom   85.8\n",
       "3     2022-05-04        FaceBoom  136.4\n",
       "4     2022-05-05        FaceBoom  122.1\n",
       "...          ...             ...    ...\n",
       "1795  2022-10-23  lambdaMediaAds    4.0\n",
       "1796  2022-10-24  lambdaMediaAds    6.4\n",
       "1797  2022-10-25  lambdaMediaAds    8.8\n",
       "1798  2022-10-26  lambdaMediaAds    8.8\n",
       "1799  2022-10-27  lambdaMediaAds   12.0\n",
       "\n",
       "[1800 rows x 3 columns]"
      ]
     },
     "execution_count": 4,
     "metadata": {},
     "output_type": "execute_result"
    }
   ],
   "source": [
    "exoenses"
   ]
  },
  {
   "cell_type": "code",
   "execution_count": 30,
   "metadata": {},
   "outputs": [
    {
     "name": "stdout",
     "output_type": "stream",
     "text": [
      "<class 'pandas.core.frame.DataFrame'>\n",
      "RangeIndex: 1800 entries, 0 to 1799\n",
      "Data columns (total 3 columns):\n",
      " #   Column   Non-Null Count  Dtype  \n",
      "---  ------   --------------  -----  \n",
      " 0   dt       1800 non-null   object \n",
      " 1   Channel  1800 non-null   object \n",
      " 2   costs    1800 non-null   float64\n",
      "dtypes: float64(1), object(2)\n",
      "memory usage: 42.3+ KB\n"
     ]
    }
   ],
   "source": [
    "exoenses.info()"
   ]
  },
  {
   "cell_type": "code",
   "execution_count": 5,
   "metadata": {},
   "outputs": [
    {
     "data": {
      "text/html": [
       "<div>\n",
       "<style scoped>\n",
       "    .dataframe tbody tr th:only-of-type {\n",
       "        vertical-align: middle;\n",
       "    }\n",
       "\n",
       "    .dataframe tbody tr th {\n",
       "        vertical-align: top;\n",
       "    }\n",
       "\n",
       "    .dataframe thead th {\n",
       "        text-align: right;\n",
       "    }\n",
       "</style>\n",
       "<table border=\"1\" class=\"dataframe\">\n",
       "  <thead>\n",
       "    <tr style=\"text-align: right;\">\n",
       "      <th></th>\n",
       "      <th>User Id</th>\n",
       "      <th>Event Dt</th>\n",
       "      <th>Revenue</th>\n",
       "    </tr>\n",
       "  </thead>\n",
       "  <tbody>\n",
       "    <tr>\n",
       "      <th>0</th>\n",
       "      <td>188246423999</td>\n",
       "      <td>2022-05-01 23:09:52</td>\n",
       "      <td>4.99</td>\n",
       "    </tr>\n",
       "    <tr>\n",
       "      <th>1</th>\n",
       "      <td>174361394180</td>\n",
       "      <td>2022-05-01 12:24:04</td>\n",
       "      <td>4.99</td>\n",
       "    </tr>\n",
       "    <tr>\n",
       "      <th>2</th>\n",
       "      <td>529610067795</td>\n",
       "      <td>2022-05-01 11:34:04</td>\n",
       "      <td>4.99</td>\n",
       "    </tr>\n",
       "    <tr>\n",
       "      <th>3</th>\n",
       "      <td>319939546352</td>\n",
       "      <td>2022-05-01 15:34:40</td>\n",
       "      <td>4.99</td>\n",
       "    </tr>\n",
       "    <tr>\n",
       "      <th>4</th>\n",
       "      <td>366000285810</td>\n",
       "      <td>2022-05-01 13:59:51</td>\n",
       "      <td>4.99</td>\n",
       "    </tr>\n",
       "    <tr>\n",
       "      <th>...</th>\n",
       "      <td>...</td>\n",
       "      <td>...</td>\n",
       "      <td>...</td>\n",
       "    </tr>\n",
       "    <tr>\n",
       "      <th>40207</th>\n",
       "      <td>651604369137</td>\n",
       "      <td>2022-10-31 16:19:07</td>\n",
       "      <td>4.99</td>\n",
       "    </tr>\n",
       "    <tr>\n",
       "      <th>40208</th>\n",
       "      <td>275341387049</td>\n",
       "      <td>2022-10-31 01:17:17</td>\n",
       "      <td>4.99</td>\n",
       "    </tr>\n",
       "    <tr>\n",
       "      <th>40209</th>\n",
       "      <td>374656616484</td>\n",
       "      <td>2022-10-31 06:17:29</td>\n",
       "      <td>4.99</td>\n",
       "    </tr>\n",
       "    <tr>\n",
       "      <th>40210</th>\n",
       "      <td>168548862926</td>\n",
       "      <td>2022-10-31 22:46:19</td>\n",
       "      <td>4.99</td>\n",
       "    </tr>\n",
       "    <tr>\n",
       "      <th>40211</th>\n",
       "      <td>329994900775</td>\n",
       "      <td>2022-10-31 13:29:06</td>\n",
       "      <td>4.99</td>\n",
       "    </tr>\n",
       "  </tbody>\n",
       "</table>\n",
       "<p>40212 rows × 3 columns</p>\n",
       "</div>"
      ],
      "text/plain": [
       "            User Id             Event Dt  Revenue\n",
       "0      188246423999  2022-05-01 23:09:52     4.99\n",
       "1      174361394180  2022-05-01 12:24:04     4.99\n",
       "2      529610067795  2022-05-01 11:34:04     4.99\n",
       "3      319939546352  2022-05-01 15:34:40     4.99\n",
       "4      366000285810  2022-05-01 13:59:51     4.99\n",
       "...             ...                  ...      ...\n",
       "40207  651604369137  2022-10-31 16:19:07     4.99\n",
       "40208  275341387049  2022-10-31 01:17:17     4.99\n",
       "40209  374656616484  2022-10-31 06:17:29     4.99\n",
       "40210  168548862926  2022-10-31 22:46:19     4.99\n",
       "40211  329994900775  2022-10-31 13:29:06     4.99\n",
       "\n",
       "[40212 rows x 3 columns]"
      ]
     },
     "execution_count": 5,
     "metadata": {},
     "output_type": "execute_result"
    }
   ],
   "source": [
    "orders"
   ]
  },
  {
   "cell_type": "code",
   "execution_count": 31,
   "metadata": {},
   "outputs": [
    {
     "name": "stdout",
     "output_type": "stream",
     "text": [
      "<class 'pandas.core.frame.DataFrame'>\n",
      "RangeIndex: 40212 entries, 0 to 40211\n",
      "Data columns (total 3 columns):\n",
      " #   Column    Non-Null Count  Dtype  \n",
      "---  ------    --------------  -----  \n",
      " 0   User Id   40212 non-null  int64  \n",
      " 1   Event Dt  40212 non-null  object \n",
      " 2   Revenue   40212 non-null  float64\n",
      "dtypes: float64(1), int64(1), object(1)\n",
      "memory usage: 942.6+ KB\n"
     ]
    }
   ],
   "source": [
    "orders.info()"
   ]
  },
  {
   "cell_type": "code",
   "execution_count": 6,
   "metadata": {},
   "outputs": [
    {
     "data": {
      "text/html": [
       "<div>\n",
       "<style scoped>\n",
       "    .dataframe tbody tr th:only-of-type {\n",
       "        vertical-align: middle;\n",
       "    }\n",
       "\n",
       "    .dataframe tbody tr th {\n",
       "        vertical-align: top;\n",
       "    }\n",
       "\n",
       "    .dataframe thead th {\n",
       "        text-align: right;\n",
       "    }\n",
       "</style>\n",
       "<table border=\"1\" class=\"dataframe\">\n",
       "  <thead>\n",
       "    <tr style=\"text-align: right;\">\n",
       "      <th></th>\n",
       "      <th>User Id</th>\n",
       "      <th>Region</th>\n",
       "      <th>Device</th>\n",
       "      <th>Channel</th>\n",
       "      <th>Session Start</th>\n",
       "      <th>Session End</th>\n",
       "    </tr>\n",
       "  </thead>\n",
       "  <tbody>\n",
       "    <tr>\n",
       "      <th>0</th>\n",
       "      <td>981449118918</td>\n",
       "      <td>Russia</td>\n",
       "      <td>iPhone</td>\n",
       "      <td>organic</td>\n",
       "      <td>2022-05-01 02:36:01</td>\n",
       "      <td>2022-05-01 02:45:01</td>\n",
       "    </tr>\n",
       "    <tr>\n",
       "      <th>1</th>\n",
       "      <td>278965908054</td>\n",
       "      <td>Russia</td>\n",
       "      <td>iPhone</td>\n",
       "      <td>organic</td>\n",
       "      <td>2022-05-01 04:46:31</td>\n",
       "      <td>2022-05-01 04:47:35</td>\n",
       "    </tr>\n",
       "    <tr>\n",
       "      <th>2</th>\n",
       "      <td>590706206550</td>\n",
       "      <td>Russia</td>\n",
       "      <td>Mac</td>\n",
       "      <td>organic</td>\n",
       "      <td>2022-05-01 14:09:25</td>\n",
       "      <td>2022-05-01 15:32:08</td>\n",
       "    </tr>\n",
       "    <tr>\n",
       "      <th>3</th>\n",
       "      <td>326433527971</td>\n",
       "      <td>Russia</td>\n",
       "      <td>Android</td>\n",
       "      <td>TipTop</td>\n",
       "      <td>2022-05-01 00:29:59</td>\n",
       "      <td>2022-05-01 00:54:25</td>\n",
       "    </tr>\n",
       "    <tr>\n",
       "      <th>4</th>\n",
       "      <td>349773784594</td>\n",
       "      <td>Russia</td>\n",
       "      <td>Mac</td>\n",
       "      <td>organic</td>\n",
       "      <td>2022-05-01 03:33:35</td>\n",
       "      <td>2022-05-01 03:57:40</td>\n",
       "    </tr>\n",
       "    <tr>\n",
       "      <th>...</th>\n",
       "      <td>...</td>\n",
       "      <td>...</td>\n",
       "      <td>...</td>\n",
       "      <td>...</td>\n",
       "      <td>...</td>\n",
       "      <td>...</td>\n",
       "    </tr>\n",
       "    <tr>\n",
       "      <th>309896</th>\n",
       "      <td>329994900775</td>\n",
       "      <td>Turkey</td>\n",
       "      <td>PC</td>\n",
       "      <td>LeapBob</td>\n",
       "      <td>2022-10-31 13:28:12</td>\n",
       "      <td>2022-10-31 14:39:29</td>\n",
       "    </tr>\n",
       "    <tr>\n",
       "      <th>309897</th>\n",
       "      <td>334903592310</td>\n",
       "      <td>Thailand</td>\n",
       "      <td>PC</td>\n",
       "      <td>lambdaMediaAds</td>\n",
       "      <td>2022-10-31 22:14:52</td>\n",
       "      <td>2022-10-31 22:39:36</td>\n",
       "    </tr>\n",
       "    <tr>\n",
       "      <th>309898</th>\n",
       "      <td>540102010126</td>\n",
       "      <td>China</td>\n",
       "      <td>PC</td>\n",
       "      <td>organic</td>\n",
       "      <td>2022-10-31 01:40:48</td>\n",
       "      <td>2022-10-31 01:41:31</td>\n",
       "    </tr>\n",
       "    <tr>\n",
       "      <th>309899</th>\n",
       "      <td>308736936846</td>\n",
       "      <td>China</td>\n",
       "      <td>Mac</td>\n",
       "      <td>organic</td>\n",
       "      <td>2022-10-31 07:37:34</td>\n",
       "      <td>2022-10-31 07:37:55</td>\n",
       "    </tr>\n",
       "    <tr>\n",
       "      <th>309900</th>\n",
       "      <td>109329042535</td>\n",
       "      <td>China</td>\n",
       "      <td>PC</td>\n",
       "      <td>lambdaMediaAds</td>\n",
       "      <td>2022-10-31 14:17:43</td>\n",
       "      <td>2022-10-31 15:17:04</td>\n",
       "    </tr>\n",
       "  </tbody>\n",
       "</table>\n",
       "<p>309901 rows × 6 columns</p>\n",
       "</div>"
      ],
      "text/plain": [
       "             User Id    Region   Device         Channel        Session Start  \\\n",
       "0       981449118918    Russia   iPhone         organic  2022-05-01 02:36:01   \n",
       "1       278965908054    Russia   iPhone         organic  2022-05-01 04:46:31   \n",
       "2       590706206550    Russia      Mac         organic  2022-05-01 14:09:25   \n",
       "3       326433527971    Russia  Android          TipTop  2022-05-01 00:29:59   \n",
       "4       349773784594    Russia      Mac         organic  2022-05-01 03:33:35   \n",
       "...              ...       ...      ...             ...                  ...   \n",
       "309896  329994900775    Turkey       PC         LeapBob  2022-10-31 13:28:12   \n",
       "309897  334903592310  Thailand       PC  lambdaMediaAds  2022-10-31 22:14:52   \n",
       "309898  540102010126     China       PC         organic  2022-10-31 01:40:48   \n",
       "309899  308736936846     China      Mac         organic  2022-10-31 07:37:34   \n",
       "309900  109329042535     China       PC  lambdaMediaAds  2022-10-31 14:17:43   \n",
       "\n",
       "                Session End  \n",
       "0       2022-05-01 02:45:01  \n",
       "1       2022-05-01 04:47:35  \n",
       "2       2022-05-01 15:32:08  \n",
       "3       2022-05-01 00:54:25  \n",
       "4       2022-05-01 03:57:40  \n",
       "...                     ...  \n",
       "309896  2022-10-31 14:39:29  \n",
       "309897  2022-10-31 22:39:36  \n",
       "309898  2022-10-31 01:41:31  \n",
       "309899  2022-10-31 07:37:55  \n",
       "309900  2022-10-31 15:17:04  \n",
       "\n",
       "[309901 rows x 6 columns]"
      ]
     },
     "execution_count": 6,
     "metadata": {},
     "output_type": "execute_result"
    }
   ],
   "source": [
    "visitation"
   ]
  },
  {
   "cell_type": "markdown",
   "metadata": {},
   "source": [
    "присоединяемся к database"
   ]
  },
  {
   "cell_type": "markdown",
   "metadata": {},
   "source": [
    "который я создал в pgAdmin 4"
   ]
  },
  {
   "cell_type": "code",
   "execution_count": 87,
   "metadata": {},
   "outputs": [],
   "source": [
    "import psycopg2;\n",
    "\n",
    "connection = psycopg2.connect(database=\"Users\",host=\"localhost\",user=\"postgres\",password=\"1234\")"
   ]
  },
  {
   "cell_type": "markdown",
   "metadata": {},
   "source": [
    "создаем таблицы в pgAdmin 4 для данных"
   ]
  },
  {
   "cell_type": "code",
   "execution_count": 83,
   "metadata": {},
   "outputs": [],
   "source": [
    "cursor = connection.cursor()\n",
    "cursor.execute('CREATE TABLE IF NOT EXISTS public.expenses(dt text COLLATE pg_catalog.\"default\",channel character varying(30) COLLATE pg_catalog.\"default\",costs character varying(30) COLLATE pg_catalog.\"default\")    TABLESPACE pg_default;  ALTER TABLE IF EXISTS public.expenses    OWNER to postgres;')\n",
    "connection.close()"
   ]
  },
  {
   "cell_type": "code",
   "execution_count": 86,
   "metadata": {},
   "outputs": [],
   "source": [
    "cursor = connection.cursor()\n",
    "cursor.execute('CREATE TABLE IF NOT EXISTS public.orders(\"User Id\" text COLLATE pg_catalog.\"default\",\"Event Dt\" text COLLATE pg_catalog.\"default\",\"Revenue\" text COLLATE pg_catalog.\"default\")    TABLESPACE pg_default;  ALTER TABLE IF EXISTS public.orders    OWNER to postgres;')\n",
    "connection.close()"
   ]
  },
  {
   "cell_type": "code",
   "execution_count": 88,
   "metadata": {},
   "outputs": [],
   "source": [
    "cursor = connection.cursor()\n",
    "cursor.execute('CREATE TABLE IF NOT EXISTS public.visitation(\"User Id\" text COLLATE pg_catalog.\"default\",\"Region\" text COLLATE pg_catalog.\"default\",\"Device\" text COLLATE pg_catalog.\"default\",\"Channel\" text COLLATE pg_catalog.\"default\",\"Session Start\" text COLLATE pg_catalog.\"default\",\"Session End\" text COLLATE pg_catalog.\"default\")    TABLESPACE pg_default;  ALTER TABLE IF EXISTS public.visitation    OWNER to postgres;')\n",
    "connection.close()"
   ]
  },
  {
   "cell_type": "markdown",
   "metadata": {},
   "source": [
    "данные спокойно загрузились"
   ]
  },
  {
   "cell_type": "markdown",
   "metadata": {},
   "source": [
    "# 1.2 Предварительная обработка данных"
   ]
  },
  {
   "cell_type": "markdown",
   "metadata": {},
   "source": [
    "Делаем предварительную обработку данных для каждого dataframe"
   ]
  },
  {
   "cell_type": "markdown",
   "metadata": {},
   "source": [
    "## expenses"
   ]
  },
  {
   "cell_type": "markdown",
   "metadata": {},
   "source": [
    "смотрим на данные"
   ]
  },
  {
   "cell_type": "code",
   "execution_count": 57,
   "metadata": {},
   "outputs": [
    {
     "data": {
      "text/html": [
       "<div>\n",
       "<style scoped>\n",
       "    .dataframe tbody tr th:only-of-type {\n",
       "        vertical-align: middle;\n",
       "    }\n",
       "\n",
       "    .dataframe tbody tr th {\n",
       "        vertical-align: top;\n",
       "    }\n",
       "\n",
       "    .dataframe thead th {\n",
       "        text-align: right;\n",
       "    }\n",
       "</style>\n",
       "<table border=\"1\" class=\"dataframe\">\n",
       "  <thead>\n",
       "    <tr style=\"text-align: right;\">\n",
       "      <th></th>\n",
       "      <th>dt</th>\n",
       "      <th>Channel</th>\n",
       "      <th>costs</th>\n",
       "    </tr>\n",
       "  </thead>\n",
       "  <tbody>\n",
       "    <tr>\n",
       "      <th>0</th>\n",
       "      <td>2022-05-01</td>\n",
       "      <td>FaceBoom</td>\n",
       "      <td>113.3</td>\n",
       "    </tr>\n",
       "    <tr>\n",
       "      <th>1</th>\n",
       "      <td>2022-05-02</td>\n",
       "      <td>FaceBoom</td>\n",
       "      <td>78.1</td>\n",
       "    </tr>\n",
       "    <tr>\n",
       "      <th>2</th>\n",
       "      <td>2022-05-03</td>\n",
       "      <td>FaceBoom</td>\n",
       "      <td>85.8</td>\n",
       "    </tr>\n",
       "    <tr>\n",
       "      <th>3</th>\n",
       "      <td>2022-05-04</td>\n",
       "      <td>FaceBoom</td>\n",
       "      <td>136.4</td>\n",
       "    </tr>\n",
       "    <tr>\n",
       "      <th>4</th>\n",
       "      <td>2022-05-05</td>\n",
       "      <td>FaceBoom</td>\n",
       "      <td>122.1</td>\n",
       "    </tr>\n",
       "    <tr>\n",
       "      <th>...</th>\n",
       "      <td>...</td>\n",
       "      <td>...</td>\n",
       "      <td>...</td>\n",
       "    </tr>\n",
       "    <tr>\n",
       "      <th>1795</th>\n",
       "      <td>2022-10-23</td>\n",
       "      <td>lambdaMediaAds</td>\n",
       "      <td>4.0</td>\n",
       "    </tr>\n",
       "    <tr>\n",
       "      <th>1796</th>\n",
       "      <td>2022-10-24</td>\n",
       "      <td>lambdaMediaAds</td>\n",
       "      <td>6.4</td>\n",
       "    </tr>\n",
       "    <tr>\n",
       "      <th>1797</th>\n",
       "      <td>2022-10-25</td>\n",
       "      <td>lambdaMediaAds</td>\n",
       "      <td>8.8</td>\n",
       "    </tr>\n",
       "    <tr>\n",
       "      <th>1798</th>\n",
       "      <td>2022-10-26</td>\n",
       "      <td>lambdaMediaAds</td>\n",
       "      <td>8.8</td>\n",
       "    </tr>\n",
       "    <tr>\n",
       "      <th>1799</th>\n",
       "      <td>2022-10-27</td>\n",
       "      <td>lambdaMediaAds</td>\n",
       "      <td>12.0</td>\n",
       "    </tr>\n",
       "  </tbody>\n",
       "</table>\n",
       "<p>1800 rows × 3 columns</p>\n",
       "</div>"
      ],
      "text/plain": [
       "              dt         Channel  costs\n",
       "0     2022-05-01        FaceBoom  113.3\n",
       "1     2022-05-02        FaceBoom   78.1\n",
       "2     2022-05-03        FaceBoom   85.8\n",
       "3     2022-05-04        FaceBoom  136.4\n",
       "4     2022-05-05        FaceBoom  122.1\n",
       "...          ...             ...    ...\n",
       "1795  2022-10-23  lambdaMediaAds    4.0\n",
       "1796  2022-10-24  lambdaMediaAds    6.4\n",
       "1797  2022-10-25  lambdaMediaAds    8.8\n",
       "1798  2022-10-26  lambdaMediaAds    8.8\n",
       "1799  2022-10-27  lambdaMediaAds   12.0\n",
       "\n",
       "[1800 rows x 3 columns]"
      ]
     },
     "execution_count": 57,
     "metadata": {},
     "output_type": "execute_result"
    }
   ],
   "source": [
    "exoenses"
   ]
  },
  {
   "cell_type": "markdown",
   "metadata": {},
   "source": [
    "удаляем дубликаты если они были"
   ]
  },
  {
   "cell_type": "code",
   "execution_count": 58,
   "metadata": {},
   "outputs": [
    {
     "data": {
      "text/html": [
       "<div>\n",
       "<style scoped>\n",
       "    .dataframe tbody tr th:only-of-type {\n",
       "        vertical-align: middle;\n",
       "    }\n",
       "\n",
       "    .dataframe tbody tr th {\n",
       "        vertical-align: top;\n",
       "    }\n",
       "\n",
       "    .dataframe thead th {\n",
       "        text-align: right;\n",
       "    }\n",
       "</style>\n",
       "<table border=\"1\" class=\"dataframe\">\n",
       "  <thead>\n",
       "    <tr style=\"text-align: right;\">\n",
       "      <th></th>\n",
       "      <th>dt</th>\n",
       "      <th>Channel</th>\n",
       "      <th>costs</th>\n",
       "    </tr>\n",
       "  </thead>\n",
       "  <tbody>\n",
       "    <tr>\n",
       "      <th>0</th>\n",
       "      <td>2022-05-01</td>\n",
       "      <td>FaceBoom</td>\n",
       "      <td>113.3</td>\n",
       "    </tr>\n",
       "    <tr>\n",
       "      <th>1</th>\n",
       "      <td>2022-05-02</td>\n",
       "      <td>FaceBoom</td>\n",
       "      <td>78.1</td>\n",
       "    </tr>\n",
       "    <tr>\n",
       "      <th>2</th>\n",
       "      <td>2022-05-03</td>\n",
       "      <td>FaceBoom</td>\n",
       "      <td>85.8</td>\n",
       "    </tr>\n",
       "    <tr>\n",
       "      <th>3</th>\n",
       "      <td>2022-05-04</td>\n",
       "      <td>FaceBoom</td>\n",
       "      <td>136.4</td>\n",
       "    </tr>\n",
       "    <tr>\n",
       "      <th>4</th>\n",
       "      <td>2022-05-05</td>\n",
       "      <td>FaceBoom</td>\n",
       "      <td>122.1</td>\n",
       "    </tr>\n",
       "    <tr>\n",
       "      <th>...</th>\n",
       "      <td>...</td>\n",
       "      <td>...</td>\n",
       "      <td>...</td>\n",
       "    </tr>\n",
       "    <tr>\n",
       "      <th>1795</th>\n",
       "      <td>2022-10-23</td>\n",
       "      <td>lambdaMediaAds</td>\n",
       "      <td>4.0</td>\n",
       "    </tr>\n",
       "    <tr>\n",
       "      <th>1796</th>\n",
       "      <td>2022-10-24</td>\n",
       "      <td>lambdaMediaAds</td>\n",
       "      <td>6.4</td>\n",
       "    </tr>\n",
       "    <tr>\n",
       "      <th>1797</th>\n",
       "      <td>2022-10-25</td>\n",
       "      <td>lambdaMediaAds</td>\n",
       "      <td>8.8</td>\n",
       "    </tr>\n",
       "    <tr>\n",
       "      <th>1798</th>\n",
       "      <td>2022-10-26</td>\n",
       "      <td>lambdaMediaAds</td>\n",
       "      <td>8.8</td>\n",
       "    </tr>\n",
       "    <tr>\n",
       "      <th>1799</th>\n",
       "      <td>2022-10-27</td>\n",
       "      <td>lambdaMediaAds</td>\n",
       "      <td>12.0</td>\n",
       "    </tr>\n",
       "  </tbody>\n",
       "</table>\n",
       "<p>1800 rows × 3 columns</p>\n",
       "</div>"
      ],
      "text/plain": [
       "              dt         Channel  costs\n",
       "0     2022-05-01        FaceBoom  113.3\n",
       "1     2022-05-02        FaceBoom   78.1\n",
       "2     2022-05-03        FaceBoom   85.8\n",
       "3     2022-05-04        FaceBoom  136.4\n",
       "4     2022-05-05        FaceBoom  122.1\n",
       "...          ...             ...    ...\n",
       "1795  2022-10-23  lambdaMediaAds    4.0\n",
       "1796  2022-10-24  lambdaMediaAds    6.4\n",
       "1797  2022-10-25  lambdaMediaAds    8.8\n",
       "1798  2022-10-26  lambdaMediaAds    8.8\n",
       "1799  2022-10-27  lambdaMediaAds   12.0\n",
       "\n",
       "[1800 rows x 3 columns]"
      ]
     },
     "execution_count": 58,
     "metadata": {},
     "output_type": "execute_result"
    }
   ],
   "source": [
    "exoenses.drop_duplicates()"
   ]
  },
  {
   "cell_type": "markdown",
   "metadata": {},
   "source": [
    "смотрим на среднее значение для просмотра выбросов"
   ]
  },
  {
   "cell_type": "code",
   "execution_count": 51,
   "metadata": {},
   "outputs": [
    {
     "data": {
      "text/html": [
       "<div>\n",
       "<style scoped>\n",
       "    .dataframe tbody tr th:only-of-type {\n",
       "        vertical-align: middle;\n",
       "    }\n",
       "\n",
       "    .dataframe tbody tr th {\n",
       "        vertical-align: top;\n",
       "    }\n",
       "\n",
       "    .dataframe thead th {\n",
       "        text-align: right;\n",
       "    }\n",
       "</style>\n",
       "<table border=\"1\" class=\"dataframe\">\n",
       "  <thead>\n",
       "    <tr style=\"text-align: right;\">\n",
       "      <th></th>\n",
       "      <th>costs</th>\n",
       "    </tr>\n",
       "  </thead>\n",
       "  <tbody>\n",
       "    <tr>\n",
       "      <th>count</th>\n",
       "      <td>1800.000000</td>\n",
       "    </tr>\n",
       "    <tr>\n",
       "      <th>mean</th>\n",
       "      <td>58.609611</td>\n",
       "    </tr>\n",
       "    <tr>\n",
       "      <th>std</th>\n",
       "      <td>107.740223</td>\n",
       "    </tr>\n",
       "    <tr>\n",
       "      <th>min</th>\n",
       "      <td>0.800000</td>\n",
       "    </tr>\n",
       "    <tr>\n",
       "      <th>25%</th>\n",
       "      <td>6.495000</td>\n",
       "    </tr>\n",
       "    <tr>\n",
       "      <th>50%</th>\n",
       "      <td>12.285000</td>\n",
       "    </tr>\n",
       "    <tr>\n",
       "      <th>75%</th>\n",
       "      <td>33.600000</td>\n",
       "    </tr>\n",
       "    <tr>\n",
       "      <th>max</th>\n",
       "      <td>630.000000</td>\n",
       "    </tr>\n",
       "  </tbody>\n",
       "</table>\n",
       "</div>"
      ],
      "text/plain": [
       "             costs\n",
       "count  1800.000000\n",
       "mean     58.609611\n",
       "std     107.740223\n",
       "min       0.800000\n",
       "25%       6.495000\n",
       "50%      12.285000\n",
       "75%      33.600000\n",
       "max     630.000000"
      ]
     },
     "execution_count": 51,
     "metadata": {},
     "output_type": "execute_result"
    }
   ],
   "source": [
    "exoenses.describe()"
   ]
  },
  {
   "cell_type": "markdown",
   "metadata": {},
   "source": [
    "удаяем выбросы"
   ]
  },
  {
   "cell_type": "code",
   "execution_count": 64,
   "metadata": {},
   "outputs": [
    {
     "name": "stdout",
     "output_type": "stream",
     "text": [
      "              dt         Channel  costs\n",
      "180   2022-05-01    MediaTornado   6.24\n",
      "181   2022-05-02    MediaTornado   5.04\n",
      "182   2022-05-03    MediaTornado   6.96\n",
      "183   2022-05-04    MediaTornado   9.36\n",
      "184   2022-05-05    MediaTornado  11.04\n",
      "...          ...             ...    ...\n",
      "1795  2022-10-23  lambdaMediaAds   4.00\n",
      "1796  2022-10-24  lambdaMediaAds   6.40\n",
      "1797  2022-10-25  lambdaMediaAds   8.80\n",
      "1798  2022-10-26  lambdaMediaAds   8.80\n",
      "1799  2022-10-27  lambdaMediaAds  12.00\n",
      "\n",
      "[1448 rows x 3 columns]\n"
     ]
    }
   ],
   "source": [
    "exoenses = exoenses.loc[exoenses['costs'] <= 60]\n",
    " \n",
    "print(exoenses)"
   ]
  },
  {
   "cell_type": "markdown",
   "metadata": {},
   "source": [
    "смотрим опять"
   ]
  },
  {
   "cell_type": "code",
   "execution_count": 65,
   "metadata": {},
   "outputs": [
    {
     "data": {
      "text/html": [
       "<div>\n",
       "<style scoped>\n",
       "    .dataframe tbody tr th:only-of-type {\n",
       "        vertical-align: middle;\n",
       "    }\n",
       "\n",
       "    .dataframe tbody tr th {\n",
       "        vertical-align: top;\n",
       "    }\n",
       "\n",
       "    .dataframe thead th {\n",
       "        text-align: right;\n",
       "    }\n",
       "</style>\n",
       "<table border=\"1\" class=\"dataframe\">\n",
       "  <thead>\n",
       "    <tr style=\"text-align: right;\">\n",
       "      <th></th>\n",
       "      <th>costs</th>\n",
       "    </tr>\n",
       "  </thead>\n",
       "  <tbody>\n",
       "    <tr>\n",
       "      <th>count</th>\n",
       "      <td>1448.000000</td>\n",
       "    </tr>\n",
       "    <tr>\n",
       "      <th>mean</th>\n",
       "      <td>12.942265</td>\n",
       "    </tr>\n",
       "    <tr>\n",
       "      <th>std</th>\n",
       "      <td>10.218084</td>\n",
       "    </tr>\n",
       "    <tr>\n",
       "      <th>min</th>\n",
       "      <td>0.800000</td>\n",
       "    </tr>\n",
       "    <tr>\n",
       "      <th>25%</th>\n",
       "      <td>5.757500</td>\n",
       "    </tr>\n",
       "    <tr>\n",
       "      <th>50%</th>\n",
       "      <td>9.750000</td>\n",
       "    </tr>\n",
       "    <tr>\n",
       "      <th>75%</th>\n",
       "      <td>16.380000</td>\n",
       "    </tr>\n",
       "    <tr>\n",
       "      <th>max</th>\n",
       "      <td>60.000000</td>\n",
       "    </tr>\n",
       "  </tbody>\n",
       "</table>\n",
       "</div>"
      ],
      "text/plain": [
       "             costs\n",
       "count  1448.000000\n",
       "mean     12.942265\n",
       "std      10.218084\n",
       "min       0.800000\n",
       "25%       5.757500\n",
       "50%       9.750000\n",
       "75%      16.380000\n",
       "max      60.000000"
      ]
     },
     "execution_count": 65,
     "metadata": {},
     "output_type": "execute_result"
    }
   ],
   "source": [
    "exoenses.describe()"
   ]
  },
  {
   "cell_type": "markdown",
   "metadata": {},
   "source": [
    "## orders"
   ]
  },
  {
   "cell_type": "markdown",
   "metadata": {},
   "source": [
    "смотрим на данные"
   ]
  },
  {
   "cell_type": "code",
   "execution_count": 66,
   "metadata": {},
   "outputs": [
    {
     "data": {
      "text/html": [
       "<div>\n",
       "<style scoped>\n",
       "    .dataframe tbody tr th:only-of-type {\n",
       "        vertical-align: middle;\n",
       "    }\n",
       "\n",
       "    .dataframe tbody tr th {\n",
       "        vertical-align: top;\n",
       "    }\n",
       "\n",
       "    .dataframe thead th {\n",
       "        text-align: right;\n",
       "    }\n",
       "</style>\n",
       "<table border=\"1\" class=\"dataframe\">\n",
       "  <thead>\n",
       "    <tr style=\"text-align: right;\">\n",
       "      <th></th>\n",
       "      <th>User Id</th>\n",
       "      <th>Event Dt</th>\n",
       "      <th>Revenue</th>\n",
       "    </tr>\n",
       "  </thead>\n",
       "  <tbody>\n",
       "    <tr>\n",
       "      <th>0</th>\n",
       "      <td>188246423999</td>\n",
       "      <td>2022-05-01 23:09:52</td>\n",
       "      <td>4.99</td>\n",
       "    </tr>\n",
       "    <tr>\n",
       "      <th>1</th>\n",
       "      <td>174361394180</td>\n",
       "      <td>2022-05-01 12:24:04</td>\n",
       "      <td>4.99</td>\n",
       "    </tr>\n",
       "    <tr>\n",
       "      <th>2</th>\n",
       "      <td>529610067795</td>\n",
       "      <td>2022-05-01 11:34:04</td>\n",
       "      <td>4.99</td>\n",
       "    </tr>\n",
       "    <tr>\n",
       "      <th>3</th>\n",
       "      <td>319939546352</td>\n",
       "      <td>2022-05-01 15:34:40</td>\n",
       "      <td>4.99</td>\n",
       "    </tr>\n",
       "    <tr>\n",
       "      <th>4</th>\n",
       "      <td>366000285810</td>\n",
       "      <td>2022-05-01 13:59:51</td>\n",
       "      <td>4.99</td>\n",
       "    </tr>\n",
       "    <tr>\n",
       "      <th>...</th>\n",
       "      <td>...</td>\n",
       "      <td>...</td>\n",
       "      <td>...</td>\n",
       "    </tr>\n",
       "    <tr>\n",
       "      <th>40207</th>\n",
       "      <td>651604369137</td>\n",
       "      <td>2022-10-31 16:19:07</td>\n",
       "      <td>4.99</td>\n",
       "    </tr>\n",
       "    <tr>\n",
       "      <th>40208</th>\n",
       "      <td>275341387049</td>\n",
       "      <td>2022-10-31 01:17:17</td>\n",
       "      <td>4.99</td>\n",
       "    </tr>\n",
       "    <tr>\n",
       "      <th>40209</th>\n",
       "      <td>374656616484</td>\n",
       "      <td>2022-10-31 06:17:29</td>\n",
       "      <td>4.99</td>\n",
       "    </tr>\n",
       "    <tr>\n",
       "      <th>40210</th>\n",
       "      <td>168548862926</td>\n",
       "      <td>2022-10-31 22:46:19</td>\n",
       "      <td>4.99</td>\n",
       "    </tr>\n",
       "    <tr>\n",
       "      <th>40211</th>\n",
       "      <td>329994900775</td>\n",
       "      <td>2022-10-31 13:29:06</td>\n",
       "      <td>4.99</td>\n",
       "    </tr>\n",
       "  </tbody>\n",
       "</table>\n",
       "<p>40212 rows × 3 columns</p>\n",
       "</div>"
      ],
      "text/plain": [
       "            User Id             Event Dt  Revenue\n",
       "0      188246423999  2022-05-01 23:09:52     4.99\n",
       "1      174361394180  2022-05-01 12:24:04     4.99\n",
       "2      529610067795  2022-05-01 11:34:04     4.99\n",
       "3      319939546352  2022-05-01 15:34:40     4.99\n",
       "4      366000285810  2022-05-01 13:59:51     4.99\n",
       "...             ...                  ...      ...\n",
       "40207  651604369137  2022-10-31 16:19:07     4.99\n",
       "40208  275341387049  2022-10-31 01:17:17     4.99\n",
       "40209  374656616484  2022-10-31 06:17:29     4.99\n",
       "40210  168548862926  2022-10-31 22:46:19     4.99\n",
       "40211  329994900775  2022-10-31 13:29:06     4.99\n",
       "\n",
       "[40212 rows x 3 columns]"
      ]
     },
     "execution_count": 66,
     "metadata": {},
     "output_type": "execute_result"
    }
   ],
   "source": [
    "orders"
   ]
  },
  {
   "cell_type": "markdown",
   "metadata": {},
   "source": [
    "смотрим на пропуски"
   ]
  },
  {
   "cell_type": "code",
   "execution_count": 67,
   "metadata": {},
   "outputs": [
    {
     "name": "stdout",
     "output_type": "stream",
     "text": [
      "<class 'pandas.core.frame.DataFrame'>\n",
      "RangeIndex: 40212 entries, 0 to 40211\n",
      "Data columns (total 3 columns):\n",
      " #   Column    Non-Null Count  Dtype  \n",
      "---  ------    --------------  -----  \n",
      " 0   User Id   40212 non-null  int64  \n",
      " 1   Event Dt  40212 non-null  object \n",
      " 2   Revenue   40212 non-null  float64\n",
      "dtypes: float64(1), int64(1), object(1)\n",
      "memory usage: 942.6+ KB\n"
     ]
    }
   ],
   "source": [
    "orders.info()"
   ]
  },
  {
   "cell_type": "markdown",
   "metadata": {},
   "source": [
    "удаляем дубликаты"
   ]
  },
  {
   "cell_type": "code",
   "execution_count": 89,
   "metadata": {},
   "outputs": [
    {
     "data": {
      "text/html": [
       "<div>\n",
       "<style scoped>\n",
       "    .dataframe tbody tr th:only-of-type {\n",
       "        vertical-align: middle;\n",
       "    }\n",
       "\n",
       "    .dataframe tbody tr th {\n",
       "        vertical-align: top;\n",
       "    }\n",
       "\n",
       "    .dataframe thead th {\n",
       "        text-align: right;\n",
       "    }\n",
       "</style>\n",
       "<table border=\"1\" class=\"dataframe\">\n",
       "  <thead>\n",
       "    <tr style=\"text-align: right;\">\n",
       "      <th></th>\n",
       "      <th>User Id</th>\n",
       "      <th>Event Dt</th>\n",
       "      <th>Revenue</th>\n",
       "    </tr>\n",
       "  </thead>\n",
       "  <tbody>\n",
       "    <tr>\n",
       "      <th>0</th>\n",
       "      <td>188246423999</td>\n",
       "      <td>2022-05-01 23:09:52</td>\n",
       "      <td>4.99</td>\n",
       "    </tr>\n",
       "    <tr>\n",
       "      <th>1</th>\n",
       "      <td>174361394180</td>\n",
       "      <td>2022-05-01 12:24:04</td>\n",
       "      <td>4.99</td>\n",
       "    </tr>\n",
       "    <tr>\n",
       "      <th>2</th>\n",
       "      <td>529610067795</td>\n",
       "      <td>2022-05-01 11:34:04</td>\n",
       "      <td>4.99</td>\n",
       "    </tr>\n",
       "    <tr>\n",
       "      <th>3</th>\n",
       "      <td>319939546352</td>\n",
       "      <td>2022-05-01 15:34:40</td>\n",
       "      <td>4.99</td>\n",
       "    </tr>\n",
       "    <tr>\n",
       "      <th>4</th>\n",
       "      <td>366000285810</td>\n",
       "      <td>2022-05-01 13:59:51</td>\n",
       "      <td>4.99</td>\n",
       "    </tr>\n",
       "    <tr>\n",
       "      <th>...</th>\n",
       "      <td>...</td>\n",
       "      <td>...</td>\n",
       "      <td>...</td>\n",
       "    </tr>\n",
       "    <tr>\n",
       "      <th>40207</th>\n",
       "      <td>651604369137</td>\n",
       "      <td>2022-10-31 16:19:07</td>\n",
       "      <td>4.99</td>\n",
       "    </tr>\n",
       "    <tr>\n",
       "      <th>40208</th>\n",
       "      <td>275341387049</td>\n",
       "      <td>2022-10-31 01:17:17</td>\n",
       "      <td>4.99</td>\n",
       "    </tr>\n",
       "    <tr>\n",
       "      <th>40209</th>\n",
       "      <td>374656616484</td>\n",
       "      <td>2022-10-31 06:17:29</td>\n",
       "      <td>4.99</td>\n",
       "    </tr>\n",
       "    <tr>\n",
       "      <th>40210</th>\n",
       "      <td>168548862926</td>\n",
       "      <td>2022-10-31 22:46:19</td>\n",
       "      <td>4.99</td>\n",
       "    </tr>\n",
       "    <tr>\n",
       "      <th>40211</th>\n",
       "      <td>329994900775</td>\n",
       "      <td>2022-10-31 13:29:06</td>\n",
       "      <td>4.99</td>\n",
       "    </tr>\n",
       "  </tbody>\n",
       "</table>\n",
       "<p>39796 rows × 3 columns</p>\n",
       "</div>"
      ],
      "text/plain": [
       "            User Id             Event Dt  Revenue\n",
       "0      188246423999  2022-05-01 23:09:52     4.99\n",
       "1      174361394180  2022-05-01 12:24:04     4.99\n",
       "2      529610067795  2022-05-01 11:34:04     4.99\n",
       "3      319939546352  2022-05-01 15:34:40     4.99\n",
       "4      366000285810  2022-05-01 13:59:51     4.99\n",
       "...             ...                  ...      ...\n",
       "40207  651604369137  2022-10-31 16:19:07     4.99\n",
       "40208  275341387049  2022-10-31 01:17:17     4.99\n",
       "40209  374656616484  2022-10-31 06:17:29     4.99\n",
       "40210  168548862926  2022-10-31 22:46:19     4.99\n",
       "40211  329994900775  2022-10-31 13:29:06     4.99\n",
       "\n",
       "[39796 rows x 3 columns]"
      ]
     },
     "execution_count": 89,
     "metadata": {},
     "output_type": "execute_result"
    }
   ],
   "source": [
    "orders.drop_duplicates()"
   ]
  },
  {
   "cell_type": "markdown",
   "metadata": {},
   "source": [
    "смотрим на среднее значение для просмотра выбросов"
   ]
  },
  {
   "cell_type": "code",
   "execution_count": 68,
   "metadata": {},
   "outputs": [
    {
     "data": {
      "text/html": [
       "<div>\n",
       "<style scoped>\n",
       "    .dataframe tbody tr th:only-of-type {\n",
       "        vertical-align: middle;\n",
       "    }\n",
       "\n",
       "    .dataframe tbody tr th {\n",
       "        vertical-align: top;\n",
       "    }\n",
       "\n",
       "    .dataframe thead th {\n",
       "        text-align: right;\n",
       "    }\n",
       "</style>\n",
       "<table border=\"1\" class=\"dataframe\">\n",
       "  <thead>\n",
       "    <tr style=\"text-align: right;\">\n",
       "      <th></th>\n",
       "      <th>User Id</th>\n",
       "      <th>Revenue</th>\n",
       "    </tr>\n",
       "  </thead>\n",
       "  <tbody>\n",
       "    <tr>\n",
       "      <th>count</th>\n",
       "      <td>4.021200e+04</td>\n",
       "      <td>40212.000000</td>\n",
       "    </tr>\n",
       "    <tr>\n",
       "      <th>mean</th>\n",
       "      <td>4.990295e+11</td>\n",
       "      <td>5.370608</td>\n",
       "    </tr>\n",
       "    <tr>\n",
       "      <th>std</th>\n",
       "      <td>2.860937e+11</td>\n",
       "      <td>3.454208</td>\n",
       "    </tr>\n",
       "    <tr>\n",
       "      <th>min</th>\n",
       "      <td>5.993260e+05</td>\n",
       "      <td>4.990000</td>\n",
       "    </tr>\n",
       "    <tr>\n",
       "      <th>25%</th>\n",
       "      <td>2.511324e+11</td>\n",
       "      <td>4.990000</td>\n",
       "    </tr>\n",
       "    <tr>\n",
       "      <th>50%</th>\n",
       "      <td>4.982840e+11</td>\n",
       "      <td>4.990000</td>\n",
       "    </tr>\n",
       "    <tr>\n",
       "      <th>75%</th>\n",
       "      <td>7.433327e+11</td>\n",
       "      <td>4.990000</td>\n",
       "    </tr>\n",
       "    <tr>\n",
       "      <th>max</th>\n",
       "      <td>9.998954e+11</td>\n",
       "      <td>49.990000</td>\n",
       "    </tr>\n",
       "  </tbody>\n",
       "</table>\n",
       "</div>"
      ],
      "text/plain": [
       "            User Id       Revenue\n",
       "count  4.021200e+04  40212.000000\n",
       "mean   4.990295e+11      5.370608\n",
       "std    2.860937e+11      3.454208\n",
       "min    5.993260e+05      4.990000\n",
       "25%    2.511324e+11      4.990000\n",
       "50%    4.982840e+11      4.990000\n",
       "75%    7.433327e+11      4.990000\n",
       "max    9.998954e+11     49.990000"
      ]
     },
     "execution_count": 68,
     "metadata": {},
     "output_type": "execute_result"
    }
   ],
   "source": [
    "orders.describe()"
   ]
  },
  {
   "cell_type": "markdown",
   "metadata": {},
   "source": [
    "Удаляем выбросы"
   ]
  },
  {
   "cell_type": "code",
   "execution_count": 72,
   "metadata": {},
   "outputs": [
    {
     "name": "stdout",
     "output_type": "stream",
     "text": [
      "            User Id             Event Dt  Revenue\n",
      "0      188246423999  2022-05-01 23:09:52     4.99\n",
      "1      174361394180  2022-05-01 12:24:04     4.99\n",
      "2      529610067795  2022-05-01 11:34:04     4.99\n",
      "3      319939546352  2022-05-01 15:34:40     4.99\n",
      "4      366000285810  2022-05-01 13:59:51     4.99\n",
      "...             ...                  ...      ...\n",
      "40207  651604369137  2022-10-31 16:19:07     4.99\n",
      "40208  275341387049  2022-10-31 01:17:17     4.99\n",
      "40209  374656616484  2022-10-31 06:17:29     4.99\n",
      "40210  168548862926  2022-10-31 22:46:19     4.99\n",
      "40211  329994900775  2022-10-31 13:29:06     4.99\n",
      "\n",
      "[39796 rows x 3 columns]\n"
     ]
    }
   ],
   "source": [
    "orders = orders.loc[orders['Revenue'] <= 15]\n",
    " \n",
    "print(orders)"
   ]
  },
  {
   "cell_type": "markdown",
   "metadata": {},
   "source": [
    "смотрим опять"
   ]
  },
  {
   "cell_type": "code",
   "execution_count": 73,
   "metadata": {},
   "outputs": [
    {
     "data": {
      "text/html": [
       "<div>\n",
       "<style scoped>\n",
       "    .dataframe tbody tr th:only-of-type {\n",
       "        vertical-align: middle;\n",
       "    }\n",
       "\n",
       "    .dataframe tbody tr th {\n",
       "        vertical-align: top;\n",
       "    }\n",
       "\n",
       "    .dataframe thead th {\n",
       "        text-align: right;\n",
       "    }\n",
       "</style>\n",
       "<table border=\"1\" class=\"dataframe\">\n",
       "  <thead>\n",
       "    <tr style=\"text-align: right;\">\n",
       "      <th></th>\n",
       "      <th>User Id</th>\n",
       "      <th>Revenue</th>\n",
       "    </tr>\n",
       "  </thead>\n",
       "  <tbody>\n",
       "    <tr>\n",
       "      <th>count</th>\n",
       "      <td>3.979600e+04</td>\n",
       "      <td>39796.000000</td>\n",
       "    </tr>\n",
       "    <tr>\n",
       "      <th>mean</th>\n",
       "      <td>4.989206e+11</td>\n",
       "      <td>5.057972</td>\n",
       "    </tr>\n",
       "    <tr>\n",
       "      <th>std</th>\n",
       "      <td>2.861736e+11</td>\n",
       "      <td>0.506799</td>\n",
       "    </tr>\n",
       "    <tr>\n",
       "      <th>min</th>\n",
       "      <td>5.993260e+05</td>\n",
       "      <td>4.990000</td>\n",
       "    </tr>\n",
       "    <tr>\n",
       "      <th>25%</th>\n",
       "      <td>2.507097e+11</td>\n",
       "      <td>4.990000</td>\n",
       "    </tr>\n",
       "    <tr>\n",
       "      <th>50%</th>\n",
       "      <td>4.980662e+11</td>\n",
       "      <td>4.990000</td>\n",
       "    </tr>\n",
       "    <tr>\n",
       "      <th>75%</th>\n",
       "      <td>7.431993e+11</td>\n",
       "      <td>4.990000</td>\n",
       "    </tr>\n",
       "    <tr>\n",
       "      <th>max</th>\n",
       "      <td>9.998954e+11</td>\n",
       "      <td>9.990000</td>\n",
       "    </tr>\n",
       "  </tbody>\n",
       "</table>\n",
       "</div>"
      ],
      "text/plain": [
       "            User Id       Revenue\n",
       "count  3.979600e+04  39796.000000\n",
       "mean   4.989206e+11      5.057972\n",
       "std    2.861736e+11      0.506799\n",
       "min    5.993260e+05      4.990000\n",
       "25%    2.507097e+11      4.990000\n",
       "50%    4.980662e+11      4.990000\n",
       "75%    7.431993e+11      4.990000\n",
       "max    9.998954e+11      9.990000"
      ]
     },
     "execution_count": 73,
     "metadata": {},
     "output_type": "execute_result"
    }
   ],
   "source": [
    "orders.describe()"
   ]
  },
  {
   "cell_type": "markdown",
   "metadata": {},
   "source": [
    "## visitation"
   ]
  },
  {
   "cell_type": "markdown",
   "metadata": {},
   "source": [
    "смотрим на данные"
   ]
  },
  {
   "cell_type": "code",
   "execution_count": 74,
   "metadata": {},
   "outputs": [
    {
     "data": {
      "text/html": [
       "<div>\n",
       "<style scoped>\n",
       "    .dataframe tbody tr th:only-of-type {\n",
       "        vertical-align: middle;\n",
       "    }\n",
       "\n",
       "    .dataframe tbody tr th {\n",
       "        vertical-align: top;\n",
       "    }\n",
       "\n",
       "    .dataframe thead th {\n",
       "        text-align: right;\n",
       "    }\n",
       "</style>\n",
       "<table border=\"1\" class=\"dataframe\">\n",
       "  <thead>\n",
       "    <tr style=\"text-align: right;\">\n",
       "      <th></th>\n",
       "      <th>User Id</th>\n",
       "      <th>Region</th>\n",
       "      <th>Device</th>\n",
       "      <th>Channel</th>\n",
       "      <th>Session Start</th>\n",
       "      <th>Session End</th>\n",
       "    </tr>\n",
       "  </thead>\n",
       "  <tbody>\n",
       "    <tr>\n",
       "      <th>0</th>\n",
       "      <td>981449118918</td>\n",
       "      <td>Russia</td>\n",
       "      <td>iPhone</td>\n",
       "      <td>organic</td>\n",
       "      <td>2022-05-01 02:36:01</td>\n",
       "      <td>2022-05-01 02:45:01</td>\n",
       "    </tr>\n",
       "    <tr>\n",
       "      <th>1</th>\n",
       "      <td>278965908054</td>\n",
       "      <td>Russia</td>\n",
       "      <td>iPhone</td>\n",
       "      <td>organic</td>\n",
       "      <td>2022-05-01 04:46:31</td>\n",
       "      <td>2022-05-01 04:47:35</td>\n",
       "    </tr>\n",
       "    <tr>\n",
       "      <th>2</th>\n",
       "      <td>590706206550</td>\n",
       "      <td>Russia</td>\n",
       "      <td>Mac</td>\n",
       "      <td>organic</td>\n",
       "      <td>2022-05-01 14:09:25</td>\n",
       "      <td>2022-05-01 15:32:08</td>\n",
       "    </tr>\n",
       "    <tr>\n",
       "      <th>3</th>\n",
       "      <td>326433527971</td>\n",
       "      <td>Russia</td>\n",
       "      <td>Android</td>\n",
       "      <td>TipTop</td>\n",
       "      <td>2022-05-01 00:29:59</td>\n",
       "      <td>2022-05-01 00:54:25</td>\n",
       "    </tr>\n",
       "    <tr>\n",
       "      <th>4</th>\n",
       "      <td>349773784594</td>\n",
       "      <td>Russia</td>\n",
       "      <td>Mac</td>\n",
       "      <td>organic</td>\n",
       "      <td>2022-05-01 03:33:35</td>\n",
       "      <td>2022-05-01 03:57:40</td>\n",
       "    </tr>\n",
       "    <tr>\n",
       "      <th>...</th>\n",
       "      <td>...</td>\n",
       "      <td>...</td>\n",
       "      <td>...</td>\n",
       "      <td>...</td>\n",
       "      <td>...</td>\n",
       "      <td>...</td>\n",
       "    </tr>\n",
       "    <tr>\n",
       "      <th>309896</th>\n",
       "      <td>329994900775</td>\n",
       "      <td>Turkey</td>\n",
       "      <td>PC</td>\n",
       "      <td>LeapBob</td>\n",
       "      <td>2022-10-31 13:28:12</td>\n",
       "      <td>2022-10-31 14:39:29</td>\n",
       "    </tr>\n",
       "    <tr>\n",
       "      <th>309897</th>\n",
       "      <td>334903592310</td>\n",
       "      <td>Thailand</td>\n",
       "      <td>PC</td>\n",
       "      <td>lambdaMediaAds</td>\n",
       "      <td>2022-10-31 22:14:52</td>\n",
       "      <td>2022-10-31 22:39:36</td>\n",
       "    </tr>\n",
       "    <tr>\n",
       "      <th>309898</th>\n",
       "      <td>540102010126</td>\n",
       "      <td>China</td>\n",
       "      <td>PC</td>\n",
       "      <td>organic</td>\n",
       "      <td>2022-10-31 01:40:48</td>\n",
       "      <td>2022-10-31 01:41:31</td>\n",
       "    </tr>\n",
       "    <tr>\n",
       "      <th>309899</th>\n",
       "      <td>308736936846</td>\n",
       "      <td>China</td>\n",
       "      <td>Mac</td>\n",
       "      <td>organic</td>\n",
       "      <td>2022-10-31 07:37:34</td>\n",
       "      <td>2022-10-31 07:37:55</td>\n",
       "    </tr>\n",
       "    <tr>\n",
       "      <th>309900</th>\n",
       "      <td>109329042535</td>\n",
       "      <td>China</td>\n",
       "      <td>PC</td>\n",
       "      <td>lambdaMediaAds</td>\n",
       "      <td>2022-10-31 14:17:43</td>\n",
       "      <td>2022-10-31 15:17:04</td>\n",
       "    </tr>\n",
       "  </tbody>\n",
       "</table>\n",
       "<p>309901 rows × 6 columns</p>\n",
       "</div>"
      ],
      "text/plain": [
       "             User Id    Region   Device         Channel        Session Start  \\\n",
       "0       981449118918    Russia   iPhone         organic  2022-05-01 02:36:01   \n",
       "1       278965908054    Russia   iPhone         organic  2022-05-01 04:46:31   \n",
       "2       590706206550    Russia      Mac         organic  2022-05-01 14:09:25   \n",
       "3       326433527971    Russia  Android          TipTop  2022-05-01 00:29:59   \n",
       "4       349773784594    Russia      Mac         organic  2022-05-01 03:33:35   \n",
       "...              ...       ...      ...             ...                  ...   \n",
       "309896  329994900775    Turkey       PC         LeapBob  2022-10-31 13:28:12   \n",
       "309897  334903592310  Thailand       PC  lambdaMediaAds  2022-10-31 22:14:52   \n",
       "309898  540102010126     China       PC         organic  2022-10-31 01:40:48   \n",
       "309899  308736936846     China      Mac         organic  2022-10-31 07:37:34   \n",
       "309900  109329042535     China       PC  lambdaMediaAds  2022-10-31 14:17:43   \n",
       "\n",
       "                Session End  \n",
       "0       2022-05-01 02:45:01  \n",
       "1       2022-05-01 04:47:35  \n",
       "2       2022-05-01 15:32:08  \n",
       "3       2022-05-01 00:54:25  \n",
       "4       2022-05-01 03:57:40  \n",
       "...                     ...  \n",
       "309896  2022-10-31 14:39:29  \n",
       "309897  2022-10-31 22:39:36  \n",
       "309898  2022-10-31 01:41:31  \n",
       "309899  2022-10-31 07:37:55  \n",
       "309900  2022-10-31 15:17:04  \n",
       "\n",
       "[309901 rows x 6 columns]"
      ]
     },
     "execution_count": 74,
     "metadata": {},
     "output_type": "execute_result"
    }
   ],
   "source": [
    "visitation"
   ]
  },
  {
   "cell_type": "markdown",
   "metadata": {},
   "source": [
    "смотрим на пустые значения"
   ]
  },
  {
   "cell_type": "code",
   "execution_count": 75,
   "metadata": {},
   "outputs": [
    {
     "name": "stdout",
     "output_type": "stream",
     "text": [
      "<class 'pandas.core.frame.DataFrame'>\n",
      "RangeIndex: 309901 entries, 0 to 309900\n",
      "Data columns (total 6 columns):\n",
      " #   Column         Non-Null Count   Dtype \n",
      "---  ------         --------------   ----- \n",
      " 0   User Id        309901 non-null  int64 \n",
      " 1   Region         309901 non-null  object\n",
      " 2   Device         309901 non-null  object\n",
      " 3   Channel        309901 non-null  object\n",
      " 4   Session Start  309901 non-null  object\n",
      " 5   Session End    309901 non-null  object\n",
      "dtypes: int64(1), object(5)\n",
      "memory usage: 14.2+ MB\n"
     ]
    }
   ],
   "source": [
    "visitation.info()"
   ]
  },
  {
   "cell_type": "markdown",
   "metadata": {},
   "source": [
    "смотрим на среднее значение "
   ]
  },
  {
   "cell_type": "code",
   "execution_count": 76,
   "metadata": {},
   "outputs": [
    {
     "data": {
      "text/html": [
       "<div>\n",
       "<style scoped>\n",
       "    .dataframe tbody tr th:only-of-type {\n",
       "        vertical-align: middle;\n",
       "    }\n",
       "\n",
       "    .dataframe tbody tr th {\n",
       "        vertical-align: top;\n",
       "    }\n",
       "\n",
       "    .dataframe thead th {\n",
       "        text-align: right;\n",
       "    }\n",
       "</style>\n",
       "<table border=\"1\" class=\"dataframe\">\n",
       "  <thead>\n",
       "    <tr style=\"text-align: right;\">\n",
       "      <th></th>\n",
       "      <th>User Id</th>\n",
       "    </tr>\n",
       "  </thead>\n",
       "  <tbody>\n",
       "    <tr>\n",
       "      <th>count</th>\n",
       "      <td>3.099010e+05</td>\n",
       "    </tr>\n",
       "    <tr>\n",
       "      <th>mean</th>\n",
       "      <td>4.997664e+11</td>\n",
       "    </tr>\n",
       "    <tr>\n",
       "      <th>std</th>\n",
       "      <td>2.887899e+11</td>\n",
       "    </tr>\n",
       "    <tr>\n",
       "      <th>min</th>\n",
       "      <td>5.993260e+05</td>\n",
       "    </tr>\n",
       "    <tr>\n",
       "      <th>25%</th>\n",
       "      <td>2.493691e+11</td>\n",
       "    </tr>\n",
       "    <tr>\n",
       "      <th>50%</th>\n",
       "      <td>4.989906e+11</td>\n",
       "    </tr>\n",
       "    <tr>\n",
       "      <th>75%</th>\n",
       "      <td>7.495211e+11</td>\n",
       "    </tr>\n",
       "    <tr>\n",
       "      <th>max</th>\n",
       "      <td>9.999996e+11</td>\n",
       "    </tr>\n",
       "  </tbody>\n",
       "</table>\n",
       "</div>"
      ],
      "text/plain": [
       "            User Id\n",
       "count  3.099010e+05\n",
       "mean   4.997664e+11\n",
       "std    2.887899e+11\n",
       "min    5.993260e+05\n",
       "25%    2.493691e+11\n",
       "50%    4.989906e+11\n",
       "75%    7.495211e+11\n",
       "max    9.999996e+11"
      ]
     },
     "execution_count": 76,
     "metadata": {},
     "output_type": "execute_result"
    }
   ],
   "source": [
    "visitation.describe()"
   ]
  },
  {
   "cell_type": "markdown",
   "metadata": {},
   "source": [
    "выбросов нет"
   ]
  },
  {
   "cell_type": "markdown",
   "metadata": {},
   "source": [
    "Сохраняем датафрейм "
   ]
  },
  {
   "cell_type": "code",
   "execution_count": 77,
   "metadata": {},
   "outputs": [],
   "source": [
    "exoenses.to_csv('expenses_new.csv',index=False)\n",
    "orders.to_csv('orders_new.csv',index=False)\n",
    "visitation.to_csv('visitation_new.csv',index=False)"
   ]
  },
  {
   "cell_type": "markdown",
   "metadata": {},
   "source": [
    "Загружаем их в Databases"
   ]
  },
  {
   "cell_type": "markdown",
   "metadata": {},
   "source": [
    "# 1.3 Задание функций расчета ключевых показателей"
   ]
  },
  {
   "cell_type": "markdown",
   "metadata": {},
   "source": [
    "Сделаем функцию kall который будет формировать dataframe который включает поля: дата и время начала сессии при первом\n",
    "посещении каждого пользователя, устройство, регион, рекламный источник,дате первого посещения и о\n",
    "средней стоимости привлечения пользователей в день."
   ]
  },
  {
   "cell_type": "code",
   "execution_count": 103,
   "metadata": {},
   "outputs": [],
   "source": [
    "def kall():\n",
    "    exoenses1 = exoenses.drop(columns=['Channel'])\n",
    "    exoenses2 = exoenses1.drop(columns=['dt'])\n",
    "    visitation1 = pd.concat([visitation, exoenses2], axis=1)\n",
    "    vis = visitation1.fillna(0)\n",
    "    vis"
   ]
  },
  {
   "cell_type": "markdown",
   "metadata": {},
   "source": [
    "# 1.4 Подготовка отчета"
   ]
  },
  {
   "cell_type": "markdown",
   "metadata": {},
   "source": [
    "В результате этой сессии почти все задачи были выполнены\n",
    "\n",
    "1.1 Загрузка данных\n",
    "- Была создана база данных Users, содержащая структуру, согласно исходным файлам.\n",
    "Выполнено подключение к базе данных Users. Извлечено необходимые для\n",
    "исследования данные из базы данных (visitation, orders, expenses).\n",
    "Предусмотрена обработка исключений при загрузке данных.\n",
    "Все данные представлены в виде DataFrame — объекта для\n",
    "представления табличных данных в Pandas.\n",
    "\n",
    "1.2 Предварительная обработка данных\n",
    "- Выполнена предварительная обработка загруженных данных. Произведен анализ\n",
    "и обработка пропусков, дубликатов, аномальных значений. Приведены данные к\n",
    "приемлемому формату. Сохранены данные в формате csv и обновлены данные в\n",
    "используемой базе данных для дальнейшего исследования.\n",
    "\n",
    "1.3 Задание функций расчета ключевых показателей\n",
    "- Задана функция для формирования набора данных с профилями пользователей.\n",
    "Набор включает поля: дата и время начала сессии при первом\n",
    "посещении каждого пользователя, устройство, регион, рекламный источник,дата первого посещения и о\n",
    "средней стоимости привлечения пользователей в день.\n",
    "Определена функция для расчёта прибыли от клиентов и коэффициента\n",
    "окупаемости вложений (LTV, ROI), расчёта удержания и конверсии.\n",
    "\n",
    "1.4 Подготовка отчета\n",
    "- Был подготовлен отчет о проделанной работе по итогам сессии, в котором\n",
    "представлены результаты, выводы и обоснования выбора по каждому разделу\n",
    "задания. Результаты работы состоят из отчетов в форматах: .ipynb и\n",
    ".html, а также исходников с возможностью перекомпиляции. Архив Data.zip\n",
    "содержит все результаты выполнения модуля, а также все необходимые\n",
    "файлы для запуска и проверки участков кода. В файле Readme.txt\n",
    "описано содержимое результирующих файлов архива Data.zip."
   ]
  }
 ],
 "metadata": {
  "kernelspec": {
   "display_name": ".venv",
   "language": "python",
   "name": "python3"
  },
  "language_info": {
   "codemirror_mode": {
    "name": "ipython",
    "version": 3
   },
   "file_extension": ".py",
   "mimetype": "text/x-python",
   "name": "python",
   "nbconvert_exporter": "python",
   "pygments_lexer": "ipython3",
   "version": "3.11.7"
  }
 },
 "nbformat": 4,
 "nbformat_minor": 2
}
